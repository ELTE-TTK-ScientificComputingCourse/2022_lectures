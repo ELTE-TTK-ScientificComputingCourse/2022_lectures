{
 "cells": [
  {
   "cell_type": "markdown",
   "id": "f9a32526",
   "metadata": {},
   "source": [
    "A következő feladatok azoknak szólnak, akik számára nem jelent kihívást a reguláris óra anyaga."
   ]
  },
  {
   "cell_type": "markdown",
   "id": "ff78dfd9",
   "metadata": {},
   "source": [
    "#### A megadott fájlban melyik sornak felel meg a legnagyobb szám?\n",
    "\n",
    "A mellékelt `data/bases_and_exponents.txt` fájlban minden sorban két pozitív egész szám szerepel, vesszővel elválasztva, például az első sorban az áll, hogy\n",
    "```\n",
    "519432,525806\n",
    "```\n",
    "\n",
    "Ez azt jelenti, hogy a szám, amiről szó van az $519432^{525806}$, azaz az első szám az alap, a második a kitevő. Mi annak a sornak az (1-alapú) indexe, amelyik a legnagyobb számnak felel meg?"
   ]
  },
  {
   "cell_type": "markdown",
   "id": "313842f2",
   "metadata": {},
   "source": [
    "#### Szuperképességű királynők a sakktáblán\n",
    "\n",
    "\n",
    "Tegyük fel, hogy létezik egy olyan sakkfigura, ami egyesíti egy királynő (vezér) és egy ló (huszár) tulajdonságait, azaz a vele azonos sorban, vagy azonos oszlopban vagy azonos átlóban álló figurákat üti, emellett L-alakban is tud ütni, mint egy ló.\n",
    "\n",
    "Ha van egy $n\\times n$-es sakktáblánk, ahol $8\\leq n < 15$, akkor hányféleképpen tudunk letenni $n$ szuperkirálynőt erre a táblára úgy, hogy azok ne üssék egymást?\n",
    "\n",
    "Példa. Ha $n=10$, akkor $4$-féleképpen lehet letenni $10$ szuperkirálynőt a táblára. \n",
    "\n",
    "Egy lehetséges elhelyezés: `(10, 8), (9, 5), (8, 2), (7, 10), (6, 7), (5, 4), (4, 1), (3, 9), (2, 6), (1, 3)`,\n",
    "ahol az első elem a sorindex $1$ és $10$ között, a második az oszlopindex. A többi lehetséges elhelyezés:\n",
    "\n",
    "`(10,7), (9,3), (8,10), (7,6), (6,2), (5,9), (4,5), (3,1), (2,8), (1,4)`, \n",
    "\n",
    "`(10,4), (9,8), (8,1), (7,5), (6,9), (5,2), (4,6), (3,10), (2,3), (1,7)`, \n",
    "\n",
    "`(10,3), (9,6), (8,9), (7,1), (6,4), (5,7), (4,10), (3,2), (2,5), (1,8)`\n",
    "\n",
    "(A forgatással és/vagy tükrözéssel kapott elrendezéseket is mind különbözőeknek tekintjük.)"
   ]
  },
  {
   "cell_type": "code",
   "execution_count": null,
   "id": "7fe4048a",
   "metadata": {},
   "outputs": [],
   "source": []
  }
 ],
 "metadata": {
  "kernelspec": {
   "display_name": "Python 3 (ipykernel)",
   "language": "python",
   "name": "python3"
  },
  "language_info": {
   "codemirror_mode": {
    "name": "ipython",
    "version": 3
   },
   "file_extension": ".py",
   "mimetype": "text/x-python",
   "name": "python",
   "nbconvert_exporter": "python",
   "pygments_lexer": "ipython3",
   "version": "3.9.12"
  }
 },
 "nbformat": 4,
 "nbformat_minor": 5
}
