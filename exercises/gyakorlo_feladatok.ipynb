{
 "cells": [
  {
   "cell_type": "markdown",
   "id": "79e8b368",
   "metadata": {},
   "source": [
    "Az alábbi feladatok megoldásához írjunk egy függvényt, amely a megadott inputra kiszámolja a helyes eredményt."
   ]
  },
  {
   "cell_type": "markdown",
   "id": "fb1e3925",
   "metadata": {},
   "source": [
    "#### Adott egy számokat tartalmazó lista, számoljuk ki a pozitív elemek összegét."
   ]
  },
  {
   "cell_type": "code",
   "execution_count": null,
   "id": "61064666",
   "metadata": {},
   "outputs": [],
   "source": [
    "def sum_of_positive_elements(lst):\n",
    "    pass"
   ]
  },
  {
   "cell_type": "markdown",
   "id": "6065e139",
   "metadata": {},
   "source": [
    "#### Adott ascii-karakterekből álló stringben számoljuk meg a magánhangzók számát (magánhangzó alatt az `a, e, i, o, u` betűket értjük). A string tartalmazhat kis- és nagybetűket is."
   ]
  },
  {
   "cell_type": "code",
   "execution_count": null,
   "id": "80629187",
   "metadata": {},
   "outputs": [],
   "source": [
    "def count_vowels(s):\n",
    "    pass"
   ]
  },
  {
   "cell_type": "markdown",
   "id": "113c0529",
   "metadata": {},
   "source": [
    "#### Adott egy számokat tartalmazó lista és egy $n\\in\\mathbb{N}$ szám. Számoljuk ki a lista $n$-edik elemének $n$-edik hatványát. Ha a listának nincs $n$ eleme, akkor adjunk vissza `None`-t."
   ]
  },
  {
   "cell_type": "code",
   "execution_count": null,
   "id": "0b51d394",
   "metadata": {},
   "outputs": [],
   "source": [
    "def nth_power_of_nth_element(lst, n):\n",
    "    pass"
   ]
  },
  {
   "cell_type": "markdown",
   "id": "8d4f08e9",
   "metadata": {},
   "source": [
    "#### Adott $n$-re mennyi az $1 \\leq k \\leq n$, 3-mal vagy 5-tel osztható $k$ számok összege?"
   ]
  },
  {
   "cell_type": "code",
   "execution_count": null,
   "id": "f044bd1c",
   "metadata": {},
   "outputs": [],
   "source": [
    "def sum_of_numbers(n):\n",
    "    pass"
   ]
  },
  {
   "cell_type": "markdown",
   "id": "59e5fd85",
   "metadata": {},
   "source": [
    "#### Adott $n$ természetes szám esetén állítsuk elő azt a stringet, amit ha kiprintelünk, akkor egy $n\\times n$-es, \"+\"-karakterekből álló négyzetet kapunk. \n",
    "\n",
    "Például $n=3$-ra egy olyan `s` string az eredmény, hogy `print(s)` az alábbi alakzatot eredményezi:\n",
    "\n",
    "```\n",
    "+++\n",
    "+++\n",
    "+++\n",
    "```"
   ]
  },
  {
   "cell_type": "code",
   "execution_count": null,
   "id": "fc73a9d6",
   "metadata": {},
   "outputs": [],
   "source": [
    "def create_square_string(n):\n",
    "    pass"
   ]
  },
  {
   "cell_type": "markdown",
   "id": "716eedbb",
   "metadata": {},
   "source": [
    "#### Gyűjtsük ki egy adott lista különböző elemeit egy másik listába, az előfordulásuk sorrendjében."
   ]
  },
  {
   "cell_type": "code",
   "execution_count": null,
   "id": "7794206a",
   "metadata": {},
   "outputs": [],
   "source": [
    "def unique_elements(lst):\n",
    "    pass"
   ]
  },
  {
   "cell_type": "markdown",
   "id": "9aa3ce97",
   "metadata": {},
   "source": [
    "#### Adott $n$-re és két megadott $a$ és $b$ karakterre készítsül el azt az $n$ hosszúságú stringet, amely felváltva a két megadott karakterből áll. \n",
    "\n",
    "Például ha $n=5$ és $a=$\"x\", $b=$\"y\", akkor az eredmény az \"xyxyx\" string."
   ]
  },
  {
   "cell_type": "code",
   "execution_count": null,
   "id": "d41d018a",
   "metadata": {},
   "outputs": [],
   "source": [
    "def alternate(a, b, n):\n",
    "    pass"
   ]
  },
  {
   "cell_type": "markdown",
   "id": "92d6c2fd",
   "metadata": {},
   "source": [
    "#### Adott függvények egy $fs = [f_1, f_2,\\ldots,f_n]$ listája, valamint egy $x$ szám. Írjuk meg az a függvényt, amely ezt a két inputot várja és amit visszaad, az az $f_n(\\ldots f_2(f_1(x))\\ldots)$.\n",
    "\n",
    "Például ha $f_1(x) = x + 1$ és $f_2(x) = 2x$, akkor az $x_0 = 1$-re az eredmény $f_2(f_1(1)) = 4$."
   ]
  },
  {
   "cell_type": "code",
   "execution_count": null,
   "id": "04f356a2",
   "metadata": {},
   "outputs": [],
   "source": [
    "def chain_functions(fs, x):\n",
    "    pass"
   ]
  },
  {
   "cell_type": "markdown",
   "id": "ad859643",
   "metadata": {},
   "source": [
    "#### Mennyi a $2^{1000}$ számjegyeinek összege?"
   ]
  },
  {
   "cell_type": "code",
   "execution_count": null,
   "id": "789ba16c",
   "metadata": {},
   "outputs": [],
   "source": [
    "def digit_sum():\n",
    "    pass"
   ]
  },
  {
   "cell_type": "markdown",
   "id": "60748ee4",
   "metadata": {},
   "source": [
    "#### Adott két string, döntsük el, hogy van-e közös substringjük. \n",
    "\n",
    "Substring alatt egy adott stringben levő **egymást követő** karakterek egy sorozatát értjük. Például a `\"cat\"` és `\"data\"` stringeknek egy közös substringje az, hogy `\"at\"`. A `\"cats and mules\"` és a `\"dog\"` stringeknek nincs közös substringje."
   ]
  },
  {
   "cell_type": "code",
   "execution_count": null,
   "id": "4a18dcaa",
   "metadata": {},
   "outputs": [],
   "source": [
    "def has_common_substring(s1, s2):\n",
    "    pass"
   ]
  },
  {
   "cell_type": "markdown",
   "id": "5811ed7c",
   "metadata": {},
   "source": [
    "#### Kirakható-e a zsaroló üzenet egy újságpapír cikkéből?\n",
    "\n",
    "Adott egy újságcikk (`article`: egy string), amelynek szavaiból a zsaroló ki akarja rakni az üzenetét (`ransom_note`: egy másik string). Döntsük el, hogy a cikk szavaiból ki lehetett-e rakni az üzenetet, vagy sem. Mindkét string szóközökkel elválasztott szavakat tartalmaz.\n",
    "\n",
    "Példa:\n",
    "\n",
    "`article`: \"ive got a lovely bunch of coconuts and bananas\"\\\n",
    "`ransom_note1`: \"ive got some coconuts\"\\\n",
    "`ransom_note2`: \"ive got coconuts and bananas and lovely\"\\\n",
    "`ransom_note3`: \"lovely bunch of bananas\"\n",
    "\n",
    "Az első nem lehetséges (a `some` szó nincs a cikkben), a második sem (az `and` szó a cikkben csak egyszer szerepel, az üzenetben kétszer), de a harmadik kirakható a cikkből."
   ]
  },
  {
   "cell_type": "code",
   "execution_count": null,
   "id": "25d3fac0",
   "metadata": {},
   "outputs": [],
   "source": [
    "def is_possible_ransom_note(article, ransom_note):\n",
    "    pass"
   ]
  }
 ],
 "metadata": {
  "kernelspec": {
   "display_name": "Python 3 (ipykernel)",
   "language": "python",
   "name": "python3"
  },
  "language_info": {
   "codemirror_mode": {
    "name": "ipython",
    "version": 3
   },
   "file_extension": ".py",
   "mimetype": "text/x-python",
   "name": "python",
   "nbconvert_exporter": "python",
   "pygments_lexer": "ipython3",
   "version": "3.9.12"
  }
 },
 "nbformat": 4,
 "nbformat_minor": 5
}
