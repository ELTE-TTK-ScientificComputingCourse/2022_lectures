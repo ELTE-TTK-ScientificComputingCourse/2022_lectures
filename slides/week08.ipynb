{
 "cells": [
  {
   "cell_type": "markdown",
   "id": "f7517666",
   "metadata": {
    "slideshow": {
     "slide_type": "slide"
    }
   },
   "source": [
    "# Lineáris algebra és alkalmazásai (Linear algebra and its applications)"
   ]
  },
  {
   "cell_type": "code",
   "execution_count": null,
   "id": "c59421c4",
   "metadata": {
    "slideshow": {
     "slide_type": "subslide"
    }
   },
   "outputs": [],
   "source": [
    "import numpy as np"
   ]
  },
  {
   "cell_type": "markdown",
   "id": "55ebb98f",
   "metadata": {
    "slideshow": {
     "slide_type": "subslide"
    }
   },
   "source": [
    "### Egyszerűbb statisztikai függvények"
   ]
  },
  {
   "cell_type": "code",
   "execution_count": null,
   "id": "305fccd7",
   "metadata": {
    "slideshow": {
     "slide_type": "subslide"
    }
   },
   "outputs": [],
   "source": [
    "v = np.array([1, 4, 3, 5, 35, 0, -1, 2])\n",
    "\n",
    "v"
   ]
  },
  {
   "cell_type": "markdown",
   "id": "4410e75d",
   "metadata": {
    "slideshow": {
     "slide_type": "subslide"
    }
   },
   "source": [
    "$$\n",
    "\\overline v \\equiv \\text{mean}(v) = \\frac{\\sum_{i=1}^n v_i}{n}\n",
    "$$\n",
    "\n",
    "\n",
    "$$\n",
    "\\text{std}(v) = \\sqrt{\\frac{\\sum_{i=1}^n (v_i - \\overline{v})^2}{n}}\n",
    "$$"
   ]
  },
  {
   "cell_type": "code",
   "execution_count": null,
   "id": "a7e0c7a4",
   "metadata": {
    "slideshow": {
     "slide_type": "subslide"
    }
   },
   "outputs": [],
   "source": [
    "print(v)\n",
    "\n",
    "print(f\"összeg: {np.sum(v)}\")\n",
    "\n",
    "print(f\"átlag: {np.mean(v)}\")\n",
    "\n",
    "print(f\"medián: {np.median(v)}\")\n",
    "\n",
    "print(f\"szórás: {np.std(v)}\")\n",
    "\n",
    "print(f\"szórásnégyzet (variancia): {np.var(v)}\")"
   ]
  },
  {
   "cell_type": "code",
   "execution_count": null,
   "id": "c63540ec",
   "metadata": {
    "slideshow": {
     "slide_type": "subslide"
    }
   },
   "outputs": [],
   "source": [
    "A = np.array([\n",
    "    [1, 2, 3],\n",
    "    [10, 11, 12],\n",
    "    [0, 3, 1],\n",
    "    [10, -5, 1]\n",
    "])\n",
    "\n",
    "A"
   ]
  },
  {
   "cell_type": "code",
   "execution_count": null,
   "id": "40b46803",
   "metadata": {
    "slideshow": {
     "slide_type": "fragment"
    }
   },
   "outputs": [],
   "source": [
    "# A.sum()\n",
    "\n",
    "np.sum(A)"
   ]
  },
  {
   "cell_type": "code",
   "execution_count": null,
   "id": "4946a4d4",
   "metadata": {
    "slideshow": {
     "slide_type": "fragment"
    }
   },
   "outputs": [],
   "source": [
    "# Elemek abszolútértékeinek összege\n",
    "\n",
    "np.sum(np.abs(A))"
   ]
  },
  {
   "cell_type": "code",
   "execution_count": null,
   "id": "05017246",
   "metadata": {
    "slideshow": {
     "slide_type": "fragment"
    }
   },
   "outputs": [],
   "source": [
    "# elemek átlaga\n",
    "\n",
    "np.mean(A)"
   ]
  },
  {
   "cell_type": "code",
   "execution_count": null,
   "id": "83667f61",
   "metadata": {
    "slideshow": {
     "slide_type": "subslide"
    }
   },
   "outputs": [],
   "source": [
    "# elemek szórása\n",
    "\n",
    "np.std(A)"
   ]
  },
  {
   "cell_type": "code",
   "execution_count": null,
   "id": "b3a25f27",
   "metadata": {
    "slideshow": {
     "slide_type": "fragment"
    }
   },
   "outputs": [],
   "source": [
    "# elemek szórásnégyzete\n",
    "\n",
    "np.var(A)"
   ]
  },
  {
   "cell_type": "markdown",
   "id": "aa2dd869",
   "metadata": {
    "slideshow": {
     "slide_type": "subslide"
    }
   },
   "source": [
    "Többdimenziós tömböknél azonban érdekelhet minket a sorösszeg / oszlopösszeg, a sorátlag / oszlopátlag, stb. is."
   ]
  },
  {
   "cell_type": "code",
   "execution_count": null,
   "id": "9f5e6226",
   "metadata": {
    "slideshow": {
     "slide_type": "fragment"
    }
   },
   "outputs": [],
   "source": [
    "print(A.shape)\n",
    "\n",
    "# ez tehát az oszlopösszeg\n",
    "np.sum(A, axis=0)"
   ]
  },
  {
   "cell_type": "code",
   "execution_count": null,
   "id": "d3d65b19",
   "metadata": {
    "slideshow": {
     "slide_type": "fragment"
    }
   },
   "outputs": [],
   "source": [
    "print(np.sum(A[1, :]))\n",
    "\n",
    "# ez a sorösszeg\n",
    "np.sum(A, axis=1)"
   ]
  },
  {
   "cell_type": "code",
   "execution_count": null,
   "id": "3af3be47",
   "metadata": {
    "slideshow": {
     "slide_type": "subslide"
    }
   },
   "outputs": [],
   "source": [
    "# A keletkező vektor egyik dimenziója azonban eltűnt, a sorösszeg egy 1-dimenziós vektor lett\n",
    "\n",
    "row_sums = np.sum(A, axis=1, keepdims=True)\n",
    "\n",
    "print(row_sums.shape)\n",
    "\n",
    "row_sums"
   ]
  },
  {
   "cell_type": "code",
   "execution_count": null,
   "id": "ac05e719",
   "metadata": {
    "slideshow": {
     "slide_type": "subslide"
    }
   },
   "outputs": [],
   "source": [
    "# Hasonlóan, oszlopátlagot is számolhatunk\n",
    "\n",
    "np.mean(A, axis=0)"
   ]
  },
  {
   "cell_type": "code",
   "execution_count": null,
   "id": "da6e0968",
   "metadata": {
    "slideshow": {
     "slide_type": "subslide"
    }
   },
   "outputs": [],
   "source": [
    "A"
   ]
  },
  {
   "cell_type": "code",
   "execution_count": null,
   "id": "0590d8ca",
   "metadata": {
    "slideshow": {
     "slide_type": "fragment"
    }
   },
   "outputs": [],
   "source": [
    "# melyik tengely mentén rendez a `sort`, ha nem adunk meg semmit?\n",
    "\n",
    "np.sort(A)"
   ]
  },
  {
   "cell_type": "code",
   "execution_count": null,
   "id": "be037f40",
   "metadata": {
    "slideshow": {
     "slide_type": "fragment"
    }
   },
   "outputs": [],
   "source": [
    "np.sort(A, axis=0)"
   ]
  },
  {
   "cell_type": "code",
   "execution_count": null,
   "id": "eaa9aac2",
   "metadata": {
    "slideshow": {
     "slide_type": "subslide"
    }
   },
   "outputs": [],
   "source": [
    "help(np.sort)"
   ]
  },
  {
   "cell_type": "code",
   "execution_count": null,
   "id": "ee0d356e",
   "metadata": {
    "slideshow": {
     "slide_type": "slide"
    }
   },
   "outputs": [],
   "source": [
    "import numpy.linalg as lg"
   ]
  },
  {
   "cell_type": "code",
   "execution_count": null,
   "id": "f0026f20",
   "metadata": {
    "slideshow": {
     "slide_type": "fragment"
    }
   },
   "outputs": [],
   "source": [
    "A = np.array([[2, 4, 1], [2, 6, -1], [1, 5, 2]], dtype=np.float_)\n",
    "\n",
    "b = np.array([4, 10, 2])"
   ]
  },
  {
   "cell_type": "code",
   "execution_count": null,
   "id": "d3d115c4",
   "metadata": {
    "slideshow": {
     "slide_type": "fragment"
    }
   },
   "outputs": [],
   "source": [
    "print(f\"Az A mátrix determinánsa {np.round(lg.det(A), 6)}\")"
   ]
  },
  {
   "cell_type": "code",
   "execution_count": null,
   "id": "f6b6c036",
   "metadata": {
    "slideshow": {
     "slide_type": "subslide"
    }
   },
   "outputs": [],
   "source": [
    "# Az A mátrix inverze\n",
    "\n",
    "lg.inv(A)"
   ]
  },
  {
   "cell_type": "code",
   "execution_count": null,
   "id": "2a5d9536",
   "metadata": {
    "slideshow": {
     "slide_type": "subslide"
    }
   },
   "outputs": [],
   "source": [
    "# Az Ax = b lineáris egyenletrendszer megoldása:\n",
    "\n",
    "x = lg.solve(A, b)\n",
    "\n",
    "x"
   ]
  },
  {
   "cell_type": "code",
   "execution_count": null,
   "id": "441627b4",
   "metadata": {
    "slideshow": {
     "slide_type": "fragment"
    }
   },
   "outputs": [],
   "source": [
    "A @ x"
   ]
  },
  {
   "cell_type": "markdown",
   "id": "8748c32b",
   "metadata": {
    "slideshow": {
     "slide_type": "slide"
    }
   },
   "source": [
    "**Feladat**: Adott két numpy vektor, `a = np.array([1,2,3,2,3,4,3,4,5,6])` és `b = np.array([7,2,10,2,7,4,9,4,9,8])`, állítsuk elő azt a vektort, ami a közös elemeket tartalmazza. (Keressünk numpy függvényeket erre a célra.)\n",
    "\n",
    "\n",
    "**Feladat**: Csináljuk egy $3\\times 3$-mas mátrixot, ami $2$ és $4$ közötti véletlen számokat tartalmaz. (Nézzük meg az `np.random` modul függvényeit.)\n",
    "\n",
    "**Feladat**: Az alábbi mátrix tartalmaz végtelen értékeket is. Töröljük azokat az oszlopokat, amelyekben szerepel végtelen érték. Hogyan kaphatjuk meg azon oszlopok indexeit, amely tartalmaz végtelen értéket?\n",
    "\n",
    "```python\n",
    "A = np.array([\n",
    "    [1,      2,       3, 14], \n",
    "    [2, np.inf,      -4,  0], \n",
    "    [3,      4, -np.inf, -3]\n",
    "])\n",
    "```\n",
    "\n",
    "**Feladat**: Adott mátrixra számoljuk ki minden sorra a sorbeli minimum és maximum értékek hányadosát."
   ]
  },
  {
   "cell_type": "markdown",
   "id": "d6cbafe9",
   "metadata": {
    "slideshow": {
     "slide_type": "slide"
    }
   },
   "source": [
    "# Alkalmazások (Applications)"
   ]
  },
  {
   "cell_type": "markdown",
   "id": "55a08fea",
   "metadata": {
    "slideshow": {
     "slide_type": "subslide"
    }
   },
   "source": [
    "Mátrixok és vektorok a matematika minden ágában előfordulnak, valamint rengeteg alkalmazásuk van:\n",
    "\n",
    "* képfeldolgozás\n",
    "    * képtömörítés, szűrés (blurring, sharpening, etc)\n",
    "    * objektum detekció \n",
    "    * szegmentáció\n",
    "* jelfeldolgozás, idősorok elemzése \n",
    "    * tőzsdei árfolyamok\n",
    "    * vízszintingadozás\n",
    "    * elektrofiziológiai jelek elemzése\n",
    "    * egérmozgás alapján felhasználó azonosítása\n",
    "    * szállodai szobák kihasználtsága\n",
    "    * trendek, szezonalitás vizsgálata\n",
    "\n",
    "Ez a lista lényegében a végtelenségig folytatható."
   ]
  },
  {
   "cell_type": "markdown",
   "id": "ac118828",
   "metadata": {
    "slideshow": {
     "slide_type": "subslide"
    }
   },
   "source": [
    "Azonban akár képekkel, akár idősorokkal dolgozunk, nehéz tájékozódni vizuális segítség nélkül. A Python leggyakrabban használt plot-könyvtára a `matplotlib`, ugyanakkor más, vizuális ábárzolásra használt könyvtár is létezik (a legismertebb alternatívák a `seaborn` vagy a `bokeh`)."
   ]
  },
  {
   "cell_type": "code",
   "execution_count": null,
   "id": "dde01ca9",
   "metadata": {
    "slideshow": {
     "slide_type": "subslide"
    }
   },
   "outputs": [],
   "source": [
    "import matplotlib.image as im\n",
    "import matplotlib.pyplot as plt"
   ]
  },
  {
   "cell_type": "code",
   "execution_count": null,
   "id": "08f7722d",
   "metadata": {
    "slideshow": {
     "slide_type": "subslide"
    }
   },
   "outputs": [],
   "source": [
    "plt.figure(figsize=(16, 4))\n",
    "xs = np.linspace(0, 2*np.pi, 100)\n",
    "ys = np.sin(xs)\n",
    "plt.plot(xs, ys)\n",
    "plt.title(\"The sine function\")\n",
    "plt.show()"
   ]
  },
  {
   "cell_type": "code",
   "execution_count": null,
   "id": "f5b10165",
   "metadata": {
    "slideshow": {
     "slide_type": "subslide"
    }
   },
   "outputs": [],
   "source": [
    "plt.figure(figsize=(16, 4))\n",
    "xs = np.linspace(0, 2*np.pi, 100)\n",
    "ys = np.sin(xs)\n",
    "plt.plot(xs, ys)\n",
    "plt.yticks([-1, -0.5, 0, 0.5, 1.0])\n",
    "plt.title(\"The sine function\")\n",
    "plt.show()"
   ]
  },
  {
   "cell_type": "code",
   "execution_count": null,
   "id": "4691b0be",
   "metadata": {
    "slideshow": {
     "slide_type": "subslide"
    }
   },
   "outputs": [],
   "source": [
    "fig, ax = plt.subplots(nrows=3, ncols=1, figsize=(18, 6))\n",
    "xs = np.linspace(0, 2*np.pi, 100)\n",
    "ax[0].plot(xs, np.sin(xs))\n",
    "ax[1].plot(xs, np.sin(2*xs))\n",
    "ax[2].plot(xs, np.sin(4*xs))\n",
    "plt.show()"
   ]
  },
  {
   "cell_type": "code",
   "execution_count": null,
   "id": "125cbe14",
   "metadata": {
    "slideshow": {
     "slide_type": "subslide"
    }
   },
   "outputs": [],
   "source": [
    "fig, ax = plt.subplots(nrows=3, ncols=1, figsize=(18, 6), sharex=True)\n",
    "xs = np.linspace(0, 2*np.pi, 100)\n",
    "ax[0].plot(xs, np.sin(xs), label=\"sin(x)\")\n",
    "ax[0].legend(loc=\"upper right\")\n",
    "ax[1].plot(xs, np.sin(2*xs), c=\"g\", label=\"sin(2x)\")\n",
    "ax[1].legend(loc=\"upper right\")\n",
    "ax[2].plot(xs, np.sin(4*xs), c=\"r\", label=\"sin(4x)\")\n",
    "ax[2].legend(loc=\"upper right\")\n",
    "plt.show()"
   ]
  },
  {
   "cell_type": "code",
   "execution_count": null,
   "id": "fab285e3",
   "metadata": {
    "slideshow": {
     "slide_type": "subslide"
    }
   },
   "outputs": [],
   "source": [
    "image = im.imread(\"img/parrots.png\")\n",
    "\n",
    "image.shape"
   ]
  },
  {
   "cell_type": "code",
   "execution_count": null,
   "id": "3e4b1845",
   "metadata": {
    "slideshow": {
     "slide_type": "fragment"
    }
   },
   "outputs": [],
   "source": [
    "image[0, 0, :]"
   ]
  },
  {
   "cell_type": "code",
   "execution_count": null,
   "id": "f5e52653",
   "metadata": {
    "slideshow": {
     "slide_type": "fragment"
    }
   },
   "outputs": [],
   "source": [
    "255 * image[0, 0, :]"
   ]
  },
  {
   "cell_type": "code",
   "execution_count": null,
   "id": "8dbf4943",
   "metadata": {
    "slideshow": {
     "slide_type": "subslide"
    }
   },
   "outputs": [],
   "source": [
    "plt.figure(figsize=(16, 10))\n",
    "plt.imshow(image)\n",
    "plt.show()"
   ]
  },
  {
   "cell_type": "code",
   "execution_count": null,
   "id": "3bd96130",
   "metadata": {
    "slideshow": {
     "slide_type": "subslide"
    }
   },
   "outputs": [],
   "source": [
    "plt.figure(figsize=(16, 10))\n",
    "plt.imshow(image)\n",
    "plt.show()"
   ]
  },
  {
   "cell_type": "code",
   "execution_count": null,
   "id": "715c24a7",
   "metadata": {
    "slideshow": {
     "slide_type": "subslide"
    }
   },
   "outputs": [],
   "source": [
    "# fliplr (flip left-right) felcseréli az oszlopok sorrendjét\n",
    "\n",
    "plt.figure(figsize=(16, 10))\n",
    "plt.imshow(np.fliplr(image))\n",
    "plt.show()"
   ]
  },
  {
   "cell_type": "code",
   "execution_count": null,
   "id": "c141e139",
   "metadata": {
    "slideshow": {
     "slide_type": "subslide"
    }
   },
   "outputs": [],
   "source": [
    "# Kiátlagoljuk a színeket és a kapott képet szürkeként ábrázoljuk\n",
    "\n",
    "plt.figure(figsize=(16, 10))\n",
    "plt.imshow(np.mean(image, axis=-1), cmap=plt.get_cmap(\"gray\"))\n",
    "plt.show()"
   ]
  },
  {
   "cell_type": "code",
   "execution_count": null,
   "id": "580897d1",
   "metadata": {
    "slideshow": {
     "slide_type": "subslide"
    }
   },
   "outputs": [],
   "source": [
    "# Azonban a valódi szürkeárnyalatos kép a színeknek egy súlyozott átlaga\n",
    "\n",
    "grayscale_image = np.dot(image, [0.299 , 0.587, 0.114])\n",
    "\n",
    "plt.figure(figsize=(16, 10))\n",
    "plt.imshow(grayscale_image, cmap=plt.get_cmap('gray'))\n",
    "plt.show()"
   ]
  },
  {
   "cell_type": "markdown",
   "id": "4518869a",
   "metadata": {
    "slideshow": {
     "slide_type": "slide"
    }
   },
   "source": [
    "Aki használt már valamilyen képszerkesztő programot, biztosan látott már olyan lehetőséget, hogy valamilyen szűrőt alkalmazhatunk a képre. Ilyenkor adott egy $3\\times 3$-mas, esetleg $5\\times 5$-ös mátrix, amelynek vesszük a konvolúcióját a képnek minden ugyanakkora méretű részmátrixával.\n",
    "\n",
    "Két azonos méretű mátrix konvolúcióján egyszerűen azt értjük, hogy elemenként összeszorozzuk őket, majd a kapott eredménymátrix elemeit összeadjuk. A szűrőt egyszerűen végigcsúsztatjuk a kép megfelelő méretű részmátrixain, így kapjuk a képnek a szűrővel vett konvolúcióját."
   ]
  },
  {
   "cell_type": "markdown",
   "id": "02f42ca5",
   "metadata": {
    "slideshow": {
     "slide_type": "subslide"
    }
   },
   "source": [
    "![](img/convolution.png)"
   ]
  },
  {
   "cell_type": "code",
   "execution_count": null,
   "id": "dbee4cb0",
   "metadata": {
    "slideshow": {
     "slide_type": "slide"
    }
   },
   "outputs": [],
   "source": [
    "image = im.imread(\"img/QueensWalk.jpg\")\n",
    "\n",
    "image.shape"
   ]
  },
  {
   "cell_type": "code",
   "execution_count": null,
   "id": "850a14d6",
   "metadata": {
    "slideshow": {
     "slide_type": "subslide"
    }
   },
   "outputs": [],
   "source": [
    "plt.figure(figsize=(8, 10))\n",
    "plt.imshow(image, cmap=plt.get_cmap(\"gray\"))\n",
    "plt.show()"
   ]
  },
  {
   "cell_type": "code",
   "execution_count": null,
   "id": "48a3254a",
   "metadata": {
    "slideshow": {
     "slide_type": "subslide"
    }
   },
   "outputs": [],
   "source": [
    "def convolution(matrix, filt):\n",
    "    nr_rows, nr_columns = matrix.shape\n",
    "    f = len(filt)\n",
    "    result = np.zeros((nr_rows-f+1, nr_columns-f+1))\n",
    "    for i in range(nr_rows-f+1):\n",
    "        for j in range(nr_columns-f+1):\n",
    "            result[i, j] = np.sum(np.multiply(matrix[i:i+f, j:j+f], filt))\n",
    "    \n",
    "    return result"
   ]
  },
  {
   "cell_type": "code",
   "execution_count": null,
   "id": "46da01fb",
   "metadata": {
    "slideshow": {
     "slide_type": "subslide"
    }
   },
   "outputs": [],
   "source": [
    "# Ez mit csinál? \n",
    "kernel = (1 / 9) * np.ones(shape=(3, 3))\n",
    "\n",
    "filtered_image = convolution(image, kernel)"
   ]
  },
  {
   "cell_type": "code",
   "execution_count": null,
   "id": "0b3d5ed4",
   "metadata": {
    "slideshow": {
     "slide_type": "fragment"
    }
   },
   "outputs": [],
   "source": [
    "def plot_image_pair(original, filtered):\n",
    "    fig, (ax1, ax2) = plt.subplots(1, 2, figsize=(18, 12))\n",
    "    ax1.imshow(original, cmap=plt.get_cmap('gray'))\n",
    "    ax2.imshow(filtered, cmap=plt.get_cmap('gray'))\n",
    "    fig.tight_layout()\n",
    "    plt.show()"
   ]
  },
  {
   "cell_type": "code",
   "execution_count": null,
   "id": "d029cdfb",
   "metadata": {
    "slideshow": {
     "slide_type": "subslide"
    }
   },
   "outputs": [],
   "source": [
    "plot_image_pair(image, filtered_image)"
   ]
  },
  {
   "cell_type": "code",
   "execution_count": null,
   "id": "cd11e5f4",
   "metadata": {
    "slideshow": {
     "slide_type": "subslide"
    }
   },
   "outputs": [],
   "source": [
    "# függőleges éldetektor\n",
    "\n",
    "kernel = np.array([\n",
    "    [1, 0, -1], \n",
    "    [1, 0, -1], \n",
    "    [1, 0, -1]\n",
    "])\n",
    "\n",
    "filtered_image = convolution(image, kernel)"
   ]
  },
  {
   "cell_type": "code",
   "execution_count": null,
   "id": "3d0da6d8",
   "metadata": {
    "slideshow": {
     "slide_type": "subslide"
    }
   },
   "outputs": [],
   "source": [
    "plot_image_pair(image, filtered_image)"
   ]
  },
  {
   "cell_type": "markdown",
   "id": "d0582390",
   "metadata": {
    "slideshow": {
     "slide_type": "slide"
    }
   },
   "source": [
    "## Mátrixok szinguláris felbontása - képtömörítés \n",
    "\n",
    "### (Singular value decomposition - image compression)"
   ]
  },
  {
   "cell_type": "markdown",
   "id": "1328930f",
   "metadata": {
    "slideshow": {
     "slide_type": "slide"
    }
   },
   "source": [
    "Legyen $A\\in\\mathbb{R}^{n\\times m}$ egy tetszőleges mátrix. Ekkor léteznek olyan $U\\in\\mathbb{R}^{n\\times n}$, $D\\in\\mathbb{R}^{n\\times m}$ és $V\\in\\mathbb{R}^{m\\times m}$ mátrixok, hogy\n",
    "\n",
    "$$ \n",
    "A = UDV^*, \n",
    "$$ \n",
    "\n",
    "ahol $U$ és $V$ úgynevezett unitér mátrixok, azaz $U^*U = UU^* = I_n$ és $V^*V=VV^*=I_m$, valamint $D$ diagonális mátrix, azaz $d_{ij}=0$, ha $i\\ne j$. \n",
    "\n",
    "$D$ főátlójában nemnegatív számok állnak, csökkenő sorrendben: $d_{ii} = \\sigma_i$, $\\sigma_1\\geq\\sigma_2\\geq\\ldots\\geq\\sigma_r > \\sigma_{r+1} = \\ldots = \\sigma_{\\min(n,m)} = 0$, ahol $r$ az $A$ mátrix rangja. Ezeket a $\\sigma$ értékeket az $A$ mátrix szinguláris értékeinek nevezzük."
   ]
  },
  {
   "cell_type": "markdown",
   "id": "8b9c70d6",
   "metadata": {
    "slideshow": {
     "slide_type": "subslide"
    }
   },
   "source": [
    "Legyen $k\\in\\mathbb{N}$ adott természetes szám, ahol $k\\leq\\text{rank}(A)\\leq\\min\\{n, m\\}$. Keressük azt az $A_k$ mátrixot, melynek rangja $k$ és $A_k$ a $k$-rangú mátrixok közül a legjobban közelíti $A$-t, azaz $A_k$ az alábbi minmalizációs probléma megoldása:\n",
    "\n",
    "$$ \n",
    "\\left|\\left| A - B \\right|\\right|_F \\to \\min !\\qquad \\mbox{ ahol }\\quad B\\in\\mathbb{R}^{n\\times m}, \\ \\text{rank}(B) = k. \n",
    "$$ \n",
    "\n",
    "Itt $\\left|\\left| X \\right|\\right|_F^2$ az $X$ elemeinek négyzetösszegét jelöli.\n",
    "\n",
    "Ennek a feladatnak a megoldása az $A$ mátrix SVD-felbontásából számolható ki. Ha $A = UDV^*$, akkor legyen $U_k$ az $U$ első $k$ oszlopa, legyen $V_k$ a $V$ első $k$ sora, $D_k$ pedig a $D$ első $k$ diagonálisbeli elemét tartalmazó diagonális mátrix; ekkor a fenti feladat megoldása az $A_k = U_kD_kV_k^*$ mátrix."
   ]
  },
  {
   "cell_type": "code",
   "execution_count": null,
   "id": "c2bf7c75",
   "metadata": {
    "slideshow": {
     "slide_type": "slide"
    }
   },
   "outputs": [],
   "source": [
    "image = im.imread(\"img/parrots.png\")"
   ]
  },
  {
   "cell_type": "code",
   "execution_count": null,
   "id": "e8b86911",
   "metadata": {
    "slideshow": {
     "slide_type": "subslide"
    }
   },
   "outputs": [],
   "source": [
    "plt.figure(figsize=(16, 10))\n",
    "plt.imshow(image)\n",
    "plt.show()"
   ]
  },
  {
   "cell_type": "code",
   "execution_count": null,
   "id": "a359c73f",
   "metadata": {
    "slideshow": {
     "slide_type": "subslide"
    }
   },
   "outputs": [],
   "source": [
    "help(lg.svd)"
   ]
  },
  {
   "cell_type": "code",
   "execution_count": null,
   "id": "404b32be",
   "metadata": {
    "slideshow": {
     "slide_type": "subslide"
    }
   },
   "outputs": [],
   "source": [
    "def compress(image, k):\n",
    "    row, col, _ = image.shape\n",
    "    \n",
    "    U_r, d_r, V_r = np.linalg.svd(image[:, :, 0], full_matrices=True)\n",
    "    U_g, d_g, V_g = np.linalg.svd(image[:, :, 1], full_matrices=True)\n",
    "    U_b, d_b, V_b = np.linalg.svd(image[:, :, 2], full_matrices=True)\n",
    "\n",
    "    image_red_approx = U_r[:, :k] @ np.diag(d_r[:k]) @ V_r[:k, :]\n",
    "    image_green_approx = U_g[:, :k] @ np.diag(d_g[:k]) @ V_g[:k, :]\n",
    "    image_blue_approx = U_b[:, :k] @ np.diag(d_b[:k]) @ V_b[:k, :]\n",
    "\n",
    "    image_reconstructed = np.zeros((row, col, 3))\n",
    "    image_reconstructed[:, :, 0] = image_red_approx\n",
    "    image_reconstructed[:, :, 1] = image_green_approx\n",
    "    image_reconstructed[:, :, 2] = image_blue_approx\n",
    "    image_reconstructed[image_reconstructed < 0] = 0\n",
    "    image_reconstructed[image_reconstructed > 1] = 1\n",
    "    \n",
    "    print(f\"Compression rate: {3*(U_r[:, :k].nbytes + V_r[:k, :].nbytes + d_r[:k].nbytes) / image.nbytes}\")\n",
    "    return image_reconstructed"
   ]
  },
  {
   "cell_type": "code",
   "execution_count": null,
   "id": "bdab9344",
   "metadata": {
    "slideshow": {
     "slide_type": "subslide"
    }
   },
   "outputs": [],
   "source": [
    "plot_image_pair(image, compress(image, k=1))"
   ]
  },
  {
   "cell_type": "code",
   "execution_count": null,
   "id": "2b5b35be",
   "metadata": {
    "slideshow": {
     "slide_type": "subslide"
    }
   },
   "outputs": [],
   "source": [
    "plot_image_pair(image, compress(image, k=5))"
   ]
  },
  {
   "cell_type": "code",
   "execution_count": null,
   "id": "d7566a55",
   "metadata": {
    "slideshow": {
     "slide_type": "subslide"
    }
   },
   "outputs": [],
   "source": [
    "plot_image_pair(image, compress(image, 10))"
   ]
  },
  {
   "cell_type": "code",
   "execution_count": null,
   "id": "6723d092",
   "metadata": {
    "slideshow": {
     "slide_type": "subslide"
    }
   },
   "outputs": [],
   "source": [
    "plot_image_pair(image, compress(image, 25))"
   ]
  },
  {
   "cell_type": "code",
   "execution_count": null,
   "id": "35c2dd20",
   "metadata": {
    "slideshow": {
     "slide_type": "subslide"
    }
   },
   "outputs": [],
   "source": [
    "plot_image_pair(image, compress(image, 50))"
   ]
  },
  {
   "cell_type": "code",
   "execution_count": null,
   "id": "24f68b79",
   "metadata": {
    "slideshow": {
     "slide_type": "subslide"
    }
   },
   "outputs": [],
   "source": [
    "plot_image_pair(image, compress(image, 80))"
   ]
  },
  {
   "cell_type": "code",
   "execution_count": null,
   "id": "c128293c",
   "metadata": {
    "slideshow": {
     "slide_type": "subslide"
    }
   },
   "outputs": [],
   "source": [
    "plot_image_pair(image, compress(image, 100))"
   ]
  }
 ],
 "metadata": {
  "celltoolbar": "Slideshow",
  "kernelspec": {
   "display_name": "Python 3 (ipykernel)",
   "language": "python",
   "name": "python3"
  },
  "language_info": {
   "codemirror_mode": {
    "name": "ipython",
    "version": 3
   },
   "file_extension": ".py",
   "mimetype": "text/x-python",
   "name": "python",
   "nbconvert_exporter": "python",
   "pygments_lexer": "ipython3",
   "version": "3.9.7"
  }
 },
 "nbformat": 4,
 "nbformat_minor": 5
}
