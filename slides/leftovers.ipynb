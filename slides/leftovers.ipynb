{
 "cells": [
  {
   "cell_type": "markdown",
   "id": "c59540b7",
   "metadata": {
    "slideshow": {
     "slide_type": "slide"
    }
   },
   "source": [
    "## Névterek és érvényességi kör (namespaces and variable scope)"
   ]
  },
  {
   "cell_type": "code",
   "execution_count": null,
   "id": "71d140d1",
   "metadata": {
    "slideshow": {
     "slide_type": "slide"
    }
   },
   "outputs": [],
   "source": [
    "# Egy függvény belsejében definiált változók kifelé nem látszanak.\n",
    "\n",
    "a = 0\n",
    "\n",
    "def f(x):\n",
    "    a = x + 1\n",
    "    b = a + 1\n",
    "    return b\n",
    "\n",
    "\n",
    "print(a)\n",
    "print(f(10))\n",
    "print(a)\n",
    "\n",
    "print(b)"
   ]
  },
  {
   "cell_type": "code",
   "execution_count": null,
   "id": "51dd561c",
   "metadata": {
    "slideshow": {
     "slide_type": "subslide"
    }
   },
   "outputs": [],
   "source": [
    "a = 0\n",
    "\n",
    "def f(x):\n",
    "    y = x + 1\n",
    "    \n",
    "    def g(z):\n",
    "        return z + 100\n",
    "    \n",
    "    b = y + 1\n",
    "    return g(b)\n",
    "\n",
    "\n",
    "print(f(1))\n",
    "print(a)"
   ]
  },
  {
   "cell_type": "code",
   "execution_count": null,
   "id": "eb5dbeed",
   "metadata": {
    "slideshow": {
     "slide_type": "subslide"
    }
   },
   "outputs": [],
   "source": [
    "a = 0\n",
    "\n",
    "def f(a):\n",
    "    a = a + 1\n",
    "    \n",
    "    def g(a):\n",
    "        return a + 100\n",
    "    \n",
    "    a = a + 1\n",
    "    return g(a)\n",
    "\n",
    "\n",
    "print(f(1))\n",
    "print(a)"
   ]
  },
  {
   "cell_type": "code",
   "execution_count": null,
   "id": "86962549",
   "metadata": {
    "slideshow": {
     "slide_type": "subslide"
    }
   },
   "outputs": [],
   "source": [
    "a = 0\n",
    "\n",
    "\n",
    "def f(x):\n",
    "    a += 1\n",
    "    return x + 1\n",
    "\n",
    "print(a)\n",
    "print(f(0))\n",
    "print(a)"
   ]
  },
  {
   "cell_type": "code",
   "execution_count": null,
   "id": "745bac9a",
   "metadata": {
    "slideshow": {
     "slide_type": "subslide"
    }
   },
   "outputs": [],
   "source": [
    "def outer(x):\n",
    "    a = 1\n",
    "    \n",
    "    def inner(y):\n",
    "        a = 2\n",
    "        return y\n",
    "    \n",
    "    result = inner(x)\n",
    "    return a\n",
    "\n",
    "print(outer(0))"
   ]
  },
  {
   "cell_type": "markdown",
   "id": "399929cc",
   "metadata": {
    "slideshow": {
     "slide_type": "subslide"
    }
   },
   "source": [
    "A fentiekben körbejártuk a névtér (namespace) és az érvényességi kör (scope) fogalmát. Aki kíváncsi a mélyebb részletekre, annak ajánlom a [RealPython](https://realpython.com/python-namespaces-scope/) megfelelő tutorialját.\n",
    "\n",
    "Pythonban lehetséges a globális névtérben definiált változók értékének megváltoztatása a lokális névtérben. Ekkor nem a lokális névtérben keres az interpreter egy `a`-t, hanem a globálisban. Egy függvény belsejében definiált függvény is tudja módosítani a külső függvényben definiált lokális változót, ha nagyon muszáj. Erre szolgálnak a `global` és `nonlocal` kulcsszavak, azonban egyáltalán nem baj, ha ezeket a lehetőségeket **soha nem használjuk**.\n",
    "\n",
    "Csak azért, mert egy nyelv megenged bizonyos lehetőségeket, az nem azt jelenti, hogy azokat mind-mind jó ötlet használni. :)"
   ]
  }
 ],
 "metadata": {
  "celltoolbar": "Slideshow",
  "kernelspec": {
   "display_name": "Python 3 (ipykernel)",
   "language": "python",
   "name": "python3"
  },
  "language_info": {
   "codemirror_mode": {
    "name": "ipython",
    "version": 3
   },
   "file_extension": ".py",
   "mimetype": "text/x-python",
   "name": "python",
   "nbconvert_exporter": "python",
   "pygments_lexer": "ipython3",
   "version": "3.9.12"
  }
 },
 "nbformat": 4,
 "nbformat_minor": 5
}
