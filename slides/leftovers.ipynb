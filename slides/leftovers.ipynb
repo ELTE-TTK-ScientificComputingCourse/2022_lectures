{
 "cells": [
  {
   "cell_type": "markdown",
   "id": "c59540b7",
   "metadata": {
    "slideshow": {
     "slide_type": "slide"
    }
   },
   "source": [
    "## Névterek és érvényességi kör (namespaces and variable scope)"
   ]
  },
  {
   "cell_type": "code",
   "execution_count": null,
   "id": "71d140d1",
   "metadata": {
    "slideshow": {
     "slide_type": "slide"
    }
   },
   "outputs": [],
   "source": [
    "# Egy függvény belsejében definiált változók kifelé nem látszanak.\n",
    "\n",
    "a = 0\n",
    "\n",
    "def f(x):\n",
    "    a = x + 1\n",
    "    b = a + 1\n",
    "    return b\n",
    "\n",
    "\n",
    "print(a)\n",
    "print(f(10))\n",
    "print(a)\n",
    "\n",
    "print(b)"
   ]
  },
  {
   "cell_type": "code",
   "execution_count": null,
   "id": "51dd561c",
   "metadata": {
    "slideshow": {
     "slide_type": "subslide"
    }
   },
   "outputs": [],
   "source": [
    "a = 0\n",
    "\n",
    "def f(x):\n",
    "    y = x + 1\n",
    "    \n",
    "    def g(z):\n",
    "        return z + 100\n",
    "    \n",
    "    b = y + 1\n",
    "    return g(b)\n",
    "\n",
    "\n",
    "print(f(1))\n",
    "print(a)"
   ]
  },
  {
   "cell_type": "code",
   "execution_count": null,
   "id": "eb5dbeed",
   "metadata": {
    "slideshow": {
     "slide_type": "subslide"
    }
   },
   "outputs": [],
   "source": [
    "a = 0\n",
    "\n",
    "def f(a):\n",
    "    a = a + 1\n",
    "    \n",
    "    def g(a):\n",
    "        return a + 100\n",
    "    \n",
    "    a = a + 1\n",
    "    return g(a)\n",
    "\n",
    "\n",
    "print(f(1))\n",
    "print(a)"
   ]
  },
  {
   "cell_type": "code",
   "execution_count": null,
   "id": "86962549",
   "metadata": {
    "slideshow": {
     "slide_type": "subslide"
    }
   },
   "outputs": [],
   "source": [
    "a = 0\n",
    "\n",
    "\n",
    "def f(x):\n",
    "    a += 1\n",
    "    return x + 1\n",
    "\n",
    "print(a)\n",
    "print(f(0))\n",
    "print(a)"
   ]
  },
  {
   "cell_type": "code",
   "execution_count": null,
   "id": "745bac9a",
   "metadata": {
    "slideshow": {
     "slide_type": "subslide"
    }
   },
   "outputs": [],
   "source": [
    "def outer(x):\n",
    "    a = 1\n",
    "    \n",
    "    def inner(y):\n",
    "        a = 2\n",
    "        return y\n",
    "    \n",
    "    result = inner(x)\n",
    "    return a\n",
    "\n",
    "print(outer(0))"
   ]
  },
  {
   "cell_type": "markdown",
   "id": "399929cc",
   "metadata": {
    "slideshow": {
     "slide_type": "subslide"
    }
   },
   "source": [
    "A fentiekben körbejártuk a névtér (namespace) és az érvényességi kör (scope) fogalmát. Aki kíváncsi a mélyebb részletekre, annak ajánlom a [RealPython](https://realpython.com/python-namespaces-scope/) megfelelő tutorialját.\n",
    "\n",
    "Pythonban lehetséges a globális névtérben definiált változók értékének megváltoztatása a lokális névtérben. Ekkor nem a lokális névtérben keres az interpreter egy `a`-t, hanem a globálisban. Egy függvény belsejében definiált függvény is tudja módosítani a külső függvényben definiált lokális változót, ha nagyon muszáj. Erre szolgálnak a `global` és `nonlocal` kulcsszavak, azonban egyáltalán nem baj, ha ezeket a lehetőségeket **soha nem használjuk**.\n",
    "\n",
    "Csak azért, mert egy nyelv megenged bizonyos lehetőségeket, az nem azt jelenti, hogy azokat mind-mind jó ötlet használni. :)"
   ]
  },
  {
   "cell_type": "markdown",
   "id": "5183502b",
   "metadata": {
    "slideshow": {
     "slide_type": "slide"
    }
   },
   "source": [
    "## Mátrixok szinguláris felbontása - képtömörítés \n",
    "\n",
    "### (Singular value decomposition - image compression)"
   ]
  },
  {
   "cell_type": "code",
   "execution_count": null,
   "id": "28a23fe0",
   "metadata": {
    "slideshow": {
     "slide_type": "slide"
    }
   },
   "outputs": [],
   "source": [
    "import matplotlib.image as im\n",
    "import matplotlib.pyplot as plt\n",
    "import numpy as np\n",
    "import numpy.linalg as lg"
   ]
  },
  {
   "cell_type": "markdown",
   "id": "a280daed",
   "metadata": {
    "slideshow": {
     "slide_type": "slide"
    }
   },
   "source": [
    "Legyen $A\\in\\mathbb{R}^{n\\times m}$ egy tetszőleges mátrix. Ekkor léteznek olyan $U\\in\\mathbb{R}^{n\\times n}$, $D\\in\\mathbb{R}^{n\\times m}$ és $V\\in\\mathbb{R}^{m\\times m}$ mátrixok, hogy\n",
    "\n",
    "$$ \n",
    "A = UDV^*, \n",
    "$$ \n",
    "\n",
    "ahol $U$ és $V$ úgynevezett unitér mátrixok, azaz $U^*U = UU^* = I_n$ és $V^*V=VV^*=I_m$, valamint $D$ diagonális mátrix, azaz $d_{ij}=0$, ha $i\\ne j$. \n",
    "\n",
    "$D$ főátlójában nemnegatív számok állnak, csökkenő sorrendben: $d_{ii} = \\sigma_i$, $\\sigma_1\\geq\\sigma_2\\geq\\ldots\\geq\\sigma_r > \\sigma_{r+1} = \\ldots = \\sigma_{\\min(n,m)} = 0$, ahol $r$ az $A$ mátrix rangja. Ezeket a $\\sigma$ értékeket az $A$ mátrix szinguláris értékeinek nevezzük."
   ]
  },
  {
   "cell_type": "markdown",
   "id": "780c2168",
   "metadata": {
    "slideshow": {
     "slide_type": "subslide"
    }
   },
   "source": [
    "Legyen $k\\in\\mathbb{N}$ adott természetes szám, ahol $k\\leq\\text{rank}(A)\\leq\\min\\{n, m\\}$. Keressük azt az $A_k$ mátrixot, melynek rangja $k$ és $A_k$ a $k$-rangú mátrixok közül a legjobban közelíti $A$-t, azaz $A_k$ az alábbi minmalizációs probléma megoldása:\n",
    "\n",
    "$$ \n",
    "\\left|\\left| A - B \\right|\\right|_F \\to \\min !\\qquad \\mbox{ ahol }\\quad B\\in\\mathbb{R}^{n\\times m}, \\ \\text{rank}(B) = k. \n",
    "$$ \n",
    "\n",
    "Itt $\\left|\\left| X \\right|\\right|_F^2$ az $X$ elemeinek négyzetösszegét jelöli.\n",
    "\n",
    "Ennek a feladatnak a megoldása az $A$ mátrix SVD-felbontásából számolható ki. Ha $A = UDV^*$, akkor legyen $U_k$ az $U$ első $k$ oszlopa, legyen $V_k$ a $V$ első $k$ sora, $D_k$ pedig a $D$ első $k$ diagonálisbeli elemét tartalmazó diagonális mátrix; ekkor a fenti feladat megoldása az $A_k = U_kD_kV_k^*$ mátrix."
   ]
  },
  {
   "cell_type": "code",
   "execution_count": null,
   "id": "3fc9ccd0",
   "metadata": {
    "slideshow": {
     "slide_type": "slide"
    }
   },
   "outputs": [],
   "source": [
    "image = im.imread(\"img/parrots.png\")"
   ]
  },
  {
   "cell_type": "code",
   "execution_count": null,
   "id": "7e0c3735",
   "metadata": {
    "slideshow": {
     "slide_type": "subslide"
    }
   },
   "outputs": [],
   "source": [
    "plt.figure(figsize=(16, 10))\n",
    "plt.imshow(image)\n",
    "plt.show()"
   ]
  },
  {
   "cell_type": "code",
   "execution_count": null,
   "id": "ff825623",
   "metadata": {
    "slideshow": {
     "slide_type": "subslide"
    }
   },
   "outputs": [],
   "source": [
    "help(lg.svd)"
   ]
  },
  {
   "cell_type": "code",
   "execution_count": null,
   "id": "a3f34dd9",
   "metadata": {
    "slideshow": {
     "slide_type": "subslide"
    }
   },
   "outputs": [],
   "source": [
    "def compress(image, k):\n",
    "    row, col, _ = image.shape\n",
    "    \n",
    "    U_r, d_r, V_r = np.linalg.svd(image[:, :, 0], full_matrices=True)\n",
    "    U_g, d_g, V_g = np.linalg.svd(image[:, :, 1], full_matrices=True)\n",
    "    U_b, d_b, V_b = np.linalg.svd(image[:, :, 2], full_matrices=True)\n",
    "\n",
    "    image_red_approx = U_r[:, :k] @ np.diag(d_r[:k]) @ V_r[:k, :]\n",
    "    image_green_approx = U_g[:, :k] @ np.diag(d_g[:k]) @ V_g[:k, :]\n",
    "    image_blue_approx = U_b[:, :k] @ np.diag(d_b[:k]) @ V_b[:k, :]\n",
    "\n",
    "    image_reconstructed = np.zeros((row, col, 3))\n",
    "    image_reconstructed[:, :, 0] = image_red_approx\n",
    "    image_reconstructed[:, :, 1] = image_green_approx\n",
    "    image_reconstructed[:, :, 2] = image_blue_approx\n",
    "    image_reconstructed[image_reconstructed < 0] = 0\n",
    "    image_reconstructed[image_reconstructed > 1] = 1\n",
    "    \n",
    "    print(f\"Compression rate: {3*(U_r[:, :k].nbytes + V_r[:k, :].nbytes + d_r[:k].nbytes) / image.nbytes}\")\n",
    "    return image_reconstructed"
   ]
  },
  {
   "cell_type": "code",
   "execution_count": null,
   "id": "c8a0d533",
   "metadata": {
    "slideshow": {
     "slide_type": "subslide"
    }
   },
   "outputs": [],
   "source": [
    "def plot_image_pair(original, filtered):\n",
    "    fig, (ax1, ax2) = plt.subplots(1, 2, figsize=(18, 12))\n",
    "    ax1.imshow(original, cmap=plt.get_cmap('gray'))\n",
    "    ax2.imshow(filtered, cmap=plt.get_cmap('gray'))\n",
    "    fig.tight_layout()\n",
    "    plt.show()"
   ]
  },
  {
   "cell_type": "code",
   "execution_count": null,
   "id": "02fc6bd3",
   "metadata": {
    "slideshow": {
     "slide_type": "subslide"
    }
   },
   "outputs": [],
   "source": [
    "plot_image_pair(image, compress(image, k=1))"
   ]
  },
  {
   "cell_type": "code",
   "execution_count": null,
   "id": "625e1ca7",
   "metadata": {
    "slideshow": {
     "slide_type": "subslide"
    }
   },
   "outputs": [],
   "source": [
    "plot_image_pair(image, compress(image, k=5))"
   ]
  },
  {
   "cell_type": "code",
   "execution_count": null,
   "id": "f680dce0",
   "metadata": {
    "slideshow": {
     "slide_type": "subslide"
    }
   },
   "outputs": [],
   "source": [
    "plot_image_pair(image, compress(image, 10))"
   ]
  },
  {
   "cell_type": "code",
   "execution_count": null,
   "id": "abad73dc",
   "metadata": {
    "slideshow": {
     "slide_type": "subslide"
    }
   },
   "outputs": [],
   "source": [
    "plot_image_pair(image, compress(image, 25))"
   ]
  },
  {
   "cell_type": "code",
   "execution_count": null,
   "id": "035a8e37",
   "metadata": {
    "slideshow": {
     "slide_type": "subslide"
    }
   },
   "outputs": [],
   "source": [
    "plot_image_pair(image, compress(image, 50))"
   ]
  },
  {
   "cell_type": "code",
   "execution_count": null,
   "id": "b93d88df",
   "metadata": {
    "slideshow": {
     "slide_type": "subslide"
    }
   },
   "outputs": [],
   "source": [
    "plot_image_pair(image, compress(image, 80))"
   ]
  },
  {
   "cell_type": "code",
   "execution_count": null,
   "id": "b3a7d1a6",
   "metadata": {
    "slideshow": {
     "slide_type": "subslide"
    }
   },
   "outputs": [],
   "source": [
    "plot_image_pair(image, compress(image, 100))"
   ]
  }
 ],
 "metadata": {
  "celltoolbar": "Slideshow",
  "kernelspec": {
   "display_name": "Python 3 (ipykernel)",
   "language": "python",
   "name": "python3"
  },
  "language_info": {
   "codemirror_mode": {
    "name": "ipython",
    "version": 3
   },
   "file_extension": ".py",
   "mimetype": "text/x-python",
   "name": "python",
   "nbconvert_exporter": "python",
   "pygments_lexer": "ipython3",
   "version": "3.9.12"
  }
 },
 "nbformat": 4,
 "nbformat_minor": 5
}
