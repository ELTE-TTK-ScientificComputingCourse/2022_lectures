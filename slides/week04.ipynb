{
 "cells": [
  {
   "cell_type": "markdown",
   "id": "5ff8d28e",
   "metadata": {
    "slideshow": {
     "slide_type": "slide"
    }
   },
   "source": [
    "# A Python beépített adatszerkezetei II. (Python collections - part II.) "
   ]
  },
  {
   "cell_type": "markdown",
   "id": "72288217",
   "metadata": {
    "slideshow": {
     "slide_type": "slide"
    }
   },
   "source": [
    "## Szótárak, kulcs-érték párok (Dictionaries)"
   ]
  },
  {
   "cell_type": "markdown",
   "id": "985f3742",
   "metadata": {
    "slideshow": {
     "slide_type": "subslide"
    }
   },
   "source": [
    "Gyakran előfordul olyan probléma, hogy különböző dolgokat kell eltárolnunk, amelyek nem valamilyen index alapján azonosíthatók, hanem valamilyen kulcs alapján.\n",
    "\n",
    "Például egy telefonkönyvben (tudjátok mi az a telefonkönyv?) nevekhez rendelünk telefonszámot, egy angol-francia szótárban angol szavakhoz a megfelelő francia szót, vagy esetleg szavakat, országokhoz a fővárosaikat, hallgatókhoz a felvett tárgyaikat, írókhoz a könyveiket, stb."
   ]
  },
  {
   "cell_type": "markdown",
   "id": "3e3fa412",
   "metadata": {
    "slideshow": {
     "slide_type": "fragment"
    }
   },
   "source": [
    "Országokhoz rendeljük hozzá a fővárosukat.\n",
    "```\n",
    "Hungary -> Budapest\n",
    "France -> Paris\n",
    "Australia -> Canberra\n",
    "Spain -> Madrid\n",
    "```"
   ]
  },
  {
   "cell_type": "markdown",
   "id": "4ea98f53",
   "metadata": {
    "slideshow": {
     "slide_type": "fragment"
    }
   },
   "source": [
    "Személyekhez rendeljük a hangszereket, amelyeken játszani tudnak.\n",
    "```\n",
    "Anna -> [hegedű, cselló, trombita]\n",
    "Béla -> [tangóharmonika]\n",
    "Gábor -> [dob, okarina]\n",
    "```"
   ]
  },
  {
   "cell_type": "markdown",
   "id": "fd3629a6",
   "metadata": {
    "slideshow": {
     "slide_type": "slide"
    }
   },
   "source": [
    "Lehet-e az eddig tanult adatszerkezetekkel eltárolni ilyen (kulcs, érték) párokból álló elemeket?"
   ]
  },
  {
   "cell_type": "code",
   "execution_count": null,
   "id": "0d9b7368",
   "metadata": {
    "slideshow": {
     "slide_type": "fragment"
    }
   },
   "outputs": [],
   "source": [
    "capitals = [\n",
    "    (\"Hungary\", \"Budapest\"), \n",
    "    (\"France\", \"Paris\"), \n",
    "    (\"Australia\", \"Canberra\"), \n",
    "    (\"Spain\", \"Madrid\")\n",
    "]"
   ]
  },
  {
   "cell_type": "code",
   "execution_count": null,
   "id": "f941afe2",
   "metadata": {
    "slideshow": {
     "slide_type": "slide"
    }
   },
   "outputs": [],
   "source": [
    "def capital_of_a_country(capitals, country):\n",
    "    for country_name, capital_name in capitals:\n",
    "        if country_name == country:\n",
    "            return capital_name\n",
    "    \n",
    "    # Country is not found\n",
    "    return None    \n",
    "    \n",
    "    \n",
    "print(capital_of_a_country(capitals, \"Spain\"))\n",
    "print(capital_of_a_country(capitals, \"Austria\"))"
   ]
  },
  {
   "cell_type": "markdown",
   "id": "512cd418",
   "metadata": {
    "slideshow": {
     "slide_type": "slide"
    }
   },
   "source": [
    "Mennyi ideig tart, amíg egy adott kulcshoz megtaláljuk a megfelelő értéke? Függ-e ez a párokból álló lista hosszától? Szokás ezt az adatszerkezetet asszociatív listának is nevezni."
   ]
  },
  {
   "cell_type": "markdown",
   "id": "8f355aa6",
   "metadata": {
    "slideshow": {
     "slide_type": "subslide"
    }
   },
   "source": [
    "Nekünk olyan adatszerkezet lenne megfelelő, ahol\n",
    "* a kulcs alapján történő keresés \n",
    "* kulcs alapján új elem beszúrása\n",
    "* kulcs alapján elem törlése\n",
    "\n",
    "gyors műveletek.\n",
    "\n",
    "Sajnos a (kulcs, érték) párokból álló lista mindhárom műveletre lassú. Azonban szerencsénk van, van egy olyan adatszerkezet, amely átlagosan konstans idő alatt képes mindhárom műveletre és csak nagyon ritkán, a körülmények szerencsétlen együttállása esetén lesz alkalmanként egy-egy ilyen művelet lassú. Emellett a tárhely, amit foglal, szintén nem nagyobb, mint az elemek tárolásával arányos méretű hely.\n",
    "\n",
    "Erről sokkal többet fogtok tanulni algoritmuselméleti órákon. Legyen most annyi elég, hogy kétféle módon lehet hatékony adatszerkezetet készíteni erre a problémára, az egyik gyors és mutable, a másik kicsit lassabb, de immutable és csak rendezhető kulcsokra készíthető el."
   ]
  },
  {
   "cell_type": "markdown",
   "id": "14ef2038",
   "metadata": {
    "slideshow": {
     "slide_type": "slide"
    }
   },
   "source": [
    "Pythonban az első van implementálva a beépített adatszerkezetek között, nevezetesen a hash-tábla alapú. Ennek az adatszerkezetnek a neve `dictionary`.\n",
    "\n",
    "A hash-tábla alapötlete, hogy van egy hash-függvénynek nevezett $h$ függvény a háttérben, ami a $k$ kulcsot $h(k)$-va viszi úgy, hogy különböző kulcsok nagy valószínűséggel különböző értékre képződnek le, az értéket pedig (a kulccsal együtt) egy tömb $h(k)$-adik indexénél tároljuk el."
   ]
  },
  {
   "cell_type": "code",
   "execution_count": null,
   "id": "76a07e99",
   "metadata": {
    "slideshow": {
     "slide_type": "subslide"
    }
   },
   "outputs": [],
   "source": [
    "# {key1: value1, key2: value2, ....}\n",
    "\n",
    "country_capitals = {\n",
    "    \"Hungary\": \"Budapest\", \n",
    "    \"France\": \"Paris\", \n",
    "    \"Australia\": \"Canberra\", \n",
    "    \"Spain\": \"Madrid\"\n",
    "}"
   ]
  },
  {
   "cell_type": "code",
   "execution_count": null,
   "id": "8d45317c",
   "metadata": {
    "slideshow": {
     "slide_type": "subslide"
    }
   },
   "outputs": [],
   "source": [
    "countries = [\"Hungary\", \"France\", \"Australia\", \"Spain\"]\n",
    "capitals = [\"Budapest\", \"Paris\", \"Canberra\", \"Madrid\"]\n",
    "\n",
    "# dict-comprehension\n",
    "{country: capital for country, capital in zip(countries, capitals)}"
   ]
  },
  {
   "cell_type": "code",
   "execution_count": null,
   "id": "5ec9e7fd",
   "metadata": {
    "slideshow": {
     "slide_type": "subslide"
    }
   },
   "outputs": [],
   "source": [
    "dict(zip(countries, capitals))"
   ]
  },
  {
   "cell_type": "code",
   "execution_count": null,
   "id": "1f2105b2",
   "metadata": {
    "slideshow": {
     "slide_type": "slide"
    }
   },
   "outputs": [],
   "source": [
    "# Az `in` kulcsszót használjuk annak a tesztelésére, hogy valami előfordul-e kulcsként a szótárban.\n",
    "\n",
    "print(\"Portugal\" in country_capitals)\n",
    "\n",
    "print(\"Spain\" in country_capitals)"
   ]
  },
  {
   "cell_type": "code",
   "execution_count": null,
   "id": "aca32063",
   "metadata": {
    "slideshow": {
     "slide_type": "fragment"
    }
   },
   "outputs": [],
   "source": [
    "# Adott kulcshoz tartozó érték lekérdezése\n",
    "\n",
    "country_capitals[\"France\"]"
   ]
  },
  {
   "cell_type": "code",
   "execution_count": null,
   "id": "a68ed411",
   "metadata": {
    "slideshow": {
     "slide_type": "fragment"
    }
   },
   "outputs": [],
   "source": [
    "country_capitals[\"Italy\"]"
   ]
  },
  {
   "cell_type": "code",
   "execution_count": null,
   "id": "0b2edb66",
   "metadata": {
    "slideshow": {
     "slide_type": "slide"
    }
   },
   "outputs": [],
   "source": [
    "country_capitals.get(\"France\")"
   ]
  },
  {
   "cell_type": "code",
   "execution_count": null,
   "id": "51735054",
   "metadata": {
    "slideshow": {
     "slide_type": "subslide"
    }
   },
   "outputs": [],
   "source": [
    "# Ha nincs ilyen kulcs, kérhetünk default értéket is\n",
    "\n",
    "print(country_capitals.get(\"Italy\"))\n",
    "\n",
    "print(country_capitals.get(\"Italy\", \"I do not know.\"))"
   ]
  },
  {
   "cell_type": "code",
   "execution_count": null,
   "id": "003a55e1",
   "metadata": {
    "slideshow": {
     "slide_type": "subslide"
    }
   },
   "outputs": [],
   "source": [
    "# Iterálás egy szótáron:\n",
    "\n",
    "for country in country_capitals:\n",
    "    print(country)"
   ]
  },
  {
   "cell_type": "code",
   "execution_count": null,
   "id": "b06e5eee",
   "metadata": {
    "slideshow": {
     "slide_type": "subslide"
    }
   },
   "outputs": [],
   "source": [
    "for country in country_capitals.keys():\n",
    "    print(country)"
   ]
  },
  {
   "cell_type": "code",
   "execution_count": null,
   "id": "aa0918ab",
   "metadata": {
    "slideshow": {
     "slide_type": "subslide"
    }
   },
   "outputs": [],
   "source": [
    "for capital in country_capitals.values():\n",
    "    print(capital)"
   ]
  },
  {
   "cell_type": "code",
   "execution_count": null,
   "id": "e6abc129",
   "metadata": {
    "slideshow": {
     "slide_type": "subslide"
    }
   },
   "outputs": [],
   "source": [
    "for country, capital in country_capitals.items():\n",
    "    print(f\"The capital of {country} is {capital}.\")"
   ]
  },
  {
   "cell_type": "code",
   "execution_count": null,
   "id": "e15c0c35",
   "metadata": {
    "slideshow": {
     "slide_type": "subslide"
    }
   },
   "outputs": [],
   "source": [
    "country_capitals[\"Serbia\"] = \"Belgrade\"\n",
    "\n",
    "country_capitals"
   ]
  },
  {
   "cell_type": "code",
   "execution_count": null,
   "id": "3a0fa7b8",
   "metadata": {
    "slideshow": {
     "slide_type": "slide"
    }
   },
   "outputs": [],
   "source": [
    "capital_of_france =  country_capitals.pop(\"France\")\n",
    "\n",
    "print(capital_of_france)\n",
    "\n",
    "country_capitals"
   ]
  },
  {
   "cell_type": "code",
   "execution_count": null,
   "id": "8d036b43",
   "metadata": {
    "slideshow": {
     "slide_type": "subslide"
    }
   },
   "outputs": [],
   "source": [
    "country_capitals.pop(\"Austria\")"
   ]
  },
  {
   "cell_type": "code",
   "execution_count": null,
   "id": "e338d5f3",
   "metadata": {
    "slideshow": {
     "slide_type": "subslide"
    }
   },
   "outputs": [],
   "source": [
    "del country_capitals[\"Spain\"]\n",
    "\n",
    "country_capitals"
   ]
  },
  {
   "cell_type": "markdown",
   "id": "dfe5e8be",
   "metadata": {
    "slideshow": {
     "slide_type": "slide"
    }
   },
   "source": [
    "Egy hash-függvény csak immutable dolgokat tud hash-elni, ha ugyanis megváltozna (mutálódna) a kulcs, akkor többé nem tudnánk megkeresni a hozzá tartozó értéket, hiszen $f(k)$ helyett az $f(k')$ helyen próbálnánk keresni az értéket, de az az $f(k)$ helyen van eltárolva."
   ]
  },
  {
   "cell_type": "code",
   "execution_count": null,
   "id": "1141305b",
   "metadata": {
    "slideshow": {
     "slide_type": "fragment"
    }
   },
   "outputs": [],
   "source": [
    "d = {}\n",
    "\n",
    "d[\"Hello\"] = 1\n",
    "d[10] = 2\n",
    "\n",
    "d"
   ]
  },
  {
   "cell_type": "code",
   "execution_count": null,
   "id": "23351f9a",
   "metadata": {
    "slideshow": {
     "slide_type": "fragment"
    }
   },
   "outputs": [],
   "source": [
    "d[[1, 2]] = 3"
   ]
  },
  {
   "cell_type": "markdown",
   "id": "bf0a68ee",
   "metadata": {
    "slideshow": {
     "slide_type": "slide"
    }
   },
   "source": [
    "Lista tehát nem használható dictionary kulcsaként, de tuple igen. Minden olyan dolog lehet kulcs, ami hashelhető."
   ]
  },
  {
   "cell_type": "markdown",
   "id": "d05f460a",
   "metadata": {
    "slideshow": {
     "slide_type": "slide"
    }
   },
   "source": [
    "## Halmazok (Sets)"
   ]
  },
  {
   "cell_type": "markdown",
   "id": "0f41b361",
   "metadata": {
    "slideshow": {
     "slide_type": "subslide"
    }
   },
   "source": [
    "A halmaz olyan adatszerkezet, amely csupa különböző elemet tartalmaz. Ez persze implicit módon azt is jelenti, hogy a halmazba tett elemeket össze kell tudnunk hasonlítani egyenlőség szempontjából. Ami viszont nem egyértelmű, hogy halmazba csak hash-elhető elem kerülhet. Ennek az az oka, hogy a halmaz adatszerkezet Pythonban ismét hash-táblával van implementálva.\n",
    "\n",
    "Ugyan első hallásra a `dictionary` és a `set` nagyon különböző adatszerkezetnek tűnhet, valójában nagyon hasonló módon vannak implementálva."
   ]
  },
  {
   "cell_type": "code",
   "execution_count": null,
   "id": "efd43d2e",
   "metadata": {
    "slideshow": {
     "slide_type": "slide"
    }
   },
   "outputs": [],
   "source": [
    "# Ugyanúgy kapcsos zárójel határolja az elemeket, mint a dictionary-nél,\n",
    "# ez is mutatja, hogy szoros kapcsolat van a két adatszerkezet között\n",
    "\n",
    "{\"fej\", \"írás\", \"írás\", \"írás\", \"fej\"}"
   ]
  },
  {
   "cell_type": "code",
   "execution_count": null,
   "id": "47c5f1ac",
   "metadata": {
    "slideshow": {
     "slide_type": "fragment"
    }
   },
   "outputs": [],
   "source": [
    "string = \"kukkkuuuurrrriiiikuuuuuuuu\"\n",
    "\n",
    "letters = set()  # a {} az üres dict-et jelöli\n",
    "for char in string:\n",
    "    letters.add(char)\n",
    "    \n",
    "\n",
    "letters  "
   ]
  },
  {
   "cell_type": "code",
   "execution_count": null,
   "id": "d8488573",
   "metadata": {
    "slideshow": {
     "slide_type": "fragment"
    }
   },
   "outputs": [],
   "source": [
    "# Set comprehension\n",
    "\n",
    "{char for char in string}"
   ]
  },
  {
   "cell_type": "code",
   "execution_count": null,
   "id": "866c0fa8",
   "metadata": {
    "slideshow": {
     "slide_type": "slide"
    }
   },
   "outputs": [],
   "source": [
    "s = {1, 2, 3, 4, 5}\n",
    "t = {4, 5, 6}\n",
    "u = {5, 6}\n",
    "\n",
    "print(s.union(t))\n",
    "print(s | t)\n",
    "print()\n",
    "\n",
    "print(s.intersection(t))\n",
    "print(s & t)\n",
    "\n",
    "print(u.issubset(t))\n",
    "print(s.issuperset(u))"
   ]
  },
  {
   "cell_type": "code",
   "execution_count": null,
   "id": "f5414af4",
   "metadata": {
    "slideshow": {
     "slide_type": "subslide"
    }
   },
   "outputs": [],
   "source": [
    "s = {1, 2, 3}\n",
    "\n",
    "lst = [1, 1, 2, 4, 5]\n",
    "\n",
    "s.update(lst)\n",
    "\n",
    "print(s)"
   ]
  },
  {
   "cell_type": "code",
   "execution_count": null,
   "id": "96903fb0",
   "metadata": {
    "slideshow": {
     "slide_type": "subslide"
    }
   },
   "outputs": [],
   "source": [
    "s = {1, 2, 3}\n",
    "\n",
    "lst = [1, 1, 2, 4, 5]\n",
    "\n",
    "s.difference_update(lst)\n",
    "\n",
    "print(s)"
   ]
  },
  {
   "cell_type": "markdown",
   "id": "5297418b",
   "metadata": {
    "slideshow": {
     "slide_type": "slide"
    }
   },
   "source": [
    "A halmaz mutable adatszerkezet, azonban a listához hasonlóan ennek is létetzik immutable párja, a `frozenset`.\n",
    "\n",
    "```python\n",
    "s = frozenset({1, 2, 3})\n",
    "```"
   ]
  },
  {
   "cell_type": "markdown",
   "id": "32b5f725",
   "metadata": {
    "slideshow": {
     "slide_type": "slide"
    }
   },
   "source": [
    "Feladat: Számoljuk meg egy szövegben a betűk előfordulásainak számát."
   ]
  },
  {
   "cell_type": "code",
   "execution_count": null,
   "id": "2310fecc",
   "metadata": {
    "slideshow": {
     "slide_type": "fragment"
    }
   },
   "outputs": [],
   "source": [
    "text = \"The most disastrous thing that you can ever learn is your first programming language. - Alan Kay\""
   ]
  },
  {
   "cell_type": "code",
   "execution_count": null,
   "id": "371ad84b",
   "metadata": {
    "slideshow": {
     "slide_type": "slide"
    }
   },
   "outputs": [],
   "source": [
    "def count_letters(string):\n",
    "    counts = {}\n",
    "    for char in string:\n",
    "        if char in counts:\n",
    "            counts[char] += 1\n",
    "        else:\n",
    "            counts[char] = 1\n",
    "    \n",
    "    return counts\n",
    "\n",
    "\n",
    "print(count_letters(text))"
   ]
  },
  {
   "cell_type": "code",
   "execution_count": null,
   "id": "832ccc86",
   "metadata": {
    "slideshow": {
     "slide_type": "slide"
    }
   },
   "outputs": [],
   "source": [
    "def count_letters_2(string):\n",
    "    counts = {}\n",
    "    for char in string:\n",
    "        counts[char] = counts.get(char, 0) + 1\n",
    "    \n",
    "    return counts\n",
    "\n",
    "\n",
    "print(count_letters_2(text))"
   ]
  },
  {
   "cell_type": "markdown",
   "id": "357e35a9",
   "metadata": {
    "slideshow": {
     "slide_type": "slide"
    }
   },
   "source": [
    "## Egyéb hasznos adatszerkezetek (More collections)"
   ]
  },
  {
   "cell_type": "markdown",
   "id": "b4fc3ac6",
   "metadata": {
    "slideshow": {
     "slide_type": "slide"
    }
   },
   "source": [
    "További gyakran használatos adatszerkezetek érhetők el a `collections` könyvtárban. Az itt implementált adatszerkezeteket be kell importálni, hogy használni tudjuk."
   ]
  },
  {
   "cell_type": "code",
   "execution_count": null,
   "id": "3d200a81",
   "metadata": {
    "slideshow": {
     "slide_type": "subslide"
    }
   },
   "outputs": [],
   "source": [
    "# Ezen a módon a collections könyvtár tartalma elérhetővé válik a collections-prefixszel\n",
    "import collections\n",
    "\n",
    "d = collections.defaultdict(int)\n",
    "\n",
    "print(d)"
   ]
  },
  {
   "cell_type": "code",
   "execution_count": null,
   "id": "faaa221b",
   "metadata": {
    "slideshow": {
     "slide_type": "subslide"
    }
   },
   "outputs": [],
   "source": [
    "# Az importált modult egy alias-szal látunk el és így lehet hivatkozni a modul függvényeire, osztályaira\n",
    "import collections as cl\n",
    "\n",
    "d = cl.defaultdict(int)\n",
    "\n",
    "print(d)"
   ]
  },
  {
   "cell_type": "code",
   "execution_count": null,
   "id": "657bcb47",
   "metadata": {
    "slideshow": {
     "slide_type": "subslide"
    }
   },
   "outputs": [],
   "source": [
    "# Iyl módon a futó kód globális névteréből lesz elérhető a beimportált függvény vagy osztály\n",
    "from collections import defaultdict\n",
    "\n",
    "d = defaultdict(int)\n",
    "\n",
    "print(d)"
   ]
  },
  {
   "cell_type": "markdown",
   "id": "7134e09c",
   "metadata": {
    "slideshow": {
     "slide_type": "slide"
    }
   },
   "source": [
    "A `defaultdict` egy olyan szótár, amely nem dob hibát, ha nemlétező kulcsot keresünk benne, hanem ilyenkor beteszi az új kulcsot egy alapértelmezett értékkel: `defaultdict(int)` esetén a default érték 0, `defaultdict(list)` esetén az üres lista, `defaultdict(set)` esetén az üres halmaz."
   ]
  },
  {
   "cell_type": "code",
   "execution_count": null,
   "id": "21c77ba8",
   "metadata": {
    "slideshow": {
     "slide_type": "fragment"
    }
   },
   "outputs": [],
   "source": [
    "def count_letters_3(string):\n",
    "    counts = defaultdict(int)\n",
    "    for char in string:\n",
    "        counts[char] += 1 \n",
    "    \n",
    "    return counts\n",
    "\n",
    "\n",
    "print(count_letters_3(text))"
   ]
  },
  {
   "cell_type": "markdown",
   "id": "5d89adbc",
   "metadata": {
    "slideshow": {
     "slide_type": "slide"
    }
   },
   "source": [
    "Mivel megszámlálni elemeket elég gyakori feladat, erre van egy külön osztály, ami ezt a problémát oldja meg."
   ]
  },
  {
   "cell_type": "code",
   "execution_count": null,
   "id": "4d76553f",
   "metadata": {
    "slideshow": {
     "slide_type": "fragment"
    }
   },
   "outputs": [],
   "source": [
    "from collections import Counter\n",
    "\n",
    "\n",
    "def count_letters_4(string):\n",
    "    return Counter(string)\n",
    "\n",
    "\n",
    "counter = count_letters_4(text)\n",
    "\n",
    "print(counter.most_common(n=5))\n",
    "print()\n",
    "print(counter.items())"
   ]
  },
  {
   "cell_type": "markdown",
   "id": "3d07fd71",
   "metadata": {
    "slideshow": {
     "slide_type": "slide"
    }
   },
   "source": [
    "Végül egy jópofa adatszerkezetről lesz szó, a `namedtuple`-ről, ami egy olyan tuple, ahol a mezők nem csak index alapján, hanem név alapján is elérhetők."
   ]
  },
  {
   "cell_type": "code",
   "execution_count": null,
   "id": "81eb9b08",
   "metadata": {
    "slideshow": {
     "slide_type": "fragment"
    }
   },
   "outputs": [],
   "source": [
    "def seconds_to_time(seconds):\n",
    "    \"\"\"Convert time in seconds to hour, minute, second format\"\"\"\n",
    "    minutes, seconds = divmod(seconds, 60)\n",
    "    hours, minutes = divmod(minutes, 60)\n",
    "    return hours, minutes, seconds\n",
    "\n",
    "\n",
    "seconds_to_time(10000)"
   ]
  },
  {
   "cell_type": "code",
   "execution_count": null,
   "id": "ff404340",
   "metadata": {
    "slideshow": {
     "slide_type": "slide"
    }
   },
   "outputs": [],
   "source": [
    "from collections import namedtuple\n",
    "\n",
    "Time = namedtuple(\"Time\", [\"hour\", \"minute\", \"second\"])\n",
    "\n",
    "\n",
    "def seconds_to_time_2(seconds):\n",
    "    \"\"\"Convert time in seconds to hour, minute, second format\"\"\"\n",
    "    minutes, seconds = divmod(seconds, 60)\n",
    "    hours, minutes = divmod(minutes, 60)\n",
    "    return Time(hour=hours, minute=minutes, second=seconds)\n",
    "\n",
    "\n",
    "result = seconds_to_time_2(10000)\n",
    "print(result)\n",
    "print()\n",
    "\n",
    "print(result.hour)\n",
    "print(result.minute)\n",
    "print(result.second)"
   ]
  },
  {
   "cell_type": "markdown",
   "id": "adb27589",
   "metadata": {
    "slideshow": {
     "slide_type": "slide"
    }
   },
   "source": [
    "# Kivételkezelés (Exception handling)"
   ]
  },
  {
   "cell_type": "code",
   "execution_count": null,
   "id": "22734aba",
   "metadata": {
    "slideshow": {
     "slide_type": "subslide"
    }
   },
   "outputs": [],
   "source": [
    "1 / 0"
   ]
  },
  {
   "cell_type": "code",
   "execution_count": null,
   "id": "e7c32f13",
   "metadata": {
    "slideshow": {
     "slide_type": "subslide"
    }
   },
   "outputs": [],
   "source": [
    "a + 10"
   ]
  },
  {
   "cell_type": "code",
   "execution_count": null,
   "id": "0eb468be",
   "metadata": {
    "slideshow": {
     "slide_type": "subslide"
    }
   },
   "outputs": [],
   "source": [
    "int(\"12.345\")"
   ]
  },
  {
   "cell_type": "markdown",
   "id": "6dcef8eb",
   "metadata": {
    "slideshow": {
     "slide_type": "slide"
    }
   },
   "source": [
    "Kivételek mindig is előfordulhatnak, azaz olyan helyzetek, amikor a számolás értelmetlen, vagy egy fájlt kell megnyitni, ami nem is létezik, egy adatbázishoz kapcsolódunk, ahol nem jó a jelszó, vagy nem elérhető a szerver, valamit konvertálni kell valami mássá, de nem lehetséges."
   ]
  },
  {
   "cell_type": "markdown",
   "id": "9792ec90",
   "metadata": {
    "slideshow": {
     "slide_type": "subslide"
    }
   },
   "source": [
    "Pl. konvertáljuk egy sztringet egész számmá, ha ez lehetséges."
   ]
  },
  {
   "cell_type": "code",
   "execution_count": null,
   "id": "56c54edc",
   "metadata": {
    "slideshow": {
     "slide_type": "fragment"
    }
   },
   "outputs": [],
   "source": [
    "def convert_to_int(s):\n",
    "    return int(s)\n",
    "\n",
    "\n",
    "print(convert_to_int(\"100\"))\n",
    "\n",
    "convert_to_int(\"10.0\")"
   ]
  },
  {
   "cell_type": "markdown",
   "id": "c490eb21",
   "metadata": {
    "slideshow": {
     "slide_type": "slide"
    }
   },
   "source": [
    "Hogyan lehetünk biztosak abban, hogy egy stringet egész számként tudunk értelmezni?"
   ]
  },
  {
   "cell_type": "code",
   "execution_count": null,
   "id": "ef529423",
   "metadata": {
    "slideshow": {
     "slide_type": "fragment"
    }
   },
   "outputs": [],
   "source": [
    "def convert_to_int(string):\n",
    "    if string.isnumeric():\n",
    "        return int(string)\n",
    "    \n",
    "    return None\n",
    "\n",
    "\n",
    "print(convert_to_int(\"123\"))\n",
    "print(convert_to_int(\"45.67\"))\n",
    "print(convert_to_int(\"-2\"))"
   ]
  },
  {
   "cell_type": "markdown",
   "id": "f30d6918",
   "metadata": {
    "slideshow": {
     "slide_type": "slide"
    }
   },
   "source": [
    "Mi lenne, ha nem mi próbálnánk kitalálni, hogy mi lenne a jó, hanem hagynánk, hogy a Python `int` konverziós függvénye *megpróbálja* a konverziót, aztán ha sikerül, akkor jó, ha meg nem, akkor meg kitalálunk valamit."
   ]
  },
  {
   "cell_type": "code",
   "execution_count": null,
   "id": "de36217b",
   "metadata": {
    "slideshow": {
     "slide_type": "fragment"
    }
   },
   "outputs": [],
   "source": [
    "def convert_to_int(s):\n",
    "    try:\n",
    "        return int(s)\n",
    "    except ValueError:\n",
    "        print(f\"Cannot convert {s} to an integer.\")\n",
    "    \n",
    "    return None\n",
    "\n",
    "\n",
    "print(convert_to_int(\"100\"))\n",
    "print(convert_to_int(\"10.0\"))\n",
    "print(convert_to_int(\"-3\"))"
   ]
  },
  {
   "cell_type": "markdown",
   "id": "03be0e40",
   "metadata": {
    "slideshow": {
     "slide_type": "slide"
    }
   },
   "source": [
    "Később látni fogjuk, hogy nem csak egyfajta kivételt kell / lehet lekezelni, hanem akár többféle hibaok is előfordulhat. \n",
    "\n",
    "Egy tipikus ilyen helyzet a fájlbeolvasás, ahol lehet, hogy a \n",
    "* fájl nem található\n",
    "* nincs jogunk olvasni a fájlt\n",
    "* hibás a formátuma\n",
    "* nem dekódolható a szöveg, mert más karakterkészlet szerepel benne, mint amire számítunk\n",
    "* stb."
   ]
  },
  {
   "cell_type": "markdown",
   "id": "305de3d8",
   "metadata": {
    "slideshow": {
     "slide_type": "slide"
    }
   },
   "source": [
    "Az általános szintaxisa a kivételek kezelésének / elkapásának a `try - except` konstrukció:\n",
    "\n",
    "```python\n",
    "try:\n",
    "    try_something()\n",
    "except SomeError_1:\n",
    "    do_something_1()\n",
    "...\n",
    "except SomeError_n:\n",
    "    do_something_n()\n",
    "else:\n",
    "    do_this_when_there_was_no_exception()\n",
    "finally:\n",
    "    execute_anyway()\n",
    "```"
   ]
  },
  {
   "cell_type": "code",
   "execution_count": null,
   "id": "c15e4971",
   "metadata": {
    "slideshow": {
     "slide_type": "slide"
    }
   },
   "outputs": [],
   "source": [
    "# Az előforduló hibát akár újra is lehet dobni azért, hogy a minket hívó függvényhez is eljusson a hiba\n",
    "\n",
    "def convert_to_int(s):\n",
    "    try:\n",
    "        return int(s)\n",
    "    except ValueError:\n",
    "        print(f\"Cannot convert {s} to an integer.\")\n",
    "        raise \n",
    "        \n",
    "        \n",
    "convert_to_int(\"12.34\")"
   ]
  },
  {
   "cell_type": "code",
   "execution_count": null,
   "id": "b35dce58",
   "metadata": {
    "slideshow": {
     "slide_type": "slide"
    }
   },
   "outputs": [],
   "source": [
    "# Vagy dobhatunk saját magunk által definiált hibát is:\n",
    "class MyError(Exception):\n",
    "    pass\n",
    "\n",
    "\n",
    "def convert_to_int(s):\n",
    "    try:\n",
    "        return int(s)\n",
    "    except ValueError:\n",
    "        print(f\"Cannot convert {s} to an integer.\")\n",
    "        raise MyError(\"Catch me if you can.\")\n",
    "         \n",
    "convert_to_int(\"12.34\")"
   ]
  },
  {
   "cell_type": "code",
   "execution_count": null,
   "id": "b8e01a09",
   "metadata": {
    "slideshow": {
     "slide_type": "slide"
    }
   },
   "outputs": [],
   "source": [
    "def division(x, y):\n",
    "    try:\n",
    "        result = x / y\n",
    "    except ZeroDivisionError:\n",
    "        print(\"division by zero error!\")\n",
    "    else:\n",
    "        print(f\"The result is {result}\")\n",
    "    finally:\n",
    "        print(\"This will execute anyway\")"
   ]
  },
  {
   "cell_type": "code",
   "execution_count": null,
   "id": "5e684a20",
   "metadata": {
    "slideshow": {
     "slide_type": "subslide"
    }
   },
   "outputs": [],
   "source": [
    "division(1, 2)"
   ]
  },
  {
   "cell_type": "code",
   "execution_count": null,
   "id": "e10a0051",
   "metadata": {
    "slideshow": {
     "slide_type": "fragment"
    }
   },
   "outputs": [],
   "source": [
    "division(1, 0)"
   ]
  },
  {
   "cell_type": "markdown",
   "id": "fcadb2e3",
   "metadata": {
    "slideshow": {
     "slide_type": "slide"
    }
   },
   "source": [
    "# Fájlműveletek (File handling)"
   ]
  },
  {
   "cell_type": "code",
   "execution_count": null,
   "id": "d4e03527",
   "metadata": {
    "slideshow": {
     "slide_type": "slide"
    }
   },
   "outputs": [],
   "source": [
    "filepath = \"./data/P0022_names.txt\"\n",
    "\n",
    "# A felkiáltójellel Jupyterben az operációs rendszer parancsait tudom meghívni, pl. Linux alatt a `head` parancsot\n",
    "!head -n 5 $filepath"
   ]
  },
  {
   "cell_type": "code",
   "execution_count": null,
   "id": "a6127459",
   "metadata": {
    "slideshow": {
     "slide_type": "fragment"
    }
   },
   "outputs": [],
   "source": [
    "names = []\n",
    "f = open(filepath, \"r\")\n",
    "\n",
    "while (line := f.readline()):\n",
    "    names.append(line)\n",
    "\n",
    "f.close()"
   ]
  },
  {
   "cell_type": "code",
   "execution_count": null,
   "id": "41af07ef",
   "metadata": {
    "slideshow": {
     "slide_type": "slide"
    }
   },
   "outputs": [],
   "source": [
    "print(names[:5])"
   ]
  },
  {
   "cell_type": "code",
   "execution_count": null,
   "id": "1f289e62",
   "metadata": {
    "slideshow": {
     "slide_type": "fragment"
    }
   },
   "outputs": [],
   "source": [
    "names = []\n",
    "# Megnyitunk egy fájlt olvasásra\n",
    "f = open(filepath, \"r\")\n",
    "\n",
    "while (line := f.readline()):\n",
    "    names.append(line.rstrip())\n",
    "\n",
    "# A megnyitott fájlt bezárjuk\n",
    "f.close()   \n",
    "\n",
    "names[:5]"
   ]
  },
  {
   "cell_type": "code",
   "execution_count": null,
   "id": "1fa48721",
   "metadata": {
    "slideshow": {
     "slide_type": "slide"
    }
   },
   "outputs": [],
   "source": [
    "names = []\n",
    "f = open(filepath, \"r\")\n",
    "\n",
    "lines = f.readlines()\n",
    "\n",
    "f.close()\n",
    "\n",
    "lines[:5]"
   ]
  },
  {
   "cell_type": "code",
   "execution_count": null,
   "id": "6befea96",
   "metadata": {
    "slideshow": {
     "slide_type": "slide"
    }
   },
   "outputs": [],
   "source": [
    "names = []\n",
    "f = open(filepath, \"r\")\n",
    "\n",
    "lines = f.read().splitlines()\n",
    "\n",
    "f.close() \n",
    "\n",
    "lines[:5]"
   ]
  },
  {
   "cell_type": "code",
   "execution_count": null,
   "id": "f132c308",
   "metadata": {
    "slideshow": {
     "slide_type": "slide"
    }
   },
   "outputs": [],
   "source": [
    "# Fájl megnyitás with-utasítással, a blokk végén automatikusan zárja a fájlt\n",
    "\n",
    "with open(filepath, \"r\") as f:\n",
    "    content = f.read().splitlines()\n",
    "    \n",
    "\n",
    "content[:5]    "
   ]
  },
  {
   "cell_type": "markdown",
   "id": "50908c1e",
   "metadata": {
    "slideshow": {
     "slide_type": "slide"
    }
   },
   "source": [
    "HF: Ebben a fájlban keresztnevek vannak. Hány olyan lényegében különböző névpár van, hogy a pár második eleme az első névnek a megfordítottja?\n",
    "\n",
    "pl. (\"NORA\", \"ARON\")\n",
    "\n",
    "\n",
    "Az (\"ARON\", \"NORA\") pár nem különbözik lényegében az előzőtől.\n",
    "\n",
    "A nevek kezdőbetűit tekintve melyik az 5 leggyakoribb? W-vel vagy C-vel kezdődik több név?"
   ]
  }
 ],
 "metadata": {
  "celltoolbar": "Slideshow",
  "kernelspec": {
   "display_name": "Python 3 (ipykernel)",
   "language": "python",
   "name": "python3"
  },
  "language_info": {
   "codemirror_mode": {
    "name": "ipython",
    "version": 3
   },
   "file_extension": ".py",
   "mimetype": "text/x-python",
   "name": "python",
   "nbconvert_exporter": "python",
   "pygments_lexer": "ipython3",
   "version": "3.9.12"
  }
 },
 "nbformat": 4,
 "nbformat_minor": 5
}
