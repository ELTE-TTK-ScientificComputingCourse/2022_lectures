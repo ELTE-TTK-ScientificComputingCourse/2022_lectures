{
 "cells": [
  {
   "cell_type": "markdown",
   "id": "5ff8d28e",
   "metadata": {
    "slideshow": {
     "slide_type": "slide"
    }
   },
   "source": [
    "# A Python beépített adatszerkezetei II. (Python collections - part II.) "
   ]
  },
  {
   "cell_type": "markdown",
   "id": "72288217",
   "metadata": {
    "slideshow": {
     "slide_type": "slide"
    }
   },
   "source": [
    "## Szótárak, kulcs-érték párok (Dictionaries)"
   ]
  },
  {
   "cell_type": "markdown",
   "id": "985f3742",
   "metadata": {
    "slideshow": {
     "slide_type": "subslide"
    }
   },
   "source": [
    "Gyakran előfordul olyan probléma, hogy különböző dolgokat kell eltárolnunk, amelyek nem valamilyen index alapján azonosíthatók, hanem valamilyen kulcs alapján.\n",
    "\n",
    "Például egy telefonkönyvben (tudjátok mi az a telefonkönyv?) nevekhez rendelünk telefonszámot, egy angol-francia szótárban angol szavakhoz a megfelelő francia szót, vagy esetleg szavakat, országokhoz a fővárosaikat, hallgatókhoz a felvett tárgyaikat, írókhoz a könyveiket, stb."
   ]
  },
  {
   "cell_type": "markdown",
   "id": "3e3fa412",
   "metadata": {
    "slideshow": {
     "slide_type": "fragment"
    }
   },
   "source": [
    "Országokhoz rendeljük hozzá a fővárosukat.\n",
    "```\n",
    "Hungary -> Budapest\n",
    "France -> Paris\n",
    "Australia -> Canberra\n",
    "Spain -> Madrid\n",
    "```"
   ]
  },
  {
   "cell_type": "markdown",
   "id": "4ea98f53",
   "metadata": {
    "slideshow": {
     "slide_type": "fragment"
    }
   },
   "source": [
    "Személyekhez rendeljük a hangszereket, amelyeken játszani tudnak.\n",
    "```\n",
    "Anna -> [hegedű, cselló, trombita]\n",
    "Béla -> [tangóharmonika]\n",
    "Gábor -> [dob, okarina]\n",
    "```"
   ]
  },
  {
   "cell_type": "markdown",
   "id": "fd3629a6",
   "metadata": {
    "slideshow": {
     "slide_type": "slide"
    }
   },
   "source": [
    "Lehet-e az eddig tanult adatszerkezetekkel eltárolni ilyen (kulcs, érték) párokból álló elemeket?"
   ]
  },
  {
   "cell_type": "code",
   "execution_count": 1,
   "id": "0d9b7368",
   "metadata": {
    "slideshow": {
     "slide_type": "fragment"
    }
   },
   "outputs": [],
   "source": [
    "capitals = [\n",
    "    (\"Hungary\", \"Budapest\"), \n",
    "    (\"France\", \"Paris\"), \n",
    "    (\"Australia\", \"Canberra\"), \n",
    "    (\"Spain\", \"Madrid\")\n",
    "]"
   ]
  },
  {
   "cell_type": "code",
   "execution_count": 2,
   "id": "f941afe2",
   "metadata": {
    "slideshow": {
     "slide_type": "slide"
    }
   },
   "outputs": [
    {
     "name": "stdout",
     "output_type": "stream",
     "text": [
      "Madrid\n",
      "None\n"
     ]
    }
   ],
   "source": [
    "def capital_of_a_country(capitals, country):\n",
    "    for country_name, capital_name in capitals:\n",
    "        if country_name == country:\n",
    "            return capital_name\n",
    "    \n",
    "    # Country is not found\n",
    "    return None    \n",
    "    \n",
    "    \n",
    "print(capital_of_a_country(capitals, \"Spain\"))\n",
    "print(capital_of_a_country(capitals, \"Austria\"))"
   ]
  },
  {
   "cell_type": "markdown",
   "id": "512cd418",
   "metadata": {
    "slideshow": {
     "slide_type": "slide"
    }
   },
   "source": [
    "Mennyi ideig tart, amíg egy adott kulcshoz megtaláljuk a megfelelő értéke? Függ-e ez a párokból álló lista hosszától? Szokás ezt az adatszerkezetet asszociatív listának is nevezni."
   ]
  },
  {
   "cell_type": "markdown",
   "id": "8f355aa6",
   "metadata": {
    "slideshow": {
     "slide_type": "subslide"
    }
   },
   "source": [
    "Nekünk olyan adatszerkezet lenne megfelelő, ahol\n",
    "* a kulcs alapján történő keresés \n",
    "* kulcs alapján új elem beszúrása\n",
    "* kulcs alapján elem törlése\n",
    "\n",
    "gyors műveletek.\n",
    "\n",
    "Sajnos a (kulcs, érték) párokból álló lista mindhárom műveletre lassú. Azonban szerencsénk van, van egy olyan adatszerkezet, amely átlagosan konstans idő alatt képes mindhárom műveletre és csak nagyon ritkán, a körülmények szerencsétlen együttállása esetén lesz alkalmanként egy-egy ilyen művelet lassú. Emellett a tárhely, amit foglal, szintén nem nagyobb, mint az elemek tárolásával arányos méretű hely.\n",
    "\n",
    "Erről sokkal többet fogtok tanulni algoritmuselméleti órákon. Legyen most annyi elég, hogy kétféle módon lehet hatékony adatszerkezetet készíteni erre a problémára, az egyik gyors és mutable, a másik kicsit lassabb, de immutable és csak rendezhető kulcsokra készíthető el."
   ]
  },
  {
   "cell_type": "markdown",
   "id": "14ef2038",
   "metadata": {
    "slideshow": {
     "slide_type": "slide"
    }
   },
   "source": [
    "Pythonban az első van implementálva a beépített adatszerkezetek között, nevezetesen a hash-tábla alapú. Ennek az adatszerkezetnek a neve `dictionary`.\n",
    "\n",
    "A hash-tábla alapötlete, hogy van egy hash-függvénynek nevezett $h$ függvény a háttérben, ami a $k$ kulcsot $h(k)$-va viszi úgy, hogy különböző kulcsok nagy valószínűséggel különböző értékre képződnek le, az értéket pedig (a kulccsal együtt) egy tömb $h(k)$-adik indexénél tároljuk el."
   ]
  },
  {
   "cell_type": "code",
   "execution_count": 3,
   "id": "76a07e99",
   "metadata": {
    "slideshow": {
     "slide_type": "subslide"
    }
   },
   "outputs": [],
   "source": [
    "# {key1: value1, key2: value2, ....}\n",
    "\n",
    "country_capitals = {\n",
    "    \"Hungary\": \"Budapest\", \n",
    "    \"France\": \"Paris\", \n",
    "    \"Australia\": \"Canberra\", \n",
    "    \"Spain\": \"Madrid\"\n",
    "}"
   ]
  },
  {
   "cell_type": "code",
   "execution_count": 4,
   "id": "8d45317c",
   "metadata": {
    "slideshow": {
     "slide_type": "subslide"
    }
   },
   "outputs": [
    {
     "data": {
      "text/plain": [
       "{'Hungary': 'Budapest',\n",
       " 'France': 'Paris',\n",
       " 'Australia': 'Canberra',\n",
       " 'Spain': 'Madrid'}"
      ]
     },
     "execution_count": 4,
     "metadata": {},
     "output_type": "execute_result"
    }
   ],
   "source": [
    "countries = [\"Hungary\", \"France\", \"Australia\", \"Spain\"]\n",
    "capitals = [\"Budapest\", \"Paris\", \"Canberra\", \"Madrid\"]\n",
    "\n",
    "# dict-comprehension\n",
    "{country: capital for country, capital in zip(countries, capitals)}"
   ]
  },
  {
   "cell_type": "code",
   "execution_count": 5,
   "id": "5ec9e7fd",
   "metadata": {
    "slideshow": {
     "slide_type": "subslide"
    }
   },
   "outputs": [
    {
     "data": {
      "text/plain": [
       "{'Hungary': 'Budapest',\n",
       " 'France': 'Paris',\n",
       " 'Australia': 'Canberra',\n",
       " 'Spain': 'Madrid'}"
      ]
     },
     "execution_count": 5,
     "metadata": {},
     "output_type": "execute_result"
    }
   ],
   "source": [
    "dict(zip(countries, capitals))"
   ]
  },
  {
   "cell_type": "code",
   "execution_count": 6,
   "id": "1f2105b2",
   "metadata": {
    "slideshow": {
     "slide_type": "slide"
    }
   },
   "outputs": [
    {
     "name": "stdout",
     "output_type": "stream",
     "text": [
      "False\n",
      "True\n"
     ]
    }
   ],
   "source": [
    "# Az `in` kulcsszót használjuk annak a tesztelésére, hogy valami előfordul-e kulcsként a szótárban.\n",
    "\n",
    "print(\"Portugal\" in country_capitals)\n",
    "\n",
    "print(\"Spain\" in country_capitals)"
   ]
  },
  {
   "cell_type": "code",
   "execution_count": 8,
   "id": "aca32063",
   "metadata": {
    "slideshow": {
     "slide_type": "fragment"
    }
   },
   "outputs": [
    {
     "data": {
      "text/plain": [
       "'Paris'"
      ]
     },
     "execution_count": 8,
     "metadata": {},
     "output_type": "execute_result"
    }
   ],
   "source": [
    "# Adott kulcshoz tartozó érték lekérdezése\n",
    "\n",
    "country_capitals[\"France\"]"
   ]
  },
  {
   "cell_type": "code",
   "execution_count": 9,
   "id": "a68ed411",
   "metadata": {
    "slideshow": {
     "slide_type": "fragment"
    }
   },
   "outputs": [
    {
     "ename": "KeyError",
     "evalue": "'Italy'",
     "output_type": "error",
     "traceback": [
      "\u001b[0;31m---------------------------------------------------------------------------\u001b[0m",
      "\u001b[0;31mKeyError\u001b[0m                                  Traceback (most recent call last)",
      "Input \u001b[0;32mIn [9]\u001b[0m, in \u001b[0;36m<cell line: 1>\u001b[0;34m()\u001b[0m\n\u001b[0;32m----> 1\u001b[0m \u001b[43mcountry_capitals\u001b[49m\u001b[43m[\u001b[49m\u001b[38;5;124;43m\"\u001b[39;49m\u001b[38;5;124;43mItaly\u001b[39;49m\u001b[38;5;124;43m\"\u001b[39;49m\u001b[43m]\u001b[49m\n",
      "\u001b[0;31mKeyError\u001b[0m: 'Italy'"
     ]
    }
   ],
   "source": [
    "country_capitals[\"Italy\"]"
   ]
  },
  {
   "cell_type": "code",
   "execution_count": 10,
   "id": "0b2edb66",
   "metadata": {
    "slideshow": {
     "slide_type": "slide"
    }
   },
   "outputs": [
    {
     "data": {
      "text/plain": [
       "'Paris'"
      ]
     },
     "execution_count": 10,
     "metadata": {},
     "output_type": "execute_result"
    }
   ],
   "source": [
    "country_capitals.get(\"France\")"
   ]
  },
  {
   "cell_type": "code",
   "execution_count": 11,
   "id": "51735054",
   "metadata": {
    "slideshow": {
     "slide_type": "subslide"
    }
   },
   "outputs": [
    {
     "name": "stdout",
     "output_type": "stream",
     "text": [
      "None\n",
      "I do not know.\n"
     ]
    }
   ],
   "source": [
    "# Ha nincs ilyen kulcs, kérhetünk default értéket is\n",
    "\n",
    "print(country_capitals.get(\"Italy\"))\n",
    "\n",
    "print(country_capitals.get(\"Italy\", \"I do not know.\"))"
   ]
  },
  {
   "cell_type": "code",
   "execution_count": 12,
   "id": "003a55e1",
   "metadata": {
    "slideshow": {
     "slide_type": "subslide"
    }
   },
   "outputs": [
    {
     "name": "stdout",
     "output_type": "stream",
     "text": [
      "Hungary\n",
      "France\n",
      "Australia\n",
      "Spain\n"
     ]
    }
   ],
   "source": [
    "# Iterálás egy szótáron:\n",
    "\n",
    "for country in country_capitals:\n",
    "    print(country)"
   ]
  },
  {
   "cell_type": "code",
   "execution_count": 13,
   "id": "b06e5eee",
   "metadata": {
    "slideshow": {
     "slide_type": "subslide"
    }
   },
   "outputs": [
    {
     "name": "stdout",
     "output_type": "stream",
     "text": [
      "Hungary\n",
      "France\n",
      "Australia\n",
      "Spain\n"
     ]
    }
   ],
   "source": [
    "for country in country_capitals.keys():\n",
    "    print(country)"
   ]
  },
  {
   "cell_type": "code",
   "execution_count": 14,
   "id": "aa0918ab",
   "metadata": {
    "slideshow": {
     "slide_type": "subslide"
    }
   },
   "outputs": [
    {
     "name": "stdout",
     "output_type": "stream",
     "text": [
      "Budapest\n",
      "Paris\n",
      "Canberra\n",
      "Madrid\n"
     ]
    }
   ],
   "source": [
    "for capital in country_capitals.values():\n",
    "    print(capital)"
   ]
  },
  {
   "cell_type": "code",
   "execution_count": 15,
   "id": "e6abc129",
   "metadata": {
    "slideshow": {
     "slide_type": "subslide"
    }
   },
   "outputs": [
    {
     "name": "stdout",
     "output_type": "stream",
     "text": [
      "The capital of Hungary is Budapest.\n",
      "The capital of France is Paris.\n",
      "The capital of Australia is Canberra.\n",
      "The capital of Spain is Madrid.\n"
     ]
    }
   ],
   "source": [
    "for country, capital in country_capitals.items():\n",
    "    print(f\"The capital of {country} is {capital}.\")"
   ]
  },
  {
   "cell_type": "code",
   "execution_count": 16,
   "id": "e15c0c35",
   "metadata": {
    "slideshow": {
     "slide_type": "subslide"
    }
   },
   "outputs": [
    {
     "data": {
      "text/plain": [
       "{'Hungary': 'Budapest',\n",
       " 'France': 'Paris',\n",
       " 'Australia': 'Canberra',\n",
       " 'Spain': 'Madrid',\n",
       " 'Serbia': 'Belgrade'}"
      ]
     },
     "execution_count": 16,
     "metadata": {},
     "output_type": "execute_result"
    }
   ],
   "source": [
    "country_capitals[\"Serbia\"] = \"Belgrade\"\n",
    "\n",
    "country_capitals"
   ]
  },
  {
   "cell_type": "code",
   "execution_count": 17,
   "id": "3a0fa7b8",
   "metadata": {
    "slideshow": {
     "slide_type": "slide"
    }
   },
   "outputs": [
    {
     "name": "stdout",
     "output_type": "stream",
     "text": [
      "Paris\n"
     ]
    },
    {
     "data": {
      "text/plain": [
       "{'Hungary': 'Budapest',\n",
       " 'Australia': 'Canberra',\n",
       " 'Spain': 'Madrid',\n",
       " 'Serbia': 'Belgrade'}"
      ]
     },
     "execution_count": 17,
     "metadata": {},
     "output_type": "execute_result"
    }
   ],
   "source": [
    "capital_of_france =  country_capitals.pop(\"France\")\n",
    "\n",
    "print(capital_of_france)\n",
    "\n",
    "country_capitals"
   ]
  },
  {
   "cell_type": "code",
   "execution_count": 18,
   "id": "8d036b43",
   "metadata": {
    "slideshow": {
     "slide_type": "subslide"
    }
   },
   "outputs": [
    {
     "ename": "KeyError",
     "evalue": "'Austria'",
     "output_type": "error",
     "traceback": [
      "\u001b[0;31m---------------------------------------------------------------------------\u001b[0m",
      "\u001b[0;31mKeyError\u001b[0m                                  Traceback (most recent call last)",
      "Input \u001b[0;32mIn [18]\u001b[0m, in \u001b[0;36m<cell line: 1>\u001b[0;34m()\u001b[0m\n\u001b[0;32m----> 1\u001b[0m \u001b[43mcountry_capitals\u001b[49m\u001b[38;5;241;43m.\u001b[39;49m\u001b[43mpop\u001b[49m\u001b[43m(\u001b[49m\u001b[38;5;124;43m\"\u001b[39;49m\u001b[38;5;124;43mAustria\u001b[39;49m\u001b[38;5;124;43m\"\u001b[39;49m\u001b[43m)\u001b[49m\n",
      "\u001b[0;31mKeyError\u001b[0m: 'Austria'"
     ]
    }
   ],
   "source": [
    "country_capitals.pop(\"Austria\")"
   ]
  },
  {
   "cell_type": "code",
   "execution_count": 19,
   "id": "e338d5f3",
   "metadata": {
    "slideshow": {
     "slide_type": "subslide"
    }
   },
   "outputs": [
    {
     "data": {
      "text/plain": [
       "{'Hungary': 'Budapest', 'Australia': 'Canberra', 'Serbia': 'Belgrade'}"
      ]
     },
     "execution_count": 19,
     "metadata": {},
     "output_type": "execute_result"
    }
   ],
   "source": [
    "del country_capitals[\"Spain\"]\n",
    "\n",
    "country_capitals"
   ]
  },
  {
   "cell_type": "markdown",
   "id": "dfe5e8be",
   "metadata": {
    "slideshow": {
     "slide_type": "slide"
    }
   },
   "source": [
    "Egy hash-függvény csak immutable dolgokat tud hash-elni, ha ugyanis megváltozna (mutálódna) a kulcs, akkor többé nem tudnánk megkeresni a hozzá tartozó értéket, hiszen $f(k)$ helyett az $f(k')$ helyen próbálnánk keresni az értéket, de az az $f(k)$ helyen van eltárolva."
   ]
  },
  {
   "cell_type": "code",
   "execution_count": 21,
   "id": "1141305b",
   "metadata": {
    "slideshow": {
     "slide_type": "fragment"
    }
   },
   "outputs": [
    {
     "data": {
      "text/plain": [
       "{'Hello': 1, 10: 2}"
      ]
     },
     "execution_count": 21,
     "metadata": {},
     "output_type": "execute_result"
    }
   ],
   "source": [
    "d = {}\n",
    "\n",
    "d[\"Hello\"] = 1\n",
    "d[10] = 2\n",
    "\n",
    "d"
   ]
  },
  {
   "cell_type": "code",
   "execution_count": null,
   "id": "23351f9a",
   "metadata": {
    "slideshow": {
     "slide_type": "fragment"
    }
   },
   "outputs": [],
   "source": [
    "d[[1, 2]] = 3"
   ]
  },
  {
   "cell_type": "markdown",
   "id": "bf0a68ee",
   "metadata": {
    "slideshow": {
     "slide_type": "slide"
    }
   },
   "source": [
    "Lista tehát nem használható dictionary kulcsaként, de tuple igen. Minden olyan dolog lehet kulcs, ami hashelhető."
   ]
  },
  {
   "cell_type": "markdown",
   "id": "d05f460a",
   "metadata": {
    "slideshow": {
     "slide_type": "slide"
    }
   },
   "source": [
    "## Halmazok (Sets)"
   ]
  },
  {
   "cell_type": "markdown",
   "id": "0f41b361",
   "metadata": {
    "slideshow": {
     "slide_type": "subslide"
    }
   },
   "source": [
    "A halmaz olyan adatszerkezet, amely csupa különböző elemet tartalmaz. Ez persze implicit módon azt is jelenti, hogy a halmazba tett elemeket össze kell tudnunk hasonlítani egyenlőség szempontjából. Ami viszont nem egyértelmű, hogy halmazba csak hash-elhető elem kerülhet. Ennek az az oka, hogy a halmaz adatszerkezet Pythonban ismét hash-táblával van implementálva.\n",
    "\n",
    "Ugyan első hallásra a `dictionary` és a `set` nagyon különböző adatszerkezetnek tűnhet, valójában nagyon hasonló módon vannak implementálva."
   ]
  },
  {
   "cell_type": "code",
   "execution_count": 22,
   "id": "efd43d2e",
   "metadata": {
    "slideshow": {
     "slide_type": "slide"
    }
   },
   "outputs": [
    {
     "data": {
      "text/plain": [
       "{'fej', 'írás'}"
      ]
     },
     "execution_count": 22,
     "metadata": {},
     "output_type": "execute_result"
    }
   ],
   "source": [
    "# Ugyanúgy kapcsos zárójel határolja az elemeket, mint a dictionary-nél,\n",
    "# ez is mutatja, hogy szoros kapcsolat van a két adatszerkezet között\n",
    "\n",
    "{\"fej\", \"írás\", \"írás\", \"írás\", \"fej\"}"
   ]
  },
  {
   "cell_type": "code",
   "execution_count": 23,
   "id": "47c5f1ac",
   "metadata": {
    "slideshow": {
     "slide_type": "fragment"
    }
   },
   "outputs": [
    {
     "data": {
      "text/plain": [
       "{'i', 'k', 'r', 'u'}"
      ]
     },
     "execution_count": 23,
     "metadata": {},
     "output_type": "execute_result"
    }
   ],
   "source": [
    "string = \"kukkkuuuurrrriiiikuuuuuuuu\"\n",
    "\n",
    "letters = set()  # a {} az üres dict-et jelöli\n",
    "for char in string:\n",
    "    letters.add(char)\n",
    "    \n",
    "\n",
    "letters  "
   ]
  },
  {
   "cell_type": "code",
   "execution_count": 24,
   "id": "d8488573",
   "metadata": {
    "slideshow": {
     "slide_type": "fragment"
    }
   },
   "outputs": [
    {
     "data": {
      "text/plain": [
       "{'i', 'k', 'r', 'u'}"
      ]
     },
     "execution_count": 24,
     "metadata": {},
     "output_type": "execute_result"
    }
   ],
   "source": [
    "# Set comprehension\n",
    "\n",
    "{char for char in string}"
   ]
  },
  {
   "cell_type": "code",
   "execution_count": 25,
   "id": "866c0fa8",
   "metadata": {
    "slideshow": {
     "slide_type": "slide"
    }
   },
   "outputs": [
    {
     "name": "stdout",
     "output_type": "stream",
     "text": [
      "{1, 2, 3, 4, 5, 6}\n",
      "{1, 2, 3, 4, 5, 6}\n",
      "\n",
      "{4, 5}\n",
      "{4, 5}\n",
      "True\n",
      "False\n"
     ]
    }
   ],
   "source": [
    "s = {1, 2, 3, 4, 5}\n",
    "t = {4, 5, 6}\n",
    "u = {5, 6}\n",
    "\n",
    "print(s.union(t))\n",
    "print(s | t)\n",
    "print()\n",
    "\n",
    "print(s.intersection(t))\n",
    "print(s & t)\n",
    "\n",
    "print(u.issubset(t))\n",
    "print(s.issuperset(u))"
   ]
  },
  {
   "cell_type": "code",
   "execution_count": 26,
   "id": "f5414af4",
   "metadata": {
    "slideshow": {
     "slide_type": "subslide"
    }
   },
   "outputs": [
    {
     "name": "stdout",
     "output_type": "stream",
     "text": [
      "{1, 2, 3, 4, 5}\n"
     ]
    }
   ],
   "source": [
    "s = {1, 2, 3}\n",
    "\n",
    "lst = [1, 1, 2, 4, 5]\n",
    "\n",
    "s.update(lst)\n",
    "\n",
    "print(s)"
   ]
  },
  {
   "cell_type": "code",
   "execution_count": 27,
   "id": "96903fb0",
   "metadata": {
    "slideshow": {
     "slide_type": "subslide"
    }
   },
   "outputs": [
    {
     "name": "stdout",
     "output_type": "stream",
     "text": [
      "{3}\n"
     ]
    }
   ],
   "source": [
    "s = {1, 2, 3}\n",
    "\n",
    "lst = [1, 1, 2, 4, 5]\n",
    "\n",
    "s.difference_update(lst)\n",
    "\n",
    "print(s)"
   ]
  },
  {
   "cell_type": "markdown",
   "id": "5297418b",
   "metadata": {
    "slideshow": {
     "slide_type": "slide"
    }
   },
   "source": [
    "A halmaz mutable adatszerkezet, azonban a listához hasonlóan ennek is létetzik immutable párja, a `frozenset`.\n",
    "\n",
    "```python\n",
    "s = frozenset({1, 2, 3})\n",
    "```"
   ]
  },
  {
   "cell_type": "markdown",
   "id": "32b5f725",
   "metadata": {
    "slideshow": {
     "slide_type": "slide"
    }
   },
   "source": [
    "Feladat: Számoljuk meg egy szövegben a betűk előfordulásainak számát."
   ]
  },
  {
   "cell_type": "code",
   "execution_count": 28,
   "id": "2310fecc",
   "metadata": {
    "slideshow": {
     "slide_type": "fragment"
    }
   },
   "outputs": [],
   "source": [
    "text = \"The most disastrous thing that you can ever learn is your first programming language. - Alan Kay\""
   ]
  },
  {
   "cell_type": "code",
   "execution_count": 29,
   "id": "371ad84b",
   "metadata": {
    "slideshow": {
     "slide_type": "slide"
    }
   },
   "outputs": [
    {
     "name": "stdout",
     "output_type": "stream",
     "text": [
      "{'T': 1, 'h': 3, 'e': 5, ' ': 16, 'm': 3, 'o': 5, 's': 6, 't': 6, 'd': 1, 'i': 5, 'a': 9, 'r': 7, 'u': 4, 'n': 6, 'g': 5, 'y': 3, 'c': 1, 'v': 1, 'l': 3, 'f': 1, 'p': 1, '.': 1, '-': 1, 'A': 1, 'K': 1}\n"
     ]
    }
   ],
   "source": [
    "def count_letters(string):\n",
    "    counts = {}\n",
    "    for char in string:\n",
    "        if char in counts:\n",
    "            counts[char] += 1\n",
    "        else:\n",
    "            counts[char] = 1\n",
    "    \n",
    "    return counts\n",
    "\n",
    "\n",
    "print(count_letters(text))"
   ]
  },
  {
   "cell_type": "code",
   "execution_count": 30,
   "id": "832ccc86",
   "metadata": {
    "slideshow": {
     "slide_type": "slide"
    }
   },
   "outputs": [
    {
     "name": "stdout",
     "output_type": "stream",
     "text": [
      "{'T': 1, 'h': 3, 'e': 5, ' ': 16, 'm': 3, 'o': 5, 's': 6, 't': 6, 'd': 1, 'i': 5, 'a': 9, 'r': 7, 'u': 4, 'n': 6, 'g': 5, 'y': 3, 'c': 1, 'v': 1, 'l': 3, 'f': 1, 'p': 1, '.': 1, '-': 1, 'A': 1, 'K': 1}\n"
     ]
    }
   ],
   "source": [
    "def count_letters_2(string):\n",
    "    counts = {}\n",
    "    for char in string:\n",
    "        counts[char] = counts.get(char, 0) + 1\n",
    "    \n",
    "    return counts\n",
    "\n",
    "\n",
    "print(count_letters_2(text))"
   ]
  },
  {
   "cell_type": "markdown",
   "id": "357e35a9",
   "metadata": {
    "slideshow": {
     "slide_type": "slide"
    }
   },
   "source": [
    "## Egyéb hasznos adatszerkezetek (More collections)"
   ]
  },
  {
   "cell_type": "markdown",
   "id": "b4fc3ac6",
   "metadata": {
    "slideshow": {
     "slide_type": "slide"
    }
   },
   "source": [
    "További gyakran használatos adatszerkezetek érhetők el a `collections` könyvtárban. Az itt implementált adatszerkezeteket be kell importálni, hogy használni tudjuk."
   ]
  },
  {
   "cell_type": "code",
   "execution_count": 31,
   "id": "3d200a81",
   "metadata": {
    "slideshow": {
     "slide_type": "subslide"
    }
   },
   "outputs": [
    {
     "name": "stdout",
     "output_type": "stream",
     "text": [
      "defaultdict(<class 'int'>, {})\n"
     ]
    }
   ],
   "source": [
    "# Ezen a módon a collections könyvtár tartalma elérhetővé válik a collections-prefixszel\n",
    "import collections\n",
    "\n",
    "d = collections.defaultdict(int)\n",
    "\n",
    "print(d)"
   ]
  },
  {
   "cell_type": "code",
   "execution_count": 32,
   "id": "faaa221b",
   "metadata": {
    "slideshow": {
     "slide_type": "subslide"
    }
   },
   "outputs": [
    {
     "name": "stdout",
     "output_type": "stream",
     "text": [
      "defaultdict(<class 'int'>, {})\n"
     ]
    }
   ],
   "source": [
    "# Az importált modult egy alias-szal látunk el és így lehet hivatkozni a modul függvényeire, osztályaira\n",
    "import collections as cl\n",
    "\n",
    "d = cl.defaultdict(int)\n",
    "\n",
    "print(d)"
   ]
  },
  {
   "cell_type": "code",
   "execution_count": 33,
   "id": "657bcb47",
   "metadata": {
    "slideshow": {
     "slide_type": "subslide"
    }
   },
   "outputs": [
    {
     "name": "stdout",
     "output_type": "stream",
     "text": [
      "defaultdict(<class 'int'>, {})\n"
     ]
    }
   ],
   "source": [
    "# Iyl módon a futó kód globális névteréből lesz elérhető a beimportált függvény vagy osztály\n",
    "from collections import defaultdict\n",
    "\n",
    "d = defaultdict(int)\n",
    "\n",
    "print(d)"
   ]
  },
  {
   "cell_type": "markdown",
   "id": "7134e09c",
   "metadata": {
    "slideshow": {
     "slide_type": "slide"
    }
   },
   "source": [
    "A `defaultdict` egy olyan szótár, amely nem dob hibát, ha nemlétező kulcsot keresünk benne, hanem ilyenkor beteszi az új kulcsot egy alapértelmezett értékkel: `defaultdict(int)` esetén a default érték 0, `defaultdict(list)` esetén az üres lista, `defaultdict(set)` esetén az üres halmaz."
   ]
  },
  {
   "cell_type": "code",
   "execution_count": 34,
   "id": "21c77ba8",
   "metadata": {
    "slideshow": {
     "slide_type": "fragment"
    }
   },
   "outputs": [
    {
     "name": "stdout",
     "output_type": "stream",
     "text": [
      "defaultdict(<class 'int'>, {'T': 1, 'h': 3, 'e': 5, ' ': 16, 'm': 3, 'o': 5, 's': 6, 't': 6, 'd': 1, 'i': 5, 'a': 9, 'r': 7, 'u': 4, 'n': 6, 'g': 5, 'y': 3, 'c': 1, 'v': 1, 'l': 3, 'f': 1, 'p': 1, '.': 1, '-': 1, 'A': 1, 'K': 1})\n"
     ]
    }
   ],
   "source": [
    "def count_letters_3(string):\n",
    "    counts = defaultdict(int)\n",
    "    for char in string:\n",
    "        counts[char] += 1 \n",
    "    \n",
    "    return counts\n",
    "\n",
    "\n",
    "print(count_letters_3(text))"
   ]
  },
  {
   "cell_type": "markdown",
   "id": "5d89adbc",
   "metadata": {
    "slideshow": {
     "slide_type": "slide"
    }
   },
   "source": [
    "Mivel megszámlálni elemeket elég gyakori feladat, erre van egy külön osztály, ami ezt a problémát oldja meg."
   ]
  },
  {
   "cell_type": "code",
   "execution_count": 35,
   "id": "4d76553f",
   "metadata": {
    "slideshow": {
     "slide_type": "fragment"
    }
   },
   "outputs": [
    {
     "name": "stdout",
     "output_type": "stream",
     "text": [
      "[(' ', 16), ('a', 9), ('r', 7), ('s', 6), ('t', 6)]\n",
      "\n",
      "dict_items([('T', 1), ('h', 3), ('e', 5), (' ', 16), ('m', 3), ('o', 5), ('s', 6), ('t', 6), ('d', 1), ('i', 5), ('a', 9), ('r', 7), ('u', 4), ('n', 6), ('g', 5), ('y', 3), ('c', 1), ('v', 1), ('l', 3), ('f', 1), ('p', 1), ('.', 1), ('-', 1), ('A', 1), ('K', 1)])\n"
     ]
    }
   ],
   "source": [
    "from collections import Counter\n",
    "\n",
    "\n",
    "def count_letters_4(string):\n",
    "    return Counter(string)\n",
    "\n",
    "\n",
    "counter = count_letters_4(text)\n",
    "\n",
    "print(counter.most_common(n=5))\n",
    "print()\n",
    "print(counter.items())"
   ]
  },
  {
   "cell_type": "markdown",
   "id": "3d07fd71",
   "metadata": {
    "slideshow": {
     "slide_type": "slide"
    }
   },
   "source": [
    "Végül egy jópofa adatszerkezetről lesz szó, a `namedtuple`-ről, ami egy olyan tuple, ahol a mezők nem csak index alapján, hanem név alapján is elérhetők."
   ]
  },
  {
   "cell_type": "code",
   "execution_count": 36,
   "id": "81eb9b08",
   "metadata": {
    "slideshow": {
     "slide_type": "fragment"
    }
   },
   "outputs": [
    {
     "data": {
      "text/plain": [
       "(2, 46, 40)"
      ]
     },
     "execution_count": 36,
     "metadata": {},
     "output_type": "execute_result"
    }
   ],
   "source": [
    "def seconds_to_time(seconds):\n",
    "    \"\"\"Convert time in seconds to hour, minute, second format\"\"\"\n",
    "    minutes, seconds = divmod(seconds, 60)\n",
    "    hours, minutes = divmod(minutes, 60)\n",
    "    return hours, minutes, seconds\n",
    "\n",
    "\n",
    "seconds_to_time(10000)"
   ]
  },
  {
   "cell_type": "code",
   "execution_count": 37,
   "id": "ff404340",
   "metadata": {
    "slideshow": {
     "slide_type": "slide"
    }
   },
   "outputs": [
    {
     "name": "stdout",
     "output_type": "stream",
     "text": [
      "Time(hour=2, minute=46, second=40)\n",
      "\n",
      "2\n",
      "46\n",
      "40\n"
     ]
    }
   ],
   "source": [
    "from collections import namedtuple\n",
    "\n",
    "Time = namedtuple(\"Time\", [\"hour\", \"minute\", \"second\"])\n",
    "\n",
    "\n",
    "def seconds_to_time_2(seconds):\n",
    "    \"\"\"Convert time in seconds to hour, minute, second format\"\"\"\n",
    "    minutes, seconds = divmod(seconds, 60)\n",
    "    hours, minutes = divmod(minutes, 60)\n",
    "    return Time(hour=hours, minute=minutes, second=seconds)\n",
    "\n",
    "\n",
    "result = seconds_to_time_2(10000)\n",
    "print(result)\n",
    "print()\n",
    "\n",
    "print(result.hour)\n",
    "print(result.minute)\n",
    "print(result.second)"
   ]
  },
  {
   "cell_type": "markdown",
   "id": "adb27589",
   "metadata": {
    "slideshow": {
     "slide_type": "slide"
    }
   },
   "source": [
    "# Kivételkezelés (Exception handling)"
   ]
  },
  {
   "cell_type": "code",
   "execution_count": 38,
   "id": "22734aba",
   "metadata": {
    "slideshow": {
     "slide_type": "subslide"
    }
   },
   "outputs": [
    {
     "ename": "ZeroDivisionError",
     "evalue": "division by zero",
     "output_type": "error",
     "traceback": [
      "\u001b[0;31m---------------------------------------------------------------------------\u001b[0m",
      "\u001b[0;31mZeroDivisionError\u001b[0m                         Traceback (most recent call last)",
      "Input \u001b[0;32mIn [38]\u001b[0m, in \u001b[0;36m<cell line: 1>\u001b[0;34m()\u001b[0m\n\u001b[0;32m----> 1\u001b[0m \u001b[38;5;241;43m1\u001b[39;49m\u001b[43m \u001b[49m\u001b[38;5;241;43m/\u001b[39;49m\u001b[43m \u001b[49m\u001b[38;5;241;43m0\u001b[39;49m\n",
      "\u001b[0;31mZeroDivisionError\u001b[0m: division by zero"
     ]
    }
   ],
   "source": [
    "1 / 0"
   ]
  },
  {
   "cell_type": "code",
   "execution_count": 39,
   "id": "e7c32f13",
   "metadata": {
    "slideshow": {
     "slide_type": "subslide"
    }
   },
   "outputs": [
    {
     "ename": "NameError",
     "evalue": "name 'a' is not defined",
     "output_type": "error",
     "traceback": [
      "\u001b[0;31m---------------------------------------------------------------------------\u001b[0m",
      "\u001b[0;31mNameError\u001b[0m                                 Traceback (most recent call last)",
      "Input \u001b[0;32mIn [39]\u001b[0m, in \u001b[0;36m<cell line: 1>\u001b[0;34m()\u001b[0m\n\u001b[0;32m----> 1\u001b[0m \u001b[43ma\u001b[49m \u001b[38;5;241m+\u001b[39m \u001b[38;5;241m10\u001b[39m\n",
      "\u001b[0;31mNameError\u001b[0m: name 'a' is not defined"
     ]
    }
   ],
   "source": [
    "a + 10"
   ]
  },
  {
   "cell_type": "code",
   "execution_count": 40,
   "id": "0eb468be",
   "metadata": {
    "slideshow": {
     "slide_type": "subslide"
    }
   },
   "outputs": [
    {
     "ename": "ValueError",
     "evalue": "invalid literal for int() with base 10: '12.345'",
     "output_type": "error",
     "traceback": [
      "\u001b[0;31m---------------------------------------------------------------------------\u001b[0m",
      "\u001b[0;31mValueError\u001b[0m                                Traceback (most recent call last)",
      "Input \u001b[0;32mIn [40]\u001b[0m, in \u001b[0;36m<cell line: 1>\u001b[0;34m()\u001b[0m\n\u001b[0;32m----> 1\u001b[0m \u001b[38;5;28;43mint\u001b[39;49m\u001b[43m(\u001b[49m\u001b[38;5;124;43m\"\u001b[39;49m\u001b[38;5;124;43m12.345\u001b[39;49m\u001b[38;5;124;43m\"\u001b[39;49m\u001b[43m)\u001b[49m\n",
      "\u001b[0;31mValueError\u001b[0m: invalid literal for int() with base 10: '12.345'"
     ]
    }
   ],
   "source": [
    "int(\"12.345\")"
   ]
  },
  {
   "cell_type": "markdown",
   "id": "6dcef8eb",
   "metadata": {
    "slideshow": {
     "slide_type": "slide"
    }
   },
   "source": [
    "Kivételek mindig is előfordulhatnak, azaz olyan helyzetek, amikor a számolás értelmetlen, vagy egy fájlt kell megnyitni, ami nem is létezik, egy adatbázishoz kapcsolódunk, ahol nem jó a jelszó, vagy nem elérhető a szerver, valamit konvertálni kell valami mássá, de nem lehetséges."
   ]
  },
  {
   "cell_type": "markdown",
   "id": "9792ec90",
   "metadata": {
    "slideshow": {
     "slide_type": "subslide"
    }
   },
   "source": [
    "Pl. konvertáljuk egy sztringet egész számmá, ha ez lehetséges."
   ]
  },
  {
   "cell_type": "code",
   "execution_count": 41,
   "id": "56c54edc",
   "metadata": {
    "slideshow": {
     "slide_type": "fragment"
    }
   },
   "outputs": [
    {
     "name": "stdout",
     "output_type": "stream",
     "text": [
      "100\n"
     ]
    },
    {
     "ename": "ValueError",
     "evalue": "invalid literal for int() with base 10: '10.0'",
     "output_type": "error",
     "traceback": [
      "\u001b[0;31m---------------------------------------------------------------------------\u001b[0m",
      "\u001b[0;31mValueError\u001b[0m                                Traceback (most recent call last)",
      "Input \u001b[0;32mIn [41]\u001b[0m, in \u001b[0;36m<cell line: 7>\u001b[0;34m()\u001b[0m\n\u001b[1;32m      2\u001b[0m     \u001b[38;5;28;01mreturn\u001b[39;00m \u001b[38;5;28mint\u001b[39m(s)\n\u001b[1;32m      5\u001b[0m \u001b[38;5;28mprint\u001b[39m(convert_to_int(\u001b[38;5;124m\"\u001b[39m\u001b[38;5;124m100\u001b[39m\u001b[38;5;124m\"\u001b[39m))\n\u001b[0;32m----> 7\u001b[0m \u001b[43mconvert_to_int\u001b[49m\u001b[43m(\u001b[49m\u001b[38;5;124;43m\"\u001b[39;49m\u001b[38;5;124;43m10.0\u001b[39;49m\u001b[38;5;124;43m\"\u001b[39;49m\u001b[43m)\u001b[49m\n",
      "Input \u001b[0;32mIn [41]\u001b[0m, in \u001b[0;36mconvert_to_int\u001b[0;34m(s)\u001b[0m\n\u001b[1;32m      1\u001b[0m \u001b[38;5;28;01mdef\u001b[39;00m \u001b[38;5;21mconvert_to_int\u001b[39m(s):\n\u001b[0;32m----> 2\u001b[0m     \u001b[38;5;28;01mreturn\u001b[39;00m \u001b[38;5;28;43mint\u001b[39;49m\u001b[43m(\u001b[49m\u001b[43ms\u001b[49m\u001b[43m)\u001b[49m\n",
      "\u001b[0;31mValueError\u001b[0m: invalid literal for int() with base 10: '10.0'"
     ]
    }
   ],
   "source": [
    "def convert_to_int(s):\n",
    "    return int(s)\n",
    "\n",
    "\n",
    "print(convert_to_int(\"100\"))\n",
    "\n",
    "convert_to_int(\"10.0\")"
   ]
  },
  {
   "cell_type": "markdown",
   "id": "c490eb21",
   "metadata": {
    "slideshow": {
     "slide_type": "slide"
    }
   },
   "source": [
    "Hogyan lehetünk biztosak abban, hogy egy stringet egész számként tudunk értelmezni?"
   ]
  },
  {
   "cell_type": "code",
   "execution_count": 42,
   "id": "ef529423",
   "metadata": {
    "slideshow": {
     "slide_type": "fragment"
    }
   },
   "outputs": [
    {
     "name": "stdout",
     "output_type": "stream",
     "text": [
      "123\n",
      "None\n",
      "None\n"
     ]
    }
   ],
   "source": [
    "def convert_to_int(string):\n",
    "    if string.isnumeric():\n",
    "        return int(string)\n",
    "    \n",
    "    return None\n",
    "\n",
    "\n",
    "print(convert_to_int(\"123\"))\n",
    "print(convert_to_int(\"45.67\"))\n",
    "print(convert_to_int(\"-2\"))"
   ]
  },
  {
   "cell_type": "markdown",
   "id": "f30d6918",
   "metadata": {
    "slideshow": {
     "slide_type": "slide"
    }
   },
   "source": [
    "Mi lenne, ha nem mi próbálnánk kitalálni, hogy mi lenne a jó, hanem hagynánk, hogy a Python `int` konverziós függvénye *megpróbálja* a konverziót, aztán ha sikerül, akkor jó, ha meg nem, akkor meg kitalálunk valamit."
   ]
  },
  {
   "cell_type": "code",
   "execution_count": 43,
   "id": "de36217b",
   "metadata": {
    "slideshow": {
     "slide_type": "fragment"
    }
   },
   "outputs": [
    {
     "name": "stdout",
     "output_type": "stream",
     "text": [
      "100\n",
      "Cannot convert 10.0 to an integer.\n",
      "None\n",
      "-3\n"
     ]
    }
   ],
   "source": [
    "def convert_to_int(s):\n",
    "    try:\n",
    "        return int(s)\n",
    "    except ValueError:\n",
    "        print(f\"Cannot convert {s} to an integer.\")\n",
    "    \n",
    "    return None\n",
    "\n",
    "\n",
    "print(convert_to_int(\"100\"))\n",
    "print(convert_to_int(\"10.0\"))\n",
    "print(convert_to_int(\"-3\"))"
   ]
  },
  {
   "cell_type": "markdown",
   "id": "03be0e40",
   "metadata": {
    "slideshow": {
     "slide_type": "slide"
    }
   },
   "source": [
    "Később látni fogjuk, hogy nem csak egyfajta kivételt kell / lehet lekezelni, hanem akár többféle hibaok is előfordulhat. \n",
    "\n",
    "Egy tipikus ilyen helyzet a fájlbeolvasás, ahol lehet, hogy a \n",
    "* fájl nem található\n",
    "* nincs jogunk olvasni a fájlt\n",
    "* hibás a formátuma\n",
    "* nem dekódolható a szöveg, mert más karakterkészlet szerepel benne, mint amire számítunk\n",
    "* stb."
   ]
  },
  {
   "cell_type": "markdown",
   "id": "305de3d8",
   "metadata": {
    "slideshow": {
     "slide_type": "slide"
    }
   },
   "source": [
    "Az általános szintaxisa a kivételek kezelésének / elkapásának a `try - except` konstrukció:\n",
    "\n",
    "```python\n",
    "try:\n",
    "    try_something()\n",
    "except SomeError_1:\n",
    "    do_something_1()\n",
    "...\n",
    "except SomeError_n:\n",
    "    do_something_n\n",
    "finally:\n",
    "    execute_anyway()\n",
    "```"
   ]
  },
  {
   "cell_type": "code",
   "execution_count": 44,
   "id": "c15e4971",
   "metadata": {
    "slideshow": {
     "slide_type": "slide"
    }
   },
   "outputs": [
    {
     "name": "stdout",
     "output_type": "stream",
     "text": [
      "Cannot convert 12.34 to an integer.\n"
     ]
    },
    {
     "ename": "ValueError",
     "evalue": "invalid literal for int() with base 10: '12.34'",
     "output_type": "error",
     "traceback": [
      "\u001b[0;31m---------------------------------------------------------------------------\u001b[0m",
      "\u001b[0;31mValueError\u001b[0m                                Traceback (most recent call last)",
      "Input \u001b[0;32mIn [44]\u001b[0m, in \u001b[0;36m<cell line: 11>\u001b[0;34m()\u001b[0m\n\u001b[1;32m      7\u001b[0m         \u001b[38;5;28mprint\u001b[39m(\u001b[38;5;124mf\u001b[39m\u001b[38;5;124m\"\u001b[39m\u001b[38;5;124mCannot convert \u001b[39m\u001b[38;5;132;01m{\u001b[39;00ms\u001b[38;5;132;01m}\u001b[39;00m\u001b[38;5;124m to an integer.\u001b[39m\u001b[38;5;124m\"\u001b[39m)\n\u001b[1;32m      8\u001b[0m         \u001b[38;5;28;01mraise\u001b[39;00m \n\u001b[0;32m---> 11\u001b[0m \u001b[43mconvert_to_int\u001b[49m\u001b[43m(\u001b[49m\u001b[38;5;124;43m\"\u001b[39;49m\u001b[38;5;124;43m12.34\u001b[39;49m\u001b[38;5;124;43m\"\u001b[39;49m\u001b[43m)\u001b[49m\n",
      "Input \u001b[0;32mIn [44]\u001b[0m, in \u001b[0;36mconvert_to_int\u001b[0;34m(s)\u001b[0m\n\u001b[1;32m      3\u001b[0m \u001b[38;5;28;01mdef\u001b[39;00m \u001b[38;5;21mconvert_to_int\u001b[39m(s):\n\u001b[1;32m      4\u001b[0m     \u001b[38;5;28;01mtry\u001b[39;00m:\n\u001b[0;32m----> 5\u001b[0m         \u001b[38;5;28;01mreturn\u001b[39;00m \u001b[38;5;28;43mint\u001b[39;49m\u001b[43m(\u001b[49m\u001b[43ms\u001b[49m\u001b[43m)\u001b[49m\n\u001b[1;32m      6\u001b[0m     \u001b[38;5;28;01mexcept\u001b[39;00m \u001b[38;5;167;01mValueError\u001b[39;00m:\n\u001b[1;32m      7\u001b[0m         \u001b[38;5;28mprint\u001b[39m(\u001b[38;5;124mf\u001b[39m\u001b[38;5;124m\"\u001b[39m\u001b[38;5;124mCannot convert \u001b[39m\u001b[38;5;132;01m{\u001b[39;00ms\u001b[38;5;132;01m}\u001b[39;00m\u001b[38;5;124m to an integer.\u001b[39m\u001b[38;5;124m\"\u001b[39m)\n",
      "\u001b[0;31mValueError\u001b[0m: invalid literal for int() with base 10: '12.34'"
     ]
    }
   ],
   "source": [
    "# Az előforduló hibát akár újra is lehet dobni azért, hogy a minket hívó függvényhez is eljusson a hiba\n",
    "\n",
    "def convert_to_int(s):\n",
    "    try:\n",
    "        return int(s)\n",
    "    except ValueError:\n",
    "        print(f\"Cannot convert {s} to an integer.\")\n",
    "        raise \n",
    "        \n",
    "        \n",
    "convert_to_int(\"12.34\")"
   ]
  },
  {
   "cell_type": "code",
   "execution_count": 45,
   "id": "b35dce58",
   "metadata": {
    "slideshow": {
     "slide_type": "slide"
    }
   },
   "outputs": [
    {
     "name": "stdout",
     "output_type": "stream",
     "text": [
      "Cannot convert 12.34 to an integer.\n"
     ]
    },
    {
     "ename": "MyError",
     "evalue": "Catch me if you can.",
     "output_type": "error",
     "traceback": [
      "\u001b[0;31m---------------------------------------------------------------------------\u001b[0m",
      "\u001b[0;31mValueError\u001b[0m                                Traceback (most recent call last)",
      "Input \u001b[0;32mIn [45]\u001b[0m, in \u001b[0;36mconvert_to_int\u001b[0;34m(s)\u001b[0m\n\u001b[1;32m      7\u001b[0m \u001b[38;5;28;01mtry\u001b[39;00m:\n\u001b[0;32m----> 8\u001b[0m     \u001b[38;5;28;01mreturn\u001b[39;00m \u001b[38;5;28;43mint\u001b[39;49m\u001b[43m(\u001b[49m\u001b[43ms\u001b[49m\u001b[43m)\u001b[49m\n\u001b[1;32m      9\u001b[0m \u001b[38;5;28;01mexcept\u001b[39;00m \u001b[38;5;167;01mValueError\u001b[39;00m:\n",
      "\u001b[0;31mValueError\u001b[0m: invalid literal for int() with base 10: '12.34'",
      "\nDuring handling of the above exception, another exception occurred:\n",
      "\u001b[0;31mMyError\u001b[0m                                   Traceback (most recent call last)",
      "Input \u001b[0;32mIn [45]\u001b[0m, in \u001b[0;36m<cell line: 13>\u001b[0;34m()\u001b[0m\n\u001b[1;32m     10\u001b[0m         \u001b[38;5;28mprint\u001b[39m(\u001b[38;5;124mf\u001b[39m\u001b[38;5;124m\"\u001b[39m\u001b[38;5;124mCannot convert \u001b[39m\u001b[38;5;132;01m{\u001b[39;00ms\u001b[38;5;132;01m}\u001b[39;00m\u001b[38;5;124m to an integer.\u001b[39m\u001b[38;5;124m\"\u001b[39m)\n\u001b[1;32m     11\u001b[0m         \u001b[38;5;28;01mraise\u001b[39;00m MyError(\u001b[38;5;124m\"\u001b[39m\u001b[38;5;124mCatch me if you can.\u001b[39m\u001b[38;5;124m\"\u001b[39m)\n\u001b[0;32m---> 13\u001b[0m \u001b[43mconvert_to_int\u001b[49m\u001b[43m(\u001b[49m\u001b[38;5;124;43m\"\u001b[39;49m\u001b[38;5;124;43m12.34\u001b[39;49m\u001b[38;5;124;43m\"\u001b[39;49m\u001b[43m)\u001b[49m\n",
      "Input \u001b[0;32mIn [45]\u001b[0m, in \u001b[0;36mconvert_to_int\u001b[0;34m(s)\u001b[0m\n\u001b[1;32m      9\u001b[0m \u001b[38;5;28;01mexcept\u001b[39;00m \u001b[38;5;167;01mValueError\u001b[39;00m:\n\u001b[1;32m     10\u001b[0m     \u001b[38;5;28mprint\u001b[39m(\u001b[38;5;124mf\u001b[39m\u001b[38;5;124m\"\u001b[39m\u001b[38;5;124mCannot convert \u001b[39m\u001b[38;5;132;01m{\u001b[39;00ms\u001b[38;5;132;01m}\u001b[39;00m\u001b[38;5;124m to an integer.\u001b[39m\u001b[38;5;124m\"\u001b[39m)\n\u001b[0;32m---> 11\u001b[0m     \u001b[38;5;28;01mraise\u001b[39;00m MyError(\u001b[38;5;124m\"\u001b[39m\u001b[38;5;124mCatch me if you can.\u001b[39m\u001b[38;5;124m\"\u001b[39m)\n",
      "\u001b[0;31mMyError\u001b[0m: Catch me if you can."
     ]
    }
   ],
   "source": [
    "# Vagy dobhatunk saját magunk által definiált hibát is:\n",
    "class MyError(Exception):\n",
    "    pass\n",
    "\n",
    "\n",
    "def convert_to_int(s):\n",
    "    try:\n",
    "        return int(s)\n",
    "    except ValueError:\n",
    "        print(f\"Cannot convert {s} to an integer.\")\n",
    "        raise MyError(\"Catch me if you can.\")\n",
    "         \n",
    "convert_to_int(\"12.34\")"
   ]
  },
  {
   "cell_type": "markdown",
   "id": "fcadb2e3",
   "metadata": {
    "slideshow": {
     "slide_type": "slide"
    }
   },
   "source": [
    "# Fájlműveletek (File handling)"
   ]
  },
  {
   "cell_type": "code",
   "execution_count": 46,
   "id": "d4e03527",
   "metadata": {
    "slideshow": {
     "slide_type": "slide"
    }
   },
   "outputs": [
    {
     "name": "stdout",
     "output_type": "stream",
     "text": [
      "MARY\r\n",
      "PATRICIA\r\n",
      "LINDA\r\n",
      "BARBARA\r\n",
      "ELIZABETH\r\n"
     ]
    }
   ],
   "source": [
    "filepath = \"./data/P0022_names.txt\"\n",
    "\n",
    "# A felkiáltójellel Jupyterben az operációs rendszer parancsait tudom meghívni, pl. Linux alatt a `head` parancsot\n",
    "!head -n 5 $filepath"
   ]
  },
  {
   "cell_type": "code",
   "execution_count": 47,
   "id": "a6127459",
   "metadata": {
    "slideshow": {
     "slide_type": "fragment"
    }
   },
   "outputs": [],
   "source": [
    "names = []\n",
    "f = open(filepath, \"r\")\n",
    "\n",
    "while (line := f.readline()):\n",
    "    names.append(line)\n",
    "\n",
    "f.close()"
   ]
  },
  {
   "cell_type": "code",
   "execution_count": 48,
   "id": "41af07ef",
   "metadata": {
    "slideshow": {
     "slide_type": "slide"
    }
   },
   "outputs": [
    {
     "name": "stdout",
     "output_type": "stream",
     "text": [
      "['MARY\\n', 'PATRICIA\\n', 'LINDA\\n', 'BARBARA\\n', 'ELIZABETH\\n']\n"
     ]
    }
   ],
   "source": [
    "print(names[:5])"
   ]
  },
  {
   "cell_type": "code",
   "execution_count": 49,
   "id": "1f289e62",
   "metadata": {
    "slideshow": {
     "slide_type": "fragment"
    }
   },
   "outputs": [
    {
     "data": {
      "text/plain": [
       "['MARY', 'PATRICIA', 'LINDA', 'BARBARA', 'ELIZABETH']"
      ]
     },
     "execution_count": 49,
     "metadata": {},
     "output_type": "execute_result"
    }
   ],
   "source": [
    "names = []\n",
    "# Megnyitunk egy fájlt olvasásra\n",
    "f = open(filepath, \"r\")\n",
    "\n",
    "while (line := f.readline()):\n",
    "    names.append(line.rstrip())\n",
    "\n",
    "# A megnyitott fájlt bezárjuk\n",
    "f.close()   \n",
    "\n",
    "names[:5]"
   ]
  },
  {
   "cell_type": "code",
   "execution_count": 50,
   "id": "1fa48721",
   "metadata": {
    "slideshow": {
     "slide_type": "slide"
    }
   },
   "outputs": [
    {
     "data": {
      "text/plain": [
       "['MARY\\n', 'PATRICIA\\n', 'LINDA\\n', 'BARBARA\\n', 'ELIZABETH\\n']"
      ]
     },
     "execution_count": 50,
     "metadata": {},
     "output_type": "execute_result"
    }
   ],
   "source": [
    "names = []\n",
    "f = open(filepath, \"r\")\n",
    "\n",
    "lines = f.readlines()\n",
    "\n",
    "f.close()\n",
    "\n",
    "lines[:5]"
   ]
  },
  {
   "cell_type": "code",
   "execution_count": 51,
   "id": "6befea96",
   "metadata": {
    "slideshow": {
     "slide_type": "slide"
    }
   },
   "outputs": [
    {
     "data": {
      "text/plain": [
       "['MARY', 'PATRICIA', 'LINDA', 'BARBARA', 'ELIZABETH']"
      ]
     },
     "execution_count": 51,
     "metadata": {},
     "output_type": "execute_result"
    }
   ],
   "source": [
    "names = []\n",
    "f = open(filepath, \"r\")\n",
    "\n",
    "lines = f.read().splitlines()\n",
    "\n",
    "f.close() \n",
    "\n",
    "lines[:5]"
   ]
  },
  {
   "cell_type": "code",
   "execution_count": 52,
   "id": "f132c308",
   "metadata": {
    "slideshow": {
     "slide_type": "slide"
    }
   },
   "outputs": [
    {
     "data": {
      "text/plain": [
       "['MARY', 'PATRICIA', 'LINDA', 'BARBARA', 'ELIZABETH']"
      ]
     },
     "execution_count": 52,
     "metadata": {},
     "output_type": "execute_result"
    }
   ],
   "source": [
    "# Fájl megnyitás with-utasítással, a blokk végén automatikusan zárja a fájlt\n",
    "\n",
    "with open(filepath, \"r\") as f:\n",
    "    content = f.read().splitlines()\n",
    "    \n",
    "\n",
    "content[:5]    "
   ]
  },
  {
   "cell_type": "markdown",
   "id": "50908c1e",
   "metadata": {
    "slideshow": {
     "slide_type": "slide"
    }
   },
   "source": [
    "HF: Ebben a fájlban keresztnevek vannak. Hány olyan lényegében különböző névpár van, hogy a pár második eleme az első névnek a megfordítottja?\n",
    "\n",
    "pl. (\"NORA\", \"ARON\")\n",
    "\n",
    "\n",
    "Az (\"ARON\", \"NORA\") pár nem különbözik lényegében az előzőtől.\n",
    "\n",
    "A nevek kezdőbetűit tekintve melyik az 5 leggyakoribb? W-vel vagy C-vel kezdődik több név?"
   ]
  }
 ],
 "metadata": {
  "celltoolbar": "Slideshow",
  "kernelspec": {
   "display_name": "Python 3 (ipykernel)",
   "language": "python",
   "name": "python3"
  },
  "language_info": {
   "codemirror_mode": {
    "name": "ipython",
    "version": 3
   },
   "file_extension": ".py",
   "mimetype": "text/x-python",
   "name": "python",
   "nbconvert_exporter": "python",
   "pygments_lexer": "ipython3",
   "version": "3.9.12"
  }
 },
 "nbformat": 4,
 "nbformat_minor": 5
}
