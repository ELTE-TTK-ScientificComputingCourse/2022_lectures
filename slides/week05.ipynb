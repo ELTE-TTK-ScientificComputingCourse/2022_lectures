{
 "cells": [
  {
   "cell_type": "markdown",
   "id": "c6b265a9",
   "metadata": {
    "slideshow": {
     "slide_type": "slide"
    }
   },
   "source": [
    "# Algoritmus tervezési  módszerek, programozási paradigmák I.\n",
    "\n",
    "## (Algorithmic design techniques, programming paradigms - part I.)"
   ]
  },
  {
   "cell_type": "markdown",
   "id": "7fcbe815",
   "metadata": {
    "slideshow": {
     "slide_type": "slide"
    }
   },
   "source": [
    "## Fájlműveletek, fájlbeolvasás (File handling)"
   ]
  },
  {
   "cell_type": "code",
   "execution_count": 1,
   "id": "193dbb87",
   "metadata": {
    "slideshow": {
     "slide_type": "subslide"
    }
   },
   "outputs": [
    {
     "name": "stdout",
     "output_type": "stream",
     "text": [
      "MARY\r\n",
      "PATRICIA\r\n",
      "LINDA\r\n",
      "BARBARA\r\n",
      "ELIZABETH\r\n"
     ]
    }
   ],
   "source": [
    "filepath = \"./data/P0022_names.txt\"\n",
    "\n",
    "# A felkiáltójellel Jupyterben az operációs rendszer parancsait tudom meghívni, \n",
    "# pl. Linux alatt a `head` parancsot\",\n",
    "\n",
    "!head -n 5 $filepath"
   ]
  },
  {
   "cell_type": "code",
   "execution_count": 2,
   "id": "f5fda7b5",
   "metadata": {
    "slideshow": {
     "slide_type": "subslide"
    }
   },
   "outputs": [],
   "source": [
    "names = []\n",
    "\n",
    "f = open(filepath, \"r\")\n",
    "for line in f:\n",
    "    names.append(line)\n",
    "\n",
    "f.close()"
   ]
  },
  {
   "cell_type": "code",
   "execution_count": 3,
   "id": "6cb40a33",
   "metadata": {
    "slideshow": {
     "slide_type": "fragment"
    }
   },
   "outputs": [
    {
     "data": {
      "text/plain": [
       "['MARY\\n', 'PATRICIA\\n', 'LINDA\\n', 'BARBARA\\n', 'ELIZABETH\\n']"
      ]
     },
     "execution_count": 3,
     "metadata": {},
     "output_type": "execute_result"
    }
   ],
   "source": [
    "names[:5]"
   ]
  },
  {
   "cell_type": "code",
   "execution_count": 4,
   "id": "a6430f60",
   "metadata": {
    "slideshow": {
     "slide_type": "subslide"
    }
   },
   "outputs": [],
   "source": [
    "names = []\n",
    "\n",
    "f = open(filepath, \"r\")\n",
    "for line in f:\n",
    "    names.append(line.rstrip())\n",
    "\n",
    "f.close()"
   ]
  },
  {
   "cell_type": "code",
   "execution_count": 5,
   "id": "94824295",
   "metadata": {
    "slideshow": {
     "slide_type": "fragment"
    }
   },
   "outputs": [
    {
     "data": {
      "text/plain": [
       "['MARY', 'PATRICIA', 'LINDA', 'BARBARA', 'ELIZABETH']"
      ]
     },
     "execution_count": 5,
     "metadata": {},
     "output_type": "execute_result"
    }
   ],
   "source": [
    "names[:5]"
   ]
  },
  {
   "cell_type": "code",
   "execution_count": 6,
   "id": "3c62f2bb",
   "metadata": {
    "slideshow": {
     "slide_type": "subslide"
    }
   },
   "outputs": [],
   "source": [
    "f = open(filepath, \"r\")\n",
    "names = f.read().splitlines()\n",
    "\n",
    "f.close()"
   ]
  },
  {
   "cell_type": "code",
   "execution_count": 7,
   "id": "9508d611",
   "metadata": {
    "slideshow": {
     "slide_type": "fragment"
    }
   },
   "outputs": [
    {
     "data": {
      "text/plain": [
       "['MARY', 'PATRICIA', 'LINDA', 'BARBARA', 'ELIZABETH']"
      ]
     },
     "execution_count": 7,
     "metadata": {},
     "output_type": "execute_result"
    }
   ],
   "source": [
    "names[:5]"
   ]
  },
  {
   "cell_type": "code",
   "execution_count": 8,
   "id": "12d73b4d",
   "metadata": {
    "slideshow": {
     "slide_type": "subslide"
    }
   },
   "outputs": [],
   "source": [
    "with open(filepath, \"r\") as f:\n",
    "    names = f.read().splitlines()"
   ]
  },
  {
   "cell_type": "code",
   "execution_count": 9,
   "id": "a4913598",
   "metadata": {
    "slideshow": {
     "slide_type": "fragment"
    }
   },
   "outputs": [
    {
     "data": {
      "text/plain": [
       "['MARY', 'PATRICIA', 'LINDA', 'BARBARA', 'ELIZABETH']"
      ]
     },
     "execution_count": 9,
     "metadata": {},
     "output_type": "execute_result"
    }
   ],
   "source": [
    "names[:5]"
   ]
  },
  {
   "cell_type": "markdown",
   "id": "6a1d0692",
   "metadata": {
    "slideshow": {
     "slide_type": "slide"
    }
   },
   "source": [
    "A Fibonacci-sorozattal már találkoztunk korábban, most újra megnézzük, hogy hogyan lehet kiszámolni a sorozat $n$-edik tagját.\n",
    "\n",
    "$$\n",
    "f_n = \\left\\{\\begin{array}{ll} 1 & n = 0 \\text{ vagy } n = 1 \\\\ f_{n-1} + f_{n-2} & n\\geq 2 \\end{array}\\right.\n",
    "$$"
   ]
  },
  {
   "cell_type": "markdown",
   "id": "2e5adff3",
   "metadata": {
    "slideshow": {
     "slide_type": "slide"
    }
   },
   "source": [
    "## Rekurzió\n",
    "\n",
    "\n",
    "Rekurzív függvény esetén mindig kell egy alapeset (base-case), ami biztosítja, hogy a rekurzív függvényhívások sorozata meg fog állni. A Python nyelv lehetővé tesz a rekurzív függvényhívást, de tény, hogy a konstrukció valamelyest idegen a nyelv filozófiájától. Vannak nyelvek, ahol a rekurzió sokkal természetesebb. Az imperatív nyelvekben inkább a direkt iteráció a természetesebb, mint a rekurzió."
   ]
  },
  {
   "cell_type": "code",
   "execution_count": 10,
   "id": "6200f3f9",
   "metadata": {
    "slideshow": {
     "slide_type": "subslide"
    }
   },
   "outputs": [
    {
     "data": {
      "text/plain": [
       "39088169"
      ]
     },
     "execution_count": 10,
     "metadata": {},
     "output_type": "execute_result"
    }
   ],
   "source": [
    "def fibonacci(n):\n",
    "    if n == 0 or n == 1:\n",
    "        return 1\n",
    "    \n",
    "    return fibonacci(n - 1) + fibonacci(n - 2)\n",
    "\n",
    "\n",
    "fibonacci(37)"
   ]
  },
  {
   "cell_type": "markdown",
   "id": "5fe3e4df",
   "metadata": {
    "slideshow": {
     "slide_type": "subslide"
    }
   },
   "source": [
    "Ugyanazt a függvényértéket sokszor újra és újra kiszámoljuk\n",
    "\n",
    "```\n",
    "f(5) = f(4) + f(3)\n",
    "     = (f(3) + f(2)) + (f(2) + f(1))\n",
    "     = [(f(2) + f(1)) + (f(1) + f(0))] + [(f(1) + f(0)) + 1]\n",
    "     = [(f(1) + f(0) + 1 + (1 + 1)] + [1 + 1 + 1])\n",
    "     = [1 + 1 + 3] + 3\n",
    "     = 8\n",
    "```"
   ]
  },
  {
   "cell_type": "code",
   "execution_count": 11,
   "id": "3e707c29",
   "metadata": {
    "slideshow": {
     "slide_type": "subslide"
    }
   },
   "outputs": [
    {
     "name": "stdout",
     "output_type": "stream",
     "text": [
      "15\n",
      "78176337\n"
     ]
    }
   ],
   "source": [
    "nr_calls = 0\n",
    "\n",
    "def fibonacci(n):\n",
    "    global nr_calls\n",
    "    nr_calls += 1\n",
    "    if n == 0 or n == 1:\n",
    "        return 1\n",
    "\n",
    "    return fibonacci(n - 1) + fibonacci(n - 2)\n",
    "\n",
    "\n",
    "_ = fibonacci(5)\n",
    "print(nr_calls)\n",
    "\n",
    "nr_calls = 0\n",
    "_ = fibonacci(37)\n",
    "print(nr_calls)"
   ]
  },
  {
   "cell_type": "markdown",
   "id": "b0f28352",
   "metadata": {
    "slideshow": {
     "slide_type": "slide"
    }
   },
   "source": [
    "## Tároljuk el a már kiszámolt értékeket! (Memoization)"
   ]
  },
  {
   "cell_type": "code",
   "execution_count": 12,
   "id": "d8dc1e5f",
   "metadata": {
    "slideshow": {
     "slide_type": "subslide"
    }
   },
   "outputs": [],
   "source": [
    "def fibonacci(n):\n",
    "    cache = {}\n",
    "    \n",
    "    def fib(k):\n",
    "        if k == 0 or k == 1:\n",
    "            return 1\n",
    "        \n",
    "        if k in cache:\n",
    "            return cache[k]\n",
    "        \n",
    "        result = fib(k - 1) + fib(k - 2)\n",
    "        cache[k] = result\n",
    "        return result\n",
    "\n",
    "    return fib(n)"
   ]
  },
  {
   "cell_type": "code",
   "execution_count": 13,
   "id": "2a0e4666",
   "metadata": {
    "slideshow": {
     "slide_type": "subslide"
    }
   },
   "outputs": [
    {
     "name": "stdout",
     "output_type": "stream",
     "text": [
      "8\n",
      "39088169\n"
     ]
    }
   ],
   "source": [
    "print(fibonacci(5))\n",
    "print(fibonacci(37))"
   ]
  },
  {
   "cell_type": "code",
   "execution_count": 14,
   "id": "93234417",
   "metadata": {
    "slideshow": {
     "slide_type": "fragment"
    }
   },
   "outputs": [
    {
     "data": {
      "text/plain": [
       "70330367711422815821835254877183549770181269836358732742604905087154537118196933579742249494562611733487750449241765991088186363265450223647106012053374121273867339111198139373125598767690091902245245323403501"
      ]
     },
     "execution_count": 14,
     "metadata": {},
     "output_type": "execute_result"
    }
   ],
   "source": [
    "fibonacci(1000)"
   ]
  },
  {
   "cell_type": "code",
   "execution_count": 15,
   "id": "c1669bff",
   "metadata": {
    "slideshow": {
     "slide_type": "slide"
    }
   },
   "outputs": [
    {
     "ename": "RecursionError",
     "evalue": "maximum recursion depth exceeded in comparison",
     "output_type": "error",
     "traceback": [
      "\u001b[0;31m---------------------------------------------------------------------------\u001b[0m",
      "\u001b[0;31mRecursionError\u001b[0m                            Traceback (most recent call last)",
      "Input \u001b[0;32mIn [15]\u001b[0m, in \u001b[0;36m<cell line: 1>\u001b[0;34m()\u001b[0m\n\u001b[0;32m----> 1\u001b[0m \u001b[43mfibonacci\u001b[49m\u001b[43m(\u001b[49m\u001b[38;5;241;43m10000\u001b[39;49m\u001b[43m)\u001b[49m\n",
      "Input \u001b[0;32mIn [12]\u001b[0m, in \u001b[0;36mfibonacci\u001b[0;34m(n)\u001b[0m\n\u001b[1;32m     12\u001b[0m     cache[k] \u001b[38;5;241m=\u001b[39m result\n\u001b[1;32m     13\u001b[0m     \u001b[38;5;28;01mreturn\u001b[39;00m result\n\u001b[0;32m---> 15\u001b[0m \u001b[38;5;28;01mreturn\u001b[39;00m \u001b[43mfib\u001b[49m\u001b[43m(\u001b[49m\u001b[43mn\u001b[49m\u001b[43m)\u001b[49m\n",
      "Input \u001b[0;32mIn [12]\u001b[0m, in \u001b[0;36mfibonacci.<locals>.fib\u001b[0;34m(k)\u001b[0m\n\u001b[1;32m      8\u001b[0m \u001b[38;5;28;01mif\u001b[39;00m k \u001b[38;5;129;01min\u001b[39;00m cache:\n\u001b[1;32m      9\u001b[0m     \u001b[38;5;28;01mreturn\u001b[39;00m cache[k]\n\u001b[0;32m---> 11\u001b[0m result \u001b[38;5;241m=\u001b[39m \u001b[43mfib\u001b[49m\u001b[43m(\u001b[49m\u001b[43mk\u001b[49m\u001b[43m \u001b[49m\u001b[38;5;241;43m-\u001b[39;49m\u001b[43m \u001b[49m\u001b[38;5;241;43m1\u001b[39;49m\u001b[43m)\u001b[49m \u001b[38;5;241m+\u001b[39m fib(k \u001b[38;5;241m-\u001b[39m \u001b[38;5;241m2\u001b[39m)\n\u001b[1;32m     12\u001b[0m cache[k] \u001b[38;5;241m=\u001b[39m result\n\u001b[1;32m     13\u001b[0m \u001b[38;5;28;01mreturn\u001b[39;00m result\n",
      "Input \u001b[0;32mIn [12]\u001b[0m, in \u001b[0;36mfibonacci.<locals>.fib\u001b[0;34m(k)\u001b[0m\n\u001b[1;32m      8\u001b[0m \u001b[38;5;28;01mif\u001b[39;00m k \u001b[38;5;129;01min\u001b[39;00m cache:\n\u001b[1;32m      9\u001b[0m     \u001b[38;5;28;01mreturn\u001b[39;00m cache[k]\n\u001b[0;32m---> 11\u001b[0m result \u001b[38;5;241m=\u001b[39m \u001b[43mfib\u001b[49m\u001b[43m(\u001b[49m\u001b[43mk\u001b[49m\u001b[43m \u001b[49m\u001b[38;5;241;43m-\u001b[39;49m\u001b[43m \u001b[49m\u001b[38;5;241;43m1\u001b[39;49m\u001b[43m)\u001b[49m \u001b[38;5;241m+\u001b[39m fib(k \u001b[38;5;241m-\u001b[39m \u001b[38;5;241m2\u001b[39m)\n\u001b[1;32m     12\u001b[0m cache[k] \u001b[38;5;241m=\u001b[39m result\n\u001b[1;32m     13\u001b[0m \u001b[38;5;28;01mreturn\u001b[39;00m result\n",
      "    \u001b[0;31m[... skipping similar frames: fibonacci.<locals>.fib at line 11 (2968 times)]\u001b[0m\n",
      "Input \u001b[0;32mIn [12]\u001b[0m, in \u001b[0;36mfibonacci.<locals>.fib\u001b[0;34m(k)\u001b[0m\n\u001b[1;32m      8\u001b[0m \u001b[38;5;28;01mif\u001b[39;00m k \u001b[38;5;129;01min\u001b[39;00m cache:\n\u001b[1;32m      9\u001b[0m     \u001b[38;5;28;01mreturn\u001b[39;00m cache[k]\n\u001b[0;32m---> 11\u001b[0m result \u001b[38;5;241m=\u001b[39m \u001b[43mfib\u001b[49m\u001b[43m(\u001b[49m\u001b[43mk\u001b[49m\u001b[43m \u001b[49m\u001b[38;5;241;43m-\u001b[39;49m\u001b[43m \u001b[49m\u001b[38;5;241;43m1\u001b[39;49m\u001b[43m)\u001b[49m \u001b[38;5;241m+\u001b[39m fib(k \u001b[38;5;241m-\u001b[39m \u001b[38;5;241m2\u001b[39m)\n\u001b[1;32m     12\u001b[0m cache[k] \u001b[38;5;241m=\u001b[39m result\n\u001b[1;32m     13\u001b[0m \u001b[38;5;28;01mreturn\u001b[39;00m result\n",
      "Input \u001b[0;32mIn [12]\u001b[0m, in \u001b[0;36mfibonacci.<locals>.fib\u001b[0;34m(k)\u001b[0m\n\u001b[1;32m      4\u001b[0m \u001b[38;5;28;01mdef\u001b[39;00m \u001b[38;5;21mfib\u001b[39m(k):\n\u001b[0;32m----> 5\u001b[0m     \u001b[38;5;28;01mif\u001b[39;00m \u001b[43mk\u001b[49m\u001b[43m \u001b[49m\u001b[38;5;241;43m==\u001b[39;49m\u001b[43m \u001b[49m\u001b[38;5;241;43m0\u001b[39;49m \u001b[38;5;129;01mor\u001b[39;00m k \u001b[38;5;241m==\u001b[39m \u001b[38;5;241m1\u001b[39m:\n\u001b[1;32m      6\u001b[0m         \u001b[38;5;28;01mreturn\u001b[39;00m \u001b[38;5;241m1\u001b[39m\n\u001b[1;32m      8\u001b[0m     \u001b[38;5;28;01mif\u001b[39;00m k \u001b[38;5;129;01min\u001b[39;00m cache:\n",
      "\u001b[0;31mRecursionError\u001b[0m: maximum recursion depth exceeded in comparison"
     ]
    }
   ],
   "source": [
    "fibonacci(10000)"
   ]
  },
  {
   "cell_type": "markdown",
   "id": "c64cf858",
   "metadata": {
    "slideshow": {
     "slide_type": "slide"
    }
   },
   "source": [
    "Most minden már korábban kiszámolt értéket eltárolunk, de ettől még továbbra is rekurzió amit csinálunk, annak minden hátrányával együtt. Adott $n$-re $f(n)$ értékét úgy számoljuk ki, hogy $n$ értékét csökkentve egyre kisebb értékekre próbáljuk kiszámolni $f(n)$ értékét, azaz felülről haladunk lefelé, a nagyobb $n$-ektől a kisebbek felé.\n",
    "\n",
    "Mi lenne, ha megpróbálnánk a fordított irányban (alulról felfelé haladva) számolni? Lehetséges lenne-e meghatározni $f(0), f(1), f(2), f(3), ...$ értékét ebben a sorrendben, melynek végre eljutunk a kívánt $f(n)$ értékhez?"
   ]
  },
  {
   "cell_type": "code",
   "execution_count": 16,
   "id": "913e62a4",
   "metadata": {
    "slideshow": {
     "slide_type": "subslide"
    }
   },
   "outputs": [
    {
     "name": "stdout",
     "output_type": "stream",
     "text": [
      "8\n",
      "39088169\n"
     ]
    }
   ],
   "source": [
    "def fibonacci(n):\n",
    "    numbers = [1] * (n + 1)\n",
    "    \n",
    "    for k in range(2, n+1):\n",
    "        numbers[k] = numbers[k-1] + numbers[k-2]\n",
    "        \n",
    "    return numbers[n] \n",
    "\n",
    "\n",
    "print(fibonacci(5))\n",
    "print(fibonacci(37))"
   ]
  },
  {
   "cell_type": "code",
   "execution_count": 17,
   "id": "d5a715d9",
   "metadata": {
    "slideshow": {
     "slide_type": "subslide"
    }
   },
   "outputs": [
    {
     "name": "stdout",
     "output_type": "stream",
     "text": [
      "54438373113565281338734260993750380135389184554695967026247715841208582865622349017083051547938960541173822675978026317384359584751116241439174702642959169925586334117906063048089793531476108466259072759367899150677960088306597966641965824937721800381441158841042480997984696487375337180028163763317781927941101369262750979509800713596718023814710669912644214775254478587674568963808002962265133111359929762726679441400101575800043510777465935805362502461707918059226414679005690752321895868142367849593880756423483754386342639635970733756260098962462668746112041739819404875062443709868654315626847186195620146126642232711815040367018825205314845875817193533529827837800351902529239517836689467661917953884712441028463935449484614450778762529520961887597272889220768537396475869543159172434537193611263743926337313005896167248051737986306368115003088396749587102619524631352447499505204198305187168321623283859794627245919771454628218399695789223798912199431775469705216131081096559950638297261253848242007897109054754028438149611930465061866170122983288964352733750792786069444761853525144421077928045979904561298129423809156055033032338919609162236698759922782923191896688017718575555520994653320128446502371153715141749290913104897203455577507196645425232862022019506091483585223882711016708433051169942115775151255510251655931888164048344129557038825477521111577395780115868397072602565614824956460538700280331311861485399805397031555727529693399586079850381581446276433858828529535803424850845426446471681531001533180479567436396815653326152509571127480411928196022148849148284389124178520174507305538928717857923509417743383331506898239354421988805429332440371194867215543576548565499134519271098919802665184564927827827212957649240235507595558205647569365394873317659000206373126570643509709482649710038733517477713403319028105575667931789470024118803094604034362953471997461392274791549730356412633074230824051999996101549784667340458326852960388301120765629245998136251652347093963049734046445106365304163630823669242257761468288461791843224793434406079917883360676846711185597501\n"
     ]
    }
   ],
   "source": [
    "print(fibonacci(10000))"
   ]
  },
  {
   "cell_type": "markdown",
   "id": "7f621f06",
   "metadata": {
    "slideshow": {
     "slide_type": "slide"
    }
   },
   "source": [
    "A fenti megoldásban $f(n)$-et egyszerűen ki tudtuk számolni egy táblázatban tárolt, már korábban kiszámolt $f(n-1)$ és $f(n-2)$ értékekből. A módszer szerint az eredeti feladat egy részfeladatának eredményeit táblázatban tároljuk, majd felhasználjuk azokat az eredeti feladat megoldásának előállítására. Ezt az algoritmus-sémát, feladatmegoldási-módszert **dinamikus programozás**nak hívjuk.\n",
    "\n",
    "\n",
    "Végül vegyük észre, hogy a feladat megoldásához nem szükséges eltárolni az összes Fibonacci-számot, hiszem mindig csak a legutolsó kettőre van szükség."
   ]
  },
  {
   "cell_type": "code",
   "execution_count": 18,
   "id": "4138979f",
   "metadata": {
    "slideshow": {
     "slide_type": "subslide"
    }
   },
   "outputs": [
    {
     "name": "stdout",
     "output_type": "stream",
     "text": [
      "8\n",
      "39088169\n"
     ]
    }
   ],
   "source": [
    "def fibonacci(n):\n",
    "    a = 1\n",
    "    b = 1\n",
    "    for _ in range(1, n+1):\n",
    "        a, b = b, a + b\n",
    "\n",
    "    return a\n",
    "\n",
    "\n",
    "print(fibonacci(5))\n",
    "print(fibonacci(37))"
   ]
  },
  {
   "cell_type": "markdown",
   "id": "215b7682",
   "metadata": {
    "slideshow": {
     "slide_type": "slide"
    }
   },
   "source": [
    "Sok olyan algoritmikus feladat van, ahol különböző stratégiákkal érdemes próbálkozni. Most láttunk egy példát, hogy ugyanarra a problémára hogy néz ki több különböző megoldási stratégia.\n",
    "\n",
    "Általában az a legjobb stratégia, amelynek a futásideje gyors és a szükséges tárhely kicsi. Ezeket a fogalmakat majd algoritmuselméleti órákon teszitek rendbe hamarosan."
   ]
  },
  {
   "cell_type": "markdown",
   "id": "15e6e184",
   "metadata": {
    "slideshow": {
     "slide_type": "slide"
    }
   },
   "source": [
    "## 2-SUM"
   ]
  },
  {
   "cell_type": "markdown",
   "id": "202e71c9",
   "metadata": {
    "slideshow": {
     "slide_type": "subslide"
    }
   },
   "source": [
    "Adott egy $n\\leq 10^5$ szám és egy $n$ hosszú $a$ lista, melynek elemeire $-10^{5} \\leq a_i \\leq 10^5$ teljesül.\n",
    "\n",
    "Keressünk olyan $1\\leq p<q\\leq n$ indexpárt, hogy $a[p] = −a[q]$, ha ilyen létezik.\n",
    "\n",
    "\n",
    "Például:\n",
    "```\n",
    "5\n",
    "5 4 -5 6 8\n",
    "```"
   ]
  },
  {
   "cell_type": "markdown",
   "id": "3a843589",
   "metadata": {
    "slideshow": {
     "slide_type": "subslide"
    }
   },
   "source": [
    "Ötlet: iteráljunk végig az indexpárokon és vizsgáljuk meg minden esetben, hogy teljesíti-e a feltételeket.\n",
    "\n",
    "Ezt a megoldási módszert, amiben potenciálisan minden lehetséges jelöltet kipróbálunk, **brute force**-alapú (nyers erő) megoldásnak nevezünk. A brute force megoldás mindig működik, a kérdés inkább az, hogy vajon nem tudunk-e ennél jobbat kitalálni."
   ]
  },
  {
   "cell_type": "code",
   "execution_count": 19,
   "id": "c7dffbdd",
   "metadata": {
    "slideshow": {
     "slide_type": "slide"
    }
   },
   "outputs": [
    {
     "data": {
      "text/plain": [
       "(1, 3)"
      ]
     },
     "execution_count": 19,
     "metadata": {},
     "output_type": "execute_result"
    }
   ],
   "source": [
    "def solve_2_sum(a):\n",
    "    for p, elem1 in enumerate(a):\n",
    "        for q, elem2 in enumerate(a[p+1:], start=p+1):\n",
    "            if elem1 == -elem2:\n",
    "                return p, q\n",
    "            \n",
    "    return None\n",
    "\n",
    "\n",
    "xs = [4, 5, -3, -5, 8]\n",
    "solve_2_sum(xs)"
   ]
  },
  {
   "cell_type": "code",
   "execution_count": 20,
   "id": "b62894f9",
   "metadata": {
    "slideshow": {
     "slide_type": "subslide"
    }
   },
   "outputs": [
    {
     "name": "stdout",
     "output_type": "stream",
     "text": [
      "0.002622842788696289\n"
     ]
    }
   ],
   "source": [
    "import random\n",
    "import time\n",
    "\n",
    "random.seed(2112)\n",
    "\n",
    "xs = [random.randint(-10**5, 10**5) for _ in range(50_000)]\n",
    "\n",
    "t = time.time()\n",
    "res = solve_2_sum(xs)\n",
    "print(time.time() - t)"
   ]
  },
  {
   "cell_type": "code",
   "execution_count": 21,
   "id": "a43cb619",
   "metadata": {
    "slideshow": {
     "slide_type": "fragment"
    }
   },
   "outputs": [
    {
     "name": "stdout",
     "output_type": "stream",
     "text": [
      "None\n",
      "35.59650278091431\n"
     ]
    }
   ],
   "source": [
    "xs = [1] * 50_000\n",
    "\n",
    "t = time.time()\n",
    "res = solve_2_sum(xs)\n",
    "print(res)\n",
    "print(time.time() - t)"
   ]
  },
  {
   "cell_type": "markdown",
   "id": "d55d0c92",
   "metadata": {
    "slideshow": {
     "slide_type": "slide"
    }
   },
   "source": [
    "**HF**: találjunk ki egy sokkal gyorsabb megoldást erre a feladatra, ami tehát egy tetszőleges, $50000$ hosszú listára legfeljebb $0.05$ másodperc alatt lefut."
   ]
  },
  {
   "cell_type": "markdown",
   "id": "88922616",
   "metadata": {
    "slideshow": {
     "slide_type": "slide"
    }
   },
   "source": [
    "## Programozási paradigmák"
   ]
  },
  {
   "cell_type": "markdown",
   "id": "422d7b3a",
   "metadata": {
    "slideshow": {
     "slide_type": "subslide"
    }
   },
   "source": [
    "Programozási paradigma alatt programozási stílust, gondolkodási sémát értünk, amit az adott nyelv feature-készlete diktál. A leggyakoribb paradigmák az alábbi csoportokba sorolhatók, de ennél sokkal finomabb felosztás is elképzelhető:\n",
    "\n",
    "* imperatív\n",
    "    * procedurális\n",
    "    * objektum-orientált\n",
    "    \n",
    "* deklaratív\n",
    "    * funkcionális\n",
    "    * logikai\n",
    "    * reaktív"
   ]
  },
  {
   "cell_type": "markdown",
   "id": "d6d85cf4",
   "metadata": {
    "slideshow": {
     "slide_type": "subslide"
    }
   },
   "source": [
    "Az **imperatív** paradigma fő eleme az utasítás, ahol a gépet utasítjuk, hogy milyen parancsokat hajtson végre. Az ilyen nyelvek főbb jellemzői, alapvető fogalmai: változók, utasítások (statement), ciklusok.\n",
    "\n",
    "Ezzel szemben áll a **deklaratív** stílus, amikor egy adott feladat megoldásakor olyan kódot írunk, ami a megoldandó feladat egyfajta leírását tartalmazza és nem a konkrét megvalósítás részleteit. Arra fókuszálunk, hogy mit szeretnénk elérni és nem arra, hogy hogyan."
   ]
  },
  {
   "cell_type": "markdown",
   "id": "eb8dc0b4",
   "metadata": {
    "slideshow": {
     "slide_type": "subslide"
    }
   },
   "source": [
    "A modern nyelvek általában több paradigmát támogatnak, egyeseket jobban, másokat kevésbé.\n",
    "\n",
    "A jelenleg legnépszerűbb programozási nyelvek általában az imperatív (procedurális) és az objektum-orientált paradigmát követik (C++, Java, C#), azonban az utóbbi évtizedben erősödik a funkcionális paradigma is. A Python is ezeket a paradigmákat követi, ezeket engedi a felhasználóinak, de nem egyforma mértékben. A Python elsősorban egy imperatív (deklaratív) nyelv, azaz függvényekbe szervezett utasításokat használ, ugyanakkor objektum-orientált is (Pythonban minden objektum, amint ezt már említettük). Emellett, a nyelvtől némileg idegen módon támogat bizonyos elemeket a funkcionális paradigmából is.\n",
    "\n",
    "A következőkben a Python nyelv eddig nem tárgyalt programozási paradigmáiról lesz szó."
   ]
  },
  {
   "cell_type": "markdown",
   "id": "f7517666",
   "metadata": {
    "slideshow": {
     "slide_type": "slide"
    }
   },
   "source": [
    "## Objektum-orientált programozás / paradigma (OOP)"
   ]
  },
  {
   "cell_type": "markdown",
   "id": "6ed1a8ef",
   "metadata": {
    "slideshow": {
     "slide_type": "subslide"
    }
   },
   "source": [
    "Ez a paradigma az ún. objektumok köré szerveződik, amelyek olyan tárolóegységek, melyek egyszerre tartalmaznak adatokat (melyeket mezőknek, vagy attribútumoknak nevezünk), illetve kódot, függvényeket, ami ezen adatok manipulására szolgál. Ezek neve metódus. Metódusokkal elérhető, hogy az objektum adatait magában az objektumban módosítsuk, így az objektum maga egy állapotot tart fenn (pl. egy bankszámla aktuális állapota).\n",
    "\n",
    "Az objektum-orientált programozásban ilyen objektumok épülnek fel a futó programban, melyek egymással interakcióban vannak. A legtöbb OO-nyelv alapfogalma az osztály (class), ekkor az objektumok ezen osztályok példányai (instance)."
   ]
  },
  {
   "cell_type": "markdown",
   "id": "af1b5842",
   "metadata": {
    "slideshow": {
     "slide_type": "subslide"
    }
   },
   "source": [
    "Pythonban az OOP nincs előtérben abban az értelemben, hogy lehet Python kódot írni osztályok nélkül is, mindössze függvényekkel operálva. Bizonyos értelemben nem a Python a legmegfelelőbb nyelv, ha igazán meg akarjuk érteni az OOP fő elveit.\n",
    "\n",
    "Más OOP nyelvekben (pl. Java-ban) sokkal jobban előtérben vannak ezek a fogalmak és nélkülük egyszerűen nem is lehet kódot írni. Ennek ellenére mégis hasznos megismerni az OOP alapjait, mert sok esetben hasznos lehet létező kód megértésében, illetve közepes vagy nagyobb méretű kódbázis fejlesztésénél.\n",
    "\n",
    "Az első OOP-nyelv a Smalltalk volt (1972), és a fogalmak fejlődése során némileg átalakulva az OOP paradigma az 1990-es és korai 2000-es évek uralkodó paradigmájává vált."
   ]
  },
  {
   "cell_type": "code",
   "execution_count": 22,
   "id": "601de23c",
   "metadata": {
    "slideshow": {
     "slide_type": "subslide"
    }
   },
   "outputs": [
    {
     "name": "stdout",
     "output_type": "stream",
     "text": [
      "<__main__.Person object at 0x7f7ccc2344f0>\n",
      "<class '__main__.Person'>\n"
     ]
    }
   ],
   "source": [
    "# A legegyszerűbb osztály\n",
    "\n",
    "class Person:\n",
    "    pass\n",
    "\n",
    "\n",
    "p = Person()\n",
    "print(p)\n",
    "print(type(p))"
   ]
  },
  {
   "cell_type": "code",
   "execution_count": 23,
   "id": "7e60ec2d",
   "metadata": {
    "slideshow": {
     "slide_type": "subslide"
    }
   },
   "outputs": [
    {
     "name": "stdout",
     "output_type": "stream",
     "text": [
      "<__main__.Person object at 0x7f7cbd6d2fd0>\n",
      "Ann\n",
      "25\n",
      "{'name': 'Ann', 'age': 25}\n"
     ]
    }
   ],
   "source": [
    "# Person egy osztály\n",
    "\n",
    "class Person:\n",
    "    pass\n",
    "\n",
    "\n",
    "# p a Person osztály egy példánya\n",
    "p = Person()\n",
    "\n",
    "# a p példányhoz dinamikusan lehet attribútumokat adni\n",
    "p.name = \"Ann\"\n",
    "p.age = 25\n",
    "\n",
    "print(p)\n",
    "\n",
    "print(p.name)\n",
    "print(p.age)\n",
    "\n",
    "print(p.__dict__)"
   ]
  },
  {
   "cell_type": "code",
   "execution_count": 24,
   "id": "ee6949be",
   "metadata": {
    "slideshow": {
     "slide_type": "subslide"
    }
   },
   "outputs": [
    {
     "name": "stdout",
     "output_type": "stream",
     "text": [
      "<__main__.Person object at 0x7f7ccc234640>\n",
      "Ann\n",
      "25\n"
     ]
    }
   ],
   "source": [
    "# Az __init__ metódus inicializálja az osztály, \n",
    "# így az attribútúmok nem utólag lesznek hozzáadva az adott példányhoz  \n",
    "\n",
    "class Person:\n",
    "    # Minden metódus első paramétere maga az osztálypéldány\n",
    "    def __init__(self, name, age):\n",
    "        self.name = name\n",
    "        self.age = age\n",
    "    \n",
    "    \n",
    "p = Person(\"Ann\", 25) \n",
    "print(p)\n",
    "print(p.name)\n",
    "print(p.age)"
   ]
  },
  {
   "cell_type": "code",
   "execution_count": 25,
   "id": "bb46db1d",
   "metadata": {
    "slideshow": {
     "slide_type": "subslide"
    }
   },
   "outputs": [
    {
     "data": {
      "text/plain": [
       "'Hi, my name is Ann!'"
      ]
     },
     "execution_count": 25,
     "metadata": {},
     "output_type": "execute_result"
    }
   ],
   "source": [
    "class Person:\n",
    "    def __init__(self, name, age):\n",
    "        self.name = name\n",
    "        self.age = age\n",
    "        \n",
    "    def introduction(self):\n",
    "        return f\"Hi, my name is {self.name}!\"\n",
    "    \n",
    "    \n",
    "p = Person(\"Ann\", 25)\n",
    "\n",
    "p.introduction()"
   ]
  },
  {
   "cell_type": "code",
   "execution_count": 26,
   "id": "fe0e94ed",
   "metadata": {
    "slideshow": {
     "slide_type": "subslide"
    }
   },
   "outputs": [
    {
     "name": "stdout",
     "output_type": "stream",
     "text": [
      "<__main__.Person object at 0x7f7cbd6d2f70>\n"
     ]
    }
   ],
   "source": [
    "print(p)"
   ]
  },
  {
   "cell_type": "code",
   "execution_count": 27,
   "id": "48bc9334",
   "metadata": {
    "slideshow": {
     "slide_type": "subslide"
    }
   },
   "outputs": [
    {
     "name": "stdout",
     "output_type": "stream",
     "text": [
      "This is Ann, 25 year(s) old.\n"
     ]
    }
   ],
   "source": [
    "class Person:\n",
    "    def __init__(self, name, age):\n",
    "        self.name = name\n",
    "        self.age = age\n",
    "        \n",
    "    def __repr__(self):\n",
    "        return f\"This is {self.name}, {self.age} year(s) old.\"\n",
    "        \n",
    "    def introduction(self):\n",
    "        return f\"Hi, my name is {self.name}!\"\n",
    "    \n",
    "    \n",
    "p = Person(\"Ann\", 25)\n",
    "print(p)"
   ]
  },
  {
   "cell_type": "markdown",
   "id": "4e825c5e",
   "metadata": {
    "slideshow": {
     "slide_type": "subslide"
    }
   },
   "source": [
    "Van egy `__str__` metódus is a `__repr__` mellett. Az utóbbi általában magunknak szól, az előbbi a végfelhasználónak. Ha osztályt írunk, `__repr__` metódust mindig érdemes implementálni."
   ]
  },
  {
   "cell_type": "markdown",
   "id": "40d41303",
   "metadata": {
    "slideshow": {
     "slide_type": "slide"
    }
   },
   "source": [
    "OOP-ből ismert fogalmak lehetnek a `public`, `protected` és `private` attribútumok fogalma. Pythonban nincs kulcsszó ezekre, egyszerűen egy nevezéktani konvenció biztosítja, hogy melyik attribútum érhető el kívülről, és melyeket szeretnénk protected-nek vagy privátnak tekinteni.\n",
    "\n",
    "Más nyelvekből ismerős getter és setter függvényeket lehet ugyan írni, de ne felejtsük, hogy ez itt Python, nincs kikényszerítve, hogy ilyenek írjunk és nem is feltétlenül szokás."
   ]
  },
  {
   "cell_type": "code",
   "execution_count": 28,
   "id": "3e0013f7",
   "metadata": {
    "slideshow": {
     "slide_type": "slide"
    }
   },
   "outputs": [
    {
     "name": "stdout",
     "output_type": "stream",
     "text": [
      "False\n",
      "123\n",
      "123\n"
     ]
    }
   ],
   "source": [
    "class Person:\n",
    "    class_variable = 123\n",
    "    \n",
    "    def __init__(self, name, age):\n",
    "        self.name = name\n",
    "        self.age = age\n",
    "        \n",
    "    def __repr__(self):\n",
    "        return f\"This is {self.name}, {self.age} year(s) old.\"\n",
    "\n",
    "    def is_pensioner(self):\n",
    "        return self.age >= 65\n",
    "    \n",
    "    \n",
    "p = Person(name=\"Ann\", age=25)  \n",
    "\n",
    "print(p.is_pensioner())\n",
    "print(p.class_variable)\n",
    "print(Person.class_variable)"
   ]
  },
  {
   "cell_type": "markdown",
   "id": "5bdf2f7a",
   "metadata": {
    "slideshow": {
     "slide_type": "slide"
    }
   },
   "source": [
    "Miért használunk osztályokat? Először is, osztályokat használni nem kötelező, de előbb-utóbb találkoztok velük, mások kódjaiban, vagy könyvtárakból való importok esetén. Néhány érv a használatuk mellett:\n",
    "\n",
    "* Valamilyen módon összetartozó adatokat akarunk eltárolni egységbe zárva (encapsulation)\n",
    "* Egy állapotot kell tartani, illetve ezt az állapotot kell tudnunk megfelelő módon változtatni\n",
    "* Az adatot csak meghatározott módon lehessen manipulálni, a felhasználónak nem kell tudnia, hogy mi a belső implementáció (absztakció)\n",
    "* Hierarchiába szervezhető adattípusok vannak (öröklődés)"
   ]
  },
  {
   "cell_type": "code",
   "execution_count": 29,
   "id": "0987674c",
   "metadata": {
    "slideshow": {
     "slide_type": "subslide"
    }
   },
   "outputs": [],
   "source": [
    "class BankAccount:\n",
    "    def __init__(self, account_id, initial_amount=0):\n",
    "        self._id = account_id\n",
    "        self._amount = initial_amount\n",
    "        \n",
    "    def __repr__(self):\n",
    "        return f\"This is account {self._id}.\"\n",
    "    \n",
    "    def amount(self):\n",
    "        return self._amount\n",
    "        \n",
    "    def deposit(self, money):\n",
    "        self._amount += money\n",
    "        \n",
    "    def withdraw(self, money):\n",
    "        if self._amount >= money:\n",
    "            self._amount -= money\n",
    "            return money\n",
    "        \n",
    "        # Kivétel dobása helyett ilyenkor akár 0 fabatkát is visszadhatnánk, az egyenleget változatlanul hagyva\n",
    "        raise Exception(\"Not enough money on your account.\")"
   ]
  },
  {
   "cell_type": "code",
   "execution_count": 30,
   "id": "00784c97",
   "metadata": {
    "slideshow": {
     "slide_type": "subslide"
    }
   },
   "outputs": [
    {
     "name": "stdout",
     "output_type": "stream",
     "text": [
      "This is account 123.\n",
      "50\n"
     ]
    }
   ],
   "source": [
    "account = BankAccount(123)\n",
    "\n",
    "account.deposit(100)\n",
    "account.deposit(200)\n",
    "_ = account.withdraw(250)\n",
    "print(account)\n",
    "print(account.amount())"
   ]
  },
  {
   "cell_type": "markdown",
   "id": "8e2ac445",
   "metadata": {
    "slideshow": {
     "slide_type": "subslide"
    }
   },
   "source": [
    "Ez a számla nem túl biztonságos, mert az `_amount` mezőt lehet kívülről manipulálni, csak a konvención és az én jóindulatomon múlt, hogy titokban ne adjak pénzt közvetlenül ehhez a mezőhöz."
   ]
  },
  {
   "cell_type": "code",
   "execution_count": 31,
   "id": "7bfbc9ab",
   "metadata": {
    "slideshow": {
     "slide_type": "fragment"
    }
   },
   "outputs": [
    {
     "name": "stdout",
     "output_type": "stream",
     "text": [
      "10000\n"
     ]
    }
   ],
   "source": [
    "account = BankAccount(123)\n",
    "account._amount = 10000\n",
    "\n",
    "print(account.amount())"
   ]
  },
  {
   "cell_type": "markdown",
   "id": "0ec081c9",
   "metadata": {
    "slideshow": {
     "slide_type": "fragment"
    }
   },
   "source": [
    "Pythonban lehet ennél szigorúbb hozzáférést adni a tényleg privátnak gondolt mezőkhöz, illetve megfelelő settereket és gettereket itt is be lehet állítani, de mi most ennél tovább nem megyünk."
   ]
  },
  {
   "cell_type": "code",
   "execution_count": 32,
   "id": "18130021",
   "metadata": {
    "slideshow": {
     "slide_type": "subslide"
    }
   },
   "outputs": [],
   "source": [
    "class BankAccount:\n",
    "    def __init__(self, account_id, initial_amount=0):\n",
    "        self._id = account_id\n",
    "        self._amount = initial_amount\n",
    "        \n",
    "    def __repr__(self):\n",
    "        return f\"This is account {self._id}.\"\n",
    "    \n",
    "    @property\n",
    "    def amount(self):\n",
    "        return self._amount\n",
    "        \n",
    "    def deposit(self, money):\n",
    "        self._amount += money\n",
    "        \n",
    "    def withdraw(self, money):\n",
    "        if self._amount >= money:\n",
    "            self._amount -= money\n",
    "            return money\n",
    "        \n",
    "        raise Exception(\"Not enough money on your account.\")"
   ]
  },
  {
   "cell_type": "code",
   "execution_count": 33,
   "id": "77ef16e2",
   "metadata": {
    "slideshow": {
     "slide_type": "subslide"
    }
   },
   "outputs": [
    {
     "name": "stdout",
     "output_type": "stream",
     "text": [
      "This is account 123.\n",
      "100\n"
     ]
    }
   ],
   "source": [
    "account = BankAccount(123)\n",
    "account.deposit(100)\n",
    "\n",
    "print(account)\n",
    "print(account.amount)"
   ]
  },
  {
   "cell_type": "code",
   "execution_count": 34,
   "id": "18c8eacf",
   "metadata": {
    "slideshow": {
     "slide_type": "fragment"
    }
   },
   "outputs": [
    {
     "ename": "AttributeError",
     "evalue": "can't set attribute",
     "output_type": "error",
     "traceback": [
      "\u001b[0;31m---------------------------------------------------------------------------\u001b[0m",
      "\u001b[0;31mAttributeError\u001b[0m                            Traceback (most recent call last)",
      "Input \u001b[0;32mIn [34]\u001b[0m, in \u001b[0;36m<cell line: 1>\u001b[0;34m()\u001b[0m\n\u001b[0;32m----> 1\u001b[0m account\u001b[38;5;241m.\u001b[39mamount \u001b[38;5;241m=\u001b[39m \u001b[38;5;241m1000\u001b[39m\n",
      "\u001b[0;31mAttributeError\u001b[0m: can't set attribute"
     ]
    }
   ],
   "source": [
    "account.amount = 1000"
   ]
  },
  {
   "cell_type": "markdown",
   "id": "124d2960",
   "metadata": {
    "slideshow": {
     "slide_type": "slide"
    }
   },
   "source": [
    "# A verem adatszerkezet (stack)"
   ]
  },
  {
   "cell_type": "markdown",
   "id": "2b54c498",
   "metadata": {
    "slideshow": {
     "slide_type": "subslide"
    }
   },
   "source": [
    "A verem nem egy Pythonos adatszerkezet, hanem egy általános, nyelvfüggetlen, ún. absztrakt adattípus. A következő jellemzői vannak:\n",
    "    \n",
    "* adatokat tudunk benne tárolni\n",
    "* a következő operációkat támogatja:\n",
    "    * bele tudunk tenni egy új elemet (push)\n",
    "    * ki tudjuk venni a legutoljára betett elemet (pop)\n",
    "    * meg tudjuk nézni a legutoljára betett elemet (top)\n",
    "    * meg tudjuk érdezni, hogy üres-e a verem (is_empty)\n",
    "    \n",
    "úgy, hogy ezek a műveletek gyorsak (lényegében konstans idejűek). Mivel veremben mindig a legutoljára berakott elem van legfelül, ezért az jön ki legelőször, szokás ezt az adatszerkezetet LIFO-nak nevezni (last in, first out).\n",
    "\n",
    "Mivel a Python adatszerkezetek között nincs verem, ezért csináljunk egyet. Persze van olyan beépített collection, ami ezeket a követelményeket tudja (melyik?), de ezt a mi, saját verem-implementációnkat használó usernek nem kell tudnia (absztrakció)."
   ]
  },
  {
   "cell_type": "markdown",
   "id": "a55621c0",
   "metadata": {
    "slideshow": {
     "slide_type": "subslide"
    }
   },
   "source": [
    "![](img/stack.png)"
   ]
  },
  {
   "cell_type": "code",
   "execution_count": 35,
   "id": "1fe251c6",
   "metadata": {
    "slideshow": {
     "slide_type": "subslide"
    }
   },
   "outputs": [],
   "source": [
    "class EmptyStack(Exception):\n",
    "    pass\n",
    "\n",
    "\n",
    "class Stack:\n",
    "    def __init__(self):\n",
    "        pass\n",
    "        \n",
    "    def is_empty(self):\n",
    "        pass\n",
    "    \n",
    "    def push(self, item):\n",
    "        pass\n",
    "    \n",
    "    def pop(self):\n",
    "        pass\n",
    "        \n",
    "    def top(self):\n",
    "        pass"
   ]
  },
  {
   "cell_type": "code",
   "execution_count": 36,
   "id": "4b5660a2",
   "metadata": {
    "slideshow": {
     "slide_type": "subslide"
    }
   },
   "outputs": [],
   "source": [
    "class Stack:\n",
    "    def __init__(self):\n",
    "        self._stack = []\n",
    "        \n",
    "    def is_empty(self):\n",
    "        pass"
   ]
  },
  {
   "cell_type": "code",
   "execution_count": 37,
   "id": "6a46f05f",
   "metadata": {
    "slideshow": {
     "slide_type": "subslide"
    }
   },
   "outputs": [],
   "source": [
    "class Stack:\n",
    "    def __init__(self):\n",
    "        self._stack = []\n",
    "        \n",
    "    def is_empty(self):\n",
    "        return len(self._stack) == 0"
   ]
  },
  {
   "cell_type": "code",
   "execution_count": 38,
   "id": "2ef1340b",
   "metadata": {
    "slideshow": {
     "slide_type": "fragment"
    }
   },
   "outputs": [
    {
     "name": "stdout",
     "output_type": "stream",
     "text": [
      "True\n"
     ]
    }
   ],
   "source": [
    "s = Stack()\n",
    "\n",
    "print(s.is_empty())"
   ]
  },
  {
   "cell_type": "code",
   "execution_count": 39,
   "id": "5cae6b5e",
   "metadata": {
    "slideshow": {
     "slide_type": "subslide"
    }
   },
   "outputs": [],
   "source": [
    "class Stack:\n",
    "    def __init__(self):\n",
    "        self._stack = []\n",
    "    \n",
    "    @property\n",
    "    def is_empty(self):\n",
    "        return not bool(self._stack)"
   ]
  },
  {
   "cell_type": "code",
   "execution_count": 40,
   "id": "6190c4ff",
   "metadata": {
    "slideshow": {
     "slide_type": "fragment"
    }
   },
   "outputs": [
    {
     "name": "stdout",
     "output_type": "stream",
     "text": [
      "True\n"
     ]
    }
   ],
   "source": [
    "s = Stack()\n",
    "\n",
    "print(s.is_empty)"
   ]
  },
  {
   "cell_type": "code",
   "execution_count": 41,
   "id": "231b6390",
   "metadata": {
    "slideshow": {
     "slide_type": "subslide"
    }
   },
   "outputs": [],
   "source": [
    "class Stack:\n",
    "    def __init__(self):\n",
    "        self._stack = []\n",
    "    \n",
    "    @property\n",
    "    def is_empty(self):\n",
    "        return not bool(self._stack)\n",
    "    \n",
    "    def push(self, item):\n",
    "        pass"
   ]
  },
  {
   "cell_type": "code",
   "execution_count": 42,
   "id": "7b25ebd5",
   "metadata": {
    "slideshow": {
     "slide_type": "subslide"
    }
   },
   "outputs": [],
   "source": [
    "class Stack:\n",
    "    def __init__(self):\n",
    "        self._stack = []\n",
    "    \n",
    "    @property\n",
    "    def is_empty(self):\n",
    "        return not bool(self._stack)\n",
    "    \n",
    "    def push(self, item):\n",
    "        self._stack.append(item)"
   ]
  },
  {
   "cell_type": "code",
   "execution_count": 43,
   "id": "84247b23",
   "metadata": {
    "slideshow": {
     "slide_type": "subslide"
    }
   },
   "outputs": [],
   "source": [
    "class Stack:\n",
    "    def __init__(self):\n",
    "        self._stack = []\n",
    "    \n",
    "    @property\n",
    "    def is_empty(self):\n",
    "        return not bool(self._stack)\n",
    "    \n",
    "    def push(self, item):\n",
    "        self._stack.append(item)\n",
    "        \n",
    "    def top(self):\n",
    "        if self.is_empty:\n",
    "            raise EmptyStack(\"The stack is empty.\")\n",
    "            \n",
    "        return self._stack[-1]    "
   ]
  },
  {
   "cell_type": "code",
   "execution_count": 44,
   "id": "5b500bf5",
   "metadata": {
    "slideshow": {
     "slide_type": "subslide"
    }
   },
   "outputs": [
    {
     "name": "stdout",
     "output_type": "stream",
     "text": [
      "20\n"
     ]
    }
   ],
   "source": [
    "s = Stack()\n",
    "\n",
    "s.push(10)\n",
    "s.push(20)\n",
    "\n",
    "print(s.top())"
   ]
  },
  {
   "cell_type": "code",
   "execution_count": 46,
   "id": "02a1fa5b",
   "metadata": {
    "slideshow": {
     "slide_type": "slide"
    }
   },
   "outputs": [
    {
     "ename": "EmptyStack",
     "evalue": "The stack is empty.",
     "output_type": "error",
     "traceback": [
      "\u001b[0;31m---------------------------------------------------------------------------\u001b[0m",
      "\u001b[0;31mEmptyStack\u001b[0m                                Traceback (most recent call last)",
      "Input \u001b[0;32mIn [46]\u001b[0m, in \u001b[0;36m<cell line: 3>\u001b[0;34m()\u001b[0m\n\u001b[1;32m      1\u001b[0m s \u001b[38;5;241m=\u001b[39m Stack()\n\u001b[0;32m----> 3\u001b[0m \u001b[38;5;28mprint\u001b[39m(\u001b[43ms\u001b[49m\u001b[38;5;241;43m.\u001b[39;49m\u001b[43mtop\u001b[49m\u001b[43m(\u001b[49m\u001b[43m)\u001b[49m)\n",
      "Input \u001b[0;32mIn [43]\u001b[0m, in \u001b[0;36mStack.top\u001b[0;34m(self)\u001b[0m\n\u001b[1;32m     12\u001b[0m \u001b[38;5;28;01mdef\u001b[39;00m \u001b[38;5;21mtop\u001b[39m(\u001b[38;5;28mself\u001b[39m):\n\u001b[1;32m     13\u001b[0m     \u001b[38;5;28;01mif\u001b[39;00m \u001b[38;5;28mself\u001b[39m\u001b[38;5;241m.\u001b[39mis_empty:\n\u001b[0;32m---> 14\u001b[0m         \u001b[38;5;28;01mraise\u001b[39;00m EmptyStack(\u001b[38;5;124m\"\u001b[39m\u001b[38;5;124mThe stack is empty.\u001b[39m\u001b[38;5;124m\"\u001b[39m)\n\u001b[1;32m     16\u001b[0m     \u001b[38;5;28;01mreturn\u001b[39;00m \u001b[38;5;28mself\u001b[39m\u001b[38;5;241m.\u001b[39m_stack[\u001b[38;5;241m-\u001b[39m\u001b[38;5;241m1\u001b[39m]\n",
      "\u001b[0;31mEmptyStack\u001b[0m: The stack is empty."
     ]
    }
   ],
   "source": [
    "s = Stack()\n",
    "\n",
    "print(s.top())"
   ]
  },
  {
   "cell_type": "code",
   "execution_count": 47,
   "id": "4dccbcd8",
   "metadata": {
    "slideshow": {
     "slide_type": "subslide"
    }
   },
   "outputs": [],
   "source": [
    "class Stack:\n",
    "    def __init__(self):\n",
    "        self._stack = []\n",
    "    \n",
    "    @property\n",
    "    def is_empty(self):\n",
    "        return not bool(self._stack)\n",
    "    \n",
    "    def push(self, item):\n",
    "        self._stack.append(item)\n",
    "        \n",
    "    def top(self):\n",
    "        if self.is_empty:\n",
    "            raise EmptyStack(\"The stack is empty.\")\n",
    "            \n",
    "        return self._stack[-1] \n",
    "    \n",
    "    def pop(self):\n",
    "        if self.is_empty:\n",
    "            raise EmptyStack(\"The stack is empty.\")\n",
    "        \n",
    "        return self._stack.pop()"
   ]
  },
  {
   "cell_type": "code",
   "execution_count": 48,
   "id": "7b635638",
   "metadata": {
    "slideshow": {
     "slide_type": "subslide"
    }
   },
   "outputs": [
    {
     "name": "stdout",
     "output_type": "stream",
     "text": [
      "20\n",
      "10\n",
      "True\n"
     ]
    }
   ],
   "source": [
    "s = Stack()\n",
    "\n",
    "s.push(10)\n",
    "s.push(20)\n",
    "x = s.pop()\n",
    "y = s.pop()\n",
    "print(x)\n",
    "print(y)\n",
    "print(s.is_empty)"
   ]
  },
  {
   "cell_type": "markdown",
   "id": "ddc27379",
   "metadata": {
    "slideshow": {
     "slide_type": "slide"
    }
   },
   "source": [
    "Mi van, ha szeretnénk különféle értékekkel inicializálni a vermet?"
   ]
  },
  {
   "cell_type": "code",
   "execution_count": 49,
   "id": "e0020f20",
   "metadata": {
    "slideshow": {
     "slide_type": "subslide"
    }
   },
   "outputs": [],
   "source": [
    "def f(a, b):\n",
    "    return a + b"
   ]
  },
  {
   "cell_type": "code",
   "execution_count": 50,
   "id": "f06b0f3c",
   "metadata": {
    "slideshow": {
     "slide_type": "fragment"
    }
   },
   "outputs": [
    {
     "name": "stdout",
     "output_type": "stream",
     "text": [
      "(1, 2, 3, 4)\n"
     ]
    },
    {
     "data": {
      "text/plain": [
       "10"
      ]
     },
     "execution_count": 50,
     "metadata": {},
     "output_type": "execute_result"
    }
   ],
   "source": [
    "def f(*args):\n",
    "    print(args)\n",
    "    return sum(args)\n",
    "\n",
    "\n",
    "f(1, 2, 3, 4)"
   ]
  },
  {
   "cell_type": "code",
   "execution_count": 51,
   "id": "c6d72778",
   "metadata": {
    "slideshow": {
     "slide_type": "fragment"
    }
   },
   "outputs": [
    {
     "data": {
      "text/plain": [
       "21"
      ]
     },
     "execution_count": 51,
     "metadata": {},
     "output_type": "execute_result"
    }
   ],
   "source": [
    "def f(*args):\n",
    "    return sum(args)\n",
    "\n",
    "\n",
    "xs = [1, 2, 3, 4, 5, 6]\n",
    "f(*xs)"
   ]
  },
  {
   "cell_type": "code",
   "execution_count": 52,
   "id": "33c60769",
   "metadata": {
    "slideshow": {
     "slide_type": "slide"
    }
   },
   "outputs": [],
   "source": [
    "class Stack:\n",
    "    def __init__(self, *args):\n",
    "        self._stack = list(args)\n",
    "    \n",
    "    @property\n",
    "    def is_empty(self):\n",
    "        return not bool(self._stack)\n",
    "    \n",
    "    def push(self, item):\n",
    "        self._stack.append(item)\n",
    "        \n",
    "    def top(self):\n",
    "        if self.is_empty:\n",
    "            raise EmptyStack(\"The stack is empty.\")\n",
    "            \n",
    "        return self._stack[-1] \n",
    "    \n",
    "    def pop(self):\n",
    "        if self.is_empty:\n",
    "            raise EmptyStack(\"The stack is empty.\")\n",
    "        \n",
    "        return self._stack.pop()"
   ]
  },
  {
   "cell_type": "code",
   "execution_count": 55,
   "id": "19d417a1",
   "metadata": {
    "slideshow": {
     "slide_type": "subslide"
    }
   },
   "outputs": [
    {
     "name": "stdout",
     "output_type": "stream",
     "text": [
      "100\n",
      "20\n",
      "False\n",
      "10\n"
     ]
    }
   ],
   "source": [
    "s = Stack(10, 20, 100)\n",
    "\n",
    "\n",
    "print(s.pop())\n",
    "print(s.pop())\n",
    "print(s.is_empty)\n",
    "print(s.pop())\n",
    "s.push(100)"
   ]
  },
  {
   "cell_type": "markdown",
   "id": "b31bf625",
   "metadata": {
    "slideshow": {
     "slide_type": "subslide"
    }
   },
   "source": [
    "**HF**: Adott egy kifejezés, ami a `(`, `)`, `[` és `]` karakterekből állhat. Állapítsuk meg, hogy a kifejezés helyesen zárójelezett-e vagy sem.\n",
    "\n",
    "pl. `([()])` helyes zárójelezés, `([(]))` nem az, mert a szögletes zárójelpár tartalmaz pár nélküli nyitó zárójelet."
   ]
  },
  {
   "cell_type": "markdown",
   "id": "bca7c919",
   "metadata": {
    "slideshow": {
     "slide_type": "subslide"
    }
   },
   "source": [
    "**HF**: Készítsünk saját halmaz-implementációt! A halmaz elemeit tároljuk egy belső listában, figyelve arra, hogy a lista később sem tartalmazhat duplikátumokat! \n",
    "* lehessen üres halmazt készíteni\n",
    "* legyen `add` metódusa, amivel hozzá lehet adni új elemet\n",
    "* lehessen értelmes módon kiprintelni a halmazt\n",
    "\n",
    "```python\n",
    "class Set:\n",
    "    def __init__(self):\n",
    "        self._elems = []\n",
    "        pass\n",
    "    \n",
    "    def __repr__(self):\n",
    "        pass\n",
    "    \n",
    "    def add(self, x):\n",
    "        pass\n",
    "```"
   ]
  },
  {
   "cell_type": "markdown",
   "id": "9a8d1255",
   "metadata": {
    "slideshow": {
     "slide_type": "subslide"
    }
   },
   "source": [
    "Ha van időnk, próbáljuk meg a következő feature-öket is hozzáadni:\n",
    "\n",
    "* lehessen a halmazt különböző elemekkel inicializálni, pl. `s = Set(1, 2, 3, 1, 10, 1)`\n",
    "* legyen `pop` metódusa\n",
    "* legyen definiálva egy `union`, egy `intersection` és egy `difference` metódus is"
   ]
  }
 ],
 "metadata": {
  "celltoolbar": "Slideshow",
  "kernelspec": {
   "display_name": "Python 3 (ipykernel)",
   "language": "python",
   "name": "python3"
  },
  "language_info": {
   "codemirror_mode": {
    "name": "ipython",
    "version": 3
   },
   "file_extension": ".py",
   "mimetype": "text/x-python",
   "name": "python",
   "nbconvert_exporter": "python",
   "pygments_lexer": "ipython3",
   "version": "3.9.12"
  }
 },
 "nbformat": 4,
 "nbformat_minor": 5
}
