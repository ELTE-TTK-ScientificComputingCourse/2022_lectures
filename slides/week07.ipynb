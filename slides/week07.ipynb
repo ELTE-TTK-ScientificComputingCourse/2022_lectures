{
 "cells": [
  {
   "cell_type": "markdown",
   "id": "f7517666",
   "metadata": {
    "slideshow": {
     "slide_type": "slide"
    }
   },
   "source": [
    "# Funkcionális programozás - FP (Functional programming)"
   ]
  },
  {
   "cell_type": "markdown",
   "id": "e8e37a41",
   "metadata": {
    "slideshow": {
     "slide_type": "subslide"
    }
   },
   "source": [
    "A funkcionális programozás egy másik programozási paradigma, amelyet a Python támogat (pontosabban szólva megtűr :). Ez a paradigma a (matematikai értelemben vett) függvény fogalmát helyezi középpontba. Az adatot függvények sorozatának alkalmazásával transzformáljuk, míg el nem jutunk a végeredményhez.\n",
    "\n",
    "Tisztán funkcionális nyelvekben a feladatmegoldás az alábbi alapfogalmak köré csoportosul: értékek (és nem változók), kifejezések (és nem utasítások), mellékhatás-mentes függvények.\n",
    "\n",
    "Pythonban vannak bizonyos nyelvi elemek, melyeket a funkcionális nyelvek inspiráltak, ezek közül tekintünk most át néhányat."
   ]
  },
  {
   "cell_type": "markdown",
   "id": "d5dac67b",
   "metadata": {
    "slideshow": {
     "slide_type": "subslide"
    }
   },
   "source": [
    "A funkcionális nyelvek egyidősek a jelenlegi legrégebb óta létező programozási nyelvekkel, ugyanakkor mindig is inkább afféle akadémiai, kutatóintézeti különlegességekként voltak kezelve. Az utóbbi években, évtizedekben azonban a funkcionális nyelvekben már régóta létező feature-ök elkezdtek átszivárogni a leggyakrabban használt mainstream nyelvekbe.\n",
    "\n",
    "Pythonban is viszonylag régóta a nyelv részét képezik bizonyos FP-konstrukciók, és a legutóbbi alkalommal, a Python 3.10 megjelenésével is került be lényeges új szintaxis, a mintaillesztés (pattern matching), amelyek FP-nyelvekben már régóta jelen vannak.\n",
    "\n",
    "A jelenlegi FP-nyelvek egyik őse az ML-nyelvcsalád volt az 1980-as években, amelyekből sok modern FP-nyelv merített ötleteket. Ha a nagy imperatív nyelveket felsoroltam korábban (C, C++, Java, C#), akkor álljon itt néhány ismertebb FP-nyelv is: SML, OCaml, Haskell, Scala, Erlang, Elixir, F#, Elm, Lisp, Clojure, Scheme."
   ]
  },
  {
   "cell_type": "markdown",
   "id": "08a5b112",
   "metadata": {
    "slideshow": {
     "slide_type": "slide"
    }
   },
   "source": [
    "## map és filter"
   ]
  },
  {
   "cell_type": "markdown",
   "id": "788f7281",
   "metadata": {
    "slideshow": {
     "slide_type": "subslide"
    }
   },
   "source": [
    "A `map` és a `filter` függvények úgynevezett magasabb rendű függvények (higher order function), mert az első paraméter, amit várnak, egy függvény.\n",
    "\n",
    "```\n",
    "map(f, xs) -> [f(x) for x in xs]\n",
    "```\n",
    "\n",
    "```\n",
    "filter(p, xs) -> [x for x in xs if p(x)]\n",
    "```\n",
    "\n",
    "A `map` egy függvényt vár, amit a másik paraméter elemeire tudunk alkalmazni, a `filter` pedig egy úgynevezett predikátumot vár, ami a második paraméter elemeihez igaz/hamis értékeket tud rendelni. "
   ]
  },
  {
   "cell_type": "code",
   "execution_count": null,
   "id": "5193cd82",
   "metadata": {
    "slideshow": {
     "slide_type": "subslide"
    }
   },
   "outputs": [],
   "source": [
    "lst = [1, 2, 3]\n",
    "\n",
    "double_lst = [2*x for x in lst]\n",
    "\n",
    "double_lst"
   ]
  },
  {
   "cell_type": "code",
   "execution_count": null,
   "id": "8ba48bde",
   "metadata": {
    "slideshow": {
     "slide_type": "fragment"
    }
   },
   "outputs": [],
   "source": [
    "result = map(lambda x: 2*x, lst)"
   ]
  },
  {
   "cell_type": "code",
   "execution_count": null,
   "id": "c0beb742",
   "metadata": {
    "slideshow": {
     "slide_type": "subslide"
    }
   },
   "outputs": [],
   "source": [
    "for y in result:\n",
    "    print(y)"
   ]
  },
  {
   "cell_type": "code",
   "execution_count": null,
   "id": "0dca4d87",
   "metadata": {
    "slideshow": {
     "slide_type": "subslide"
    }
   },
   "outputs": [],
   "source": [
    "for y in result:\n",
    "    print(y)"
   ]
  },
  {
   "cell_type": "code",
   "execution_count": null,
   "id": "3af7bae5",
   "metadata": {
    "slideshow": {
     "slide_type": "fragment"
    }
   },
   "outputs": [],
   "source": [
    "list(result)"
   ]
  },
  {
   "cell_type": "code",
   "execution_count": null,
   "id": "a7cbba02",
   "metadata": {
    "slideshow": {
     "slide_type": "subslide"
    }
   },
   "outputs": [],
   "source": [
    "# Az eredmény egy olyan objektum, amin végig lehet iterálni, de csak egyszer\n",
    "\n",
    "result = map(lambda x: 2*x, lst)\n",
    "\n",
    "# El tudjuk tenni az eredményt listába, ha akarjuk\n",
    "\n",
    "result = list(map(lambda x: 2*x, lst))\n",
    "\n",
    "result"
   ]
  },
  {
   "cell_type": "code",
   "execution_count": null,
   "id": "10083cf1",
   "metadata": {
    "slideshow": {
     "slide_type": "slide"
    }
   },
   "outputs": [],
   "source": [
    "even_numbers = [x for x in lst if x % 2 == 1]\n",
    "\n",
    "even_numbers"
   ]
  },
  {
   "cell_type": "code",
   "execution_count": null,
   "id": "51d33208",
   "metadata": {
    "slideshow": {
     "slide_type": "fragment"
    }
   },
   "outputs": [],
   "source": [
    "result = filter(lambda x: x % 2 == 1, lst)"
   ]
  },
  {
   "cell_type": "code",
   "execution_count": null,
   "id": "62d499ea",
   "metadata": {
    "slideshow": {
     "slide_type": "subslide"
    }
   },
   "outputs": [],
   "source": [
    "for y in result:\n",
    "    print(y)"
   ]
  },
  {
   "cell_type": "code",
   "execution_count": null,
   "id": "7a1be25a",
   "metadata": {
    "slideshow": {
     "slide_type": "fragment"
    }
   },
   "outputs": [],
   "source": [
    "# Ismét kimerítettük a keletkező objektumot.\n",
    "\n",
    "for y in result:\n",
    "    print(y)"
   ]
  },
  {
   "cell_type": "code",
   "execution_count": null,
   "id": "e03ba853",
   "metadata": {
    "slideshow": {
     "slide_type": "subslide"
    }
   },
   "outputs": [],
   "source": [
    "# Természetesen lambda függvény helyett lehet névvel definiált függvényt használni.\n",
    "\n",
    "\n",
    "def is_odd(n):\n",
    "    return n % 2 == 1\n",
    "\n",
    "\n",
    "list(filter(is_odd, lst))"
   ]
  },
  {
   "cell_type": "markdown",
   "id": "d9649eb3",
   "metadata": {
    "slideshow": {
     "slide_type": "slide"
    }
   },
   "source": [
    "Feladat: Printeljük ki 1-10-ig a számokat (a) függőlegesen, mindet új sorba; (b) vízszintesen, egy sorba, vesszővel elválasztva."
   ]
  },
  {
   "cell_type": "code",
   "execution_count": null,
   "id": "37b26b9c",
   "metadata": {
    "slideshow": {
     "slide_type": "subslide"
    }
   },
   "outputs": [],
   "source": [
    "for k in range(1, 11):\n",
    "    print(k)"
   ]
  },
  {
   "cell_type": "code",
   "execution_count": null,
   "id": "643f3018",
   "metadata": {
    "slideshow": {
     "slide_type": "fragment"
    }
   },
   "outputs": [],
   "source": [
    "\",\".join(map(lambda x: str(x), range(1, 11)))"
   ]
  },
  {
   "cell_type": "code",
   "execution_count": null,
   "id": "579b91c0",
   "metadata": {
    "slideshow": {
     "slide_type": "fragment"
    }
   },
   "outputs": [],
   "source": [
    "\",\".join(map(str, range(1, 11)))"
   ]
  },
  {
   "cell_type": "markdown",
   "id": "027c027f",
   "metadata": {
    "slideshow": {
     "slide_type": "slide"
    }
   },
   "source": [
    "Az FP-paradigma főbb alapelvei: \n",
    "    \n",
    "* használjuk matematika értelemben vett, mellékhatások nélküli függvényeket\n",
    "* az adat legyen immutable\n",
    "* az adatot függvényekkel transzformáljuk (és nem felülírjuk / módosítjuk)\n",
    "* a nevekhez egyszer társítsunk értéket (azaz a \"változó\" ne változzon!)\n",
    "\n",
    "\n",
    "Ehhez a Python viszonylag kevés támogatást ad, de ettől még ezek az alapelvek hasznosak tudnak lenni, mert csökkenti a hibalehetőségek számát."
   ]
  },
  {
   "cell_type": "code",
   "execution_count": null,
   "id": "f5771770",
   "metadata": {
    "slideshow": {
     "slide_type": "subslide"
    }
   },
   "outputs": [],
   "source": [
    "# pl. állítsuk elő 2 függvény kompzícióját\n",
    "\n",
    "def compose(f, g):\n",
    "    def helper(x):\n",
    "        return f(g(x))\n",
    "    \n",
    "    return helper\n",
    "\n",
    "\n",
    "# vagy:\n",
    "# def compose(f, g):\n",
    "#     return lambda x: f(g(x))"
   ]
  },
  {
   "cell_type": "code",
   "execution_count": null,
   "id": "05161730",
   "metadata": {
    "slideshow": {
     "slide_type": "subslide"
    }
   },
   "outputs": [],
   "source": [
    "def f(x):\n",
    "    return x + 1\n",
    "\n",
    "def g(x):\n",
    "    return 2*x\n",
    "\n",
    "h = compose(f, g)\n",
    "\n",
    "h(10)"
   ]
  },
  {
   "cell_type": "markdown",
   "id": "a44ebf7a",
   "metadata": {
    "slideshow": {
     "slide_type": "slide"
    }
   },
   "source": [
    "## Generátorok (generators)"
   ]
  },
  {
   "cell_type": "markdown",
   "id": "882b86a3",
   "metadata": {
    "slideshow": {
     "slide_type": "subslide"
    }
   },
   "source": [
    "A generátorok olyan \"adatszerkezetek\", amelyek nem állítják elő az adatot (a listával ellentétben), hanem eltárolják azt a módot, ahogy a kért adat legenerálható, és kérésre újabb és újabb elemet készít el és ad vissza nekünk."
   ]
  },
  {
   "cell_type": "code",
   "execution_count": null,
   "id": "61968326",
   "metadata": {
    "slideshow": {
     "slide_type": "subslide"
    }
   },
   "outputs": [],
   "source": [
    "lst = [1, 2, 3]\n",
    "\n",
    "result = [2*x for x in lst]\n",
    "print(result)\n",
    "\n",
    "def double(lst):\n",
    "    result = []\n",
    "    for x in lst:\n",
    "        result.append(2*x)\n",
    "    return result\n",
    "\n",
    "double(lst)"
   ]
  },
  {
   "cell_type": "code",
   "execution_count": null,
   "id": "462ee6c5",
   "metadata": {
    "slideshow": {
     "slide_type": "subslide"
    }
   },
   "outputs": [],
   "source": [
    "lst = [1, 2, 3]\n",
    "\n",
    "# Ez nem tuple-comprehension!\n",
    "result = (2*x for x in lst)\n",
    "\n",
    "result"
   ]
  },
  {
   "cell_type": "code",
   "execution_count": null,
   "id": "9ac81778",
   "metadata": {
    "slideshow": {
     "slide_type": "subslide"
    }
   },
   "outputs": [],
   "source": [
    "def generate_doubles(lst):\n",
    "    for x in lst:\n",
    "        yield 2*x\n",
    "        \n",
    "        \n",
    "result = generate_doubles(lst)\n",
    "result"
   ]
  },
  {
   "cell_type": "code",
   "execution_count": null,
   "id": "790958f9",
   "metadata": {
    "slideshow": {
     "slide_type": "fragment"
    }
   },
   "outputs": [],
   "source": [
    "for y in result:\n",
    "    print(y)"
   ]
  },
  {
   "cell_type": "code",
   "execution_count": null,
   "id": "6d684d25",
   "metadata": {
    "slideshow": {
     "slide_type": "subslide"
    }
   },
   "outputs": [],
   "source": [
    "result = generate_doubles(lst)\n",
    "\n",
    "while True:\n",
    "    y = next(result)\n",
    "    print(y)"
   ]
  },
  {
   "cell_type": "code",
   "execution_count": null,
   "id": "338b010e",
   "metadata": {
    "slideshow": {
     "slide_type": "subslide"
    }
   },
   "outputs": [],
   "source": [
    "result = generate_doubles(lst)\n",
    "\n",
    "while True:\n",
    "    try:\n",
    "        y = next(result)\n",
    "        print(y)\n",
    "    except StopIteration:\n",
    "        break"
   ]
  },
  {
   "cell_type": "code",
   "execution_count": null,
   "id": "385bb59f",
   "metadata": {
    "slideshow": {
     "slide_type": "fragment"
    }
   },
   "outputs": [],
   "source": [
    "result = generate_doubles(lst)\n",
    "\n",
    "while (y := next(result, None)) is not None:\n",
    "    print(y)"
   ]
  },
  {
   "cell_type": "markdown",
   "id": "1c728db0",
   "metadata": {
    "slideshow": {
     "slide_type": "slide"
    }
   },
   "source": [
    "A generátor objektum tehát a `next` függvényhívás során legenerálja a következő elemet, egészen addig, amíg el nem \"fogy\". Ha nincs több elem, amit generálhatna, de mi mégis meghívnánk a következő elemet, akkor egy `StopIteration` hibát dob.\n",
    "\n",
    "Egy `for` ciklussal egyszerűen végigiterálhatunk egy generátor elemein, amennyiben az véget ér. Lehet ugyanis olyan generátort csinálni, ami végtelen sok elemet képes generálni."
   ]
  },
  {
   "cell_type": "code",
   "execution_count": null,
   "id": "49264d0c",
   "metadata": {
    "slideshow": {
     "slide_type": "subslide"
    }
   },
   "outputs": [],
   "source": [
    "def generate_natural_numbers():\n",
    "    n = 0\n",
    "    while True:\n",
    "        yield n\n",
    "        n += 1\n",
    "        \n",
    "        \n",
    "numbers = generate_natural_numbers()\n",
    "\n",
    "numbers"
   ]
  },
  {
   "cell_type": "code",
   "execution_count": null,
   "id": "f8376e71",
   "metadata": {
    "slideshow": {
     "slide_type": "subslide"
    }
   },
   "outputs": [],
   "source": [
    "for k in numbers:\n",
    "    print(k)\n",
    "    if k >= 5:\n",
    "        break"
   ]
  },
  {
   "cell_type": "code",
   "execution_count": null,
   "id": "3a605f75",
   "metadata": {
    "slideshow": {
     "slide_type": "subslide"
    }
   },
   "outputs": [],
   "source": [
    "def generate_fibonacci_numbers():\n",
    "    a = 1\n",
    "    b = 1\n",
    "    while True:\n",
    "        yield a\n",
    "        a, b = b, a + b"
   ]
  },
  {
   "cell_type": "code",
   "execution_count": null,
   "id": "925fae80",
   "metadata": {
    "slideshow": {
     "slide_type": "subslide"
    }
   },
   "outputs": [],
   "source": [
    "fibonacci_numbers = generate_fibonacci_numbers()\n",
    "\n",
    "small_fibs = []\n",
    "for f in fibonacci_numbers:\n",
    "    if f > 1000:\n",
    "        break\n",
    "        \n",
    "    small_fibs.append(f)\n",
    "\n",
    "small_fibs"
   ]
  },
  {
   "cell_type": "markdown",
   "id": "0ec0f3d3",
   "metadata": {
    "slideshow": {
     "slide_type": "subslide"
    }
   },
   "source": [
    "Az `itertools` könyvtárban sok olyan érdekes függvény van, ami ilyen véges vagy végtelen generátorok kezelésére van kitalálva."
   ]
  },
  {
   "cell_type": "code",
   "execution_count": null,
   "id": "a6b6020c",
   "metadata": {
    "slideshow": {
     "slide_type": "subslide"
    }
   },
   "outputs": [],
   "source": [
    "import itertools as it"
   ]
  },
  {
   "cell_type": "code",
   "execution_count": null,
   "id": "9689e7be",
   "metadata": {
    "slideshow": {
     "slide_type": "subslide"
    }
   },
   "outputs": [],
   "source": [
    "counter = it.count(0, 9)\n",
    "\n",
    "for k in counter:\n",
    "    if k >= 100:\n",
    "        break\n",
    "        \n",
    "    print(k)"
   ]
  },
  {
   "cell_type": "code",
   "execution_count": null,
   "id": "d806635b",
   "metadata": {
    "slideshow": {
     "slide_type": "subslide"
    }
   },
   "outputs": [],
   "source": [
    "for ix, x in enumerate(it.cycle([1, 2, 3])):\n",
    "    if ix >= 10: \n",
    "        break\n",
    "        \n",
    "    print(x)"
   ]
  },
  {
   "cell_type": "code",
   "execution_count": null,
   "id": "70a8ad69",
   "metadata": {
    "slideshow": {
     "slide_type": "subslide"
    }
   },
   "outputs": [],
   "source": [
    "lst = [[1, 2, 3], [4], [], [5, 6]]\n",
    "\n",
    "for x in it.chain.from_iterable(lst):\n",
    "    print(x)"
   ]
  },
  {
   "cell_type": "code",
   "execution_count": null,
   "id": "9b1c490e",
   "metadata": {
    "slideshow": {
     "slide_type": "subslide"
    }
   },
   "outputs": [],
   "source": [
    "lst = [\"Hel\", \"lo\", \" w\", \"\", \"\", \"orld!\"]\n",
    "\n",
    "for x in it.chain.from_iterable(lst):\n",
    "    print(x)"
   ]
  },
  {
   "cell_type": "code",
   "execution_count": null,
   "id": "61eda07a",
   "metadata": {
    "slideshow": {
     "slide_type": "subslide"
    }
   },
   "outputs": [],
   "source": [
    "for x in it.product([1, 2, 3], repeat=2):\n",
    "    print(x)"
   ]
  },
  {
   "cell_type": "code",
   "execution_count": null,
   "id": "aa0d232a",
   "metadata": {
    "slideshow": {
     "slide_type": "subslide"
    }
   },
   "outputs": [],
   "source": [
    "fibonacci_numbers = generate_fibonacci_numbers()\n",
    "\n",
    "\n",
    "list(it.takewhile(lambda x: x <= 1000, fibonacci_numbers))"
   ]
  },
  {
   "cell_type": "markdown",
   "id": "27f78cd8",
   "metadata": {
    "slideshow": {
     "slide_type": "slide"
    }
   },
   "source": [
    "Feladat: van egy [szám](https://en.wikipedia.org/wiki/Champernowne_constant), ami így van definiálva: 0.12345678910111213141516.... Mi ennek a számnak az egymilliomodik számjegye? (Az első számjegy $0$, a második $1$, stb.)"
   ]
  },
  {
   "cell_type": "markdown",
   "id": "29c22b37",
   "metadata": {
    "slideshow": {
     "slide_type": "fragment"
    }
   },
   "source": [
    "Ötlet: ahogy jönnek a számok egymás után (0, 1, 2, ..., 10, 11, 12, ..., 100, 101, 102, ...), mikor érjük el az $n$-edik számjegyet?"
   ]
  },
  {
   "cell_type": "code",
   "execution_count": null,
   "id": "20607353",
   "metadata": {
    "slideshow": {
     "slide_type": "subslide"
    }
   },
   "outputs": [],
   "source": [
    "# Imperatív stílusú megoldás\n",
    "\n",
    "def calc_digit_imperative(nr_digits):\n",
    "    counted_digits = 0\n",
    "    n = 0\n",
    "    while True:\n",
    "        s = str(n)\n",
    "        if len(s) + counted_digits > nr_digits:\n",
    "            return int(s[nr_digits-counted_digits])\n",
    "        \n",
    "        counted_digits += len(s)\n",
    "        n += 1\n",
    "\n",
    "\n",
    "calc_digit_imperative(999999)"
   ]
  },
  {
   "cell_type": "markdown",
   "id": "0df37e89",
   "metadata": {
    "slideshow": {
     "slide_type": "subslide"
    }
   },
   "source": [
    "Hogy oldottuk meg?\n",
    "\n",
    "* bevezettük egy $n$ **változót** az egész számokra, amelyet folyamatosan növeltünk\n",
    "* egy végtelen **while ciklus**ban iteráltunk, amíg el nem értük a keresett számjegyet\n",
    "* egy **változóban** tároltuk, hogy eddig hány számjegyet láttunk\n",
    "* egy **if feltétel**lel megnéztük, hogy elértük-e már a keresett számjegyet"
   ]
  },
  {
   "cell_type": "code",
   "execution_count": null,
   "id": "2affc803",
   "metadata": {
    "slideshow": {
     "slide_type": "subslide"
    }
   },
   "outputs": [],
   "source": [
    "# Funkcionális stílusú megoldás\n",
    "\n",
    "def calc_digit_functional(nr_digits):\n",
    "    numbers = it.count(0)   # 0, 1, 2, 3, ...\n",
    "    number_strings = map(str, numbers)    # \"0\", \"1\", ... , \"10\", \"11\", ...\n",
    "    digits = it.chain.from_iterable(number_strings)  # \"0\", \"1\", ..., \"1\", \"0\", \"1\", \"1\", ...\n",
    "    result = next(it.islice(digits, nr_digits, nr_digits + 1))\n",
    "    return int(result)\n",
    "\n",
    "\n",
    "calc_digit_functional(999999)"
   ]
  },
  {
   "cell_type": "markdown",
   "id": "608d0f4e",
   "metadata": {
    "slideshow": {
     "slide_type": "subslide"
    }
   },
   "source": [
    "A fenti megoldásban\n",
    "    \n",
    "* nem volt változó\n",
    "* nem volt for/while ciklus\n",
    "* nem volt if-feltétel"
   ]
  },
  {
   "cell_type": "markdown",
   "id": "33e35840",
   "metadata": {
    "slideshow": {
     "slide_type": "subslide"
    }
   },
   "source": [
    "Csak érdekességképpen, a fenti feladat így oldható meg a tisztán funkcionális Haskell nyelven:\n",
    "\n",
    "```Haskell\n",
    "import Data.Char (digitToInt)\n",
    "\n",
    "calcDigit :: Int -> Int\n",
    "calcDigit nrDigits = digitToInt $ concatMap show [0..] !! nrDigits\n",
    "```"
   ]
  },
  {
   "cell_type": "markdown",
   "id": "e0ece196",
   "metadata": {
    "slideshow": {
     "slide_type": "slide"
    }
   },
   "source": [
    "# Mátrixok és vektorok (Matrices and vectors)"
   ]
  },
  {
   "cell_type": "markdown",
   "id": "2f84f0e3",
   "metadata": {
    "slideshow": {
     "slide_type": "subslide"
    }
   },
   "source": [
    "A következőkben a legfontosabb, tudományos számításokra használt könyvtárakat tekintjük át.\n",
    "\n",
    "* numpy\n",
    "* matplotlib\n",
    "* pandas\n",
    "\n",
    "\n",
    "Elsőként a Numpy-al foglakozunk, ami a legalapvetőbb lineáris algebrai könyvtár. Ezek a könyvtárak a hatékonyság miatt elsősorban C/C ++, esetleg Cython-ban implementált függvényekre támaszkodnak, vagyis itt valójában C-szerűen tárolt vektorokról lesz szó, amelyeken lényegében C++ függvények hívódnak meg, mindez elrejtve a felhasználó elől, Python függvényhívások mögé."
   ]
  },
  {
   "cell_type": "markdown",
   "id": "8ff07050",
   "metadata": {
    "slideshow": {
     "slide_type": "subslide"
    }
   },
   "source": [
    "A numpy nem része a Python standard library-nek, azaz installálni kell. Ha Anaconda csomagkezelőnk van, akkor a numpy már valószínűleg telepítve van, egyébként pedig a Python saját `pip` csomagkezelőjével lehet telepíteni, a \n",
    "\n",
    "```\n",
    "pip install numpy\n",
    "```\n",
    "paranccsal. Megadott verziószámú csomagot is lehet telepíteni, ha szükséges.\n",
    "\n",
    "```\n",
    "pip install numpy==1.23.2\n",
    "```"
   ]
  },
  {
   "cell_type": "code",
   "execution_count": null,
   "id": "c59421c4",
   "metadata": {
    "slideshow": {
     "slide_type": "fragment"
    }
   },
   "outputs": [],
   "source": [
    "# A numpy importálására az alábbi konvenciót szokás használni.\n",
    "\n",
    "import numpy as np"
   ]
  },
  {
   "cell_type": "markdown",
   "id": "17ce9afb",
   "metadata": {
    "slideshow": {
     "slide_type": "subslide"
    }
   },
   "source": [
    "A Numpy alapvető adatszerkezete az `ndarray`, ami egy $N$-dimenziós, azonos típusú elemeket tartalmazó, fix méretű tömb.\n",
    "\n",
    "Típus alatt itt elsősorban a C-ből ismert numerikus típusokat értjük, noha lehetséges sztringeket is ilyen tömbbe tenni. A numerikus típusok a hatékonység miatt fontos, a Python lista Python objektumokat tartalmaz, amelyek össze-vissza lehetnek a memóriában, ezzel szemben egy C-tömb (kihasználva, hogy minden elemének ugyanaz a típusa) a memóriának egy összefüggő területét foglalja el.\n",
    "\n",
    "```\n",
    "np.float_, np.float32, np.float64, ...\n",
    "np.int_, np.int32, np.int64, ...\n",
    "np.bool_\n",
    "```\n",
    "\n",
    "Itt a hatékonyság kedvéért le kell mondanunk a tetszőleges hosszúságú Python egészekről."
   ]
  },
  {
   "cell_type": "markdown",
   "id": "f4cb1d3f",
   "metadata": {
    "slideshow": {
     "slide_type": "slide"
    }
   },
   "source": [
    "### Egydimenziós tömbök konstruálása"
   ]
  },
  {
   "cell_type": "code",
   "execution_count": null,
   "id": "4c13a08f",
   "metadata": {
    "slideshow": {
     "slide_type": "subslide"
    }
   },
   "outputs": [],
   "source": [
    "# Tömbök konstruálása\n",
    "\n",
    "v = np.array([1, 1, 2, 3, 5, 8])\n",
    "\n",
    "v"
   ]
  },
  {
   "cell_type": "code",
   "execution_count": null,
   "id": "0d877c37",
   "metadata": {
    "slideshow": {
     "slide_type": "fragment"
    }
   },
   "outputs": [],
   "source": [
    "v.dtype"
   ]
  },
  {
   "cell_type": "code",
   "execution_count": null,
   "id": "41104d3c",
   "metadata": {
    "slideshow": {
     "slide_type": "subslide"
    }
   },
   "outputs": [],
   "source": [
    "v = np.array([1, 1, 2, 3, 5, 8], dtype=np.float_)\n",
    "\n",
    "v"
   ]
  },
  {
   "cell_type": "code",
   "execution_count": null,
   "id": "92060e22",
   "metadata": {
    "slideshow": {
     "slide_type": "fragment"
    }
   },
   "outputs": [],
   "source": [
    "v.dtype"
   ]
  },
  {
   "cell_type": "code",
   "execution_count": null,
   "id": "3fddbc38",
   "metadata": {
    "slideshow": {
     "slide_type": "subslide"
    }
   },
   "outputs": [],
   "source": [
    "# logikai tömb / boolean array\n",
    "\n",
    "v = np.array([0, 1, 0, 0, 1], dtype=np.bool_)\n",
    "\n",
    "v"
   ]
  },
  {
   "cell_type": "code",
   "execution_count": null,
   "id": "3cb8d144",
   "metadata": {
    "slideshow": {
     "slide_type": "subslide"
    }
   },
   "outputs": [],
   "source": [
    "# Explicit type cast\n",
    "\n",
    "v = np.array([0, 1, 0, 0, 1], dtype=np.int_)\n",
    "\n",
    "print(repr(v.astype(np.bool_)))\n",
    "\n",
    "print(repr(v.astype(\"float32\")))"
   ]
  },
  {
   "cell_type": "markdown",
   "id": "bdecb97f",
   "metadata": {
    "slideshow": {
     "slide_type": "slide"
    }
   },
   "source": [
    "### Többdimenziós tömbök konstruálása"
   ]
  },
  {
   "cell_type": "code",
   "execution_count": null,
   "id": "fc944d4e",
   "metadata": {
    "slideshow": {
     "slide_type": "subslide"
    }
   },
   "outputs": [],
   "source": [
    "# az elemeket listák listájaként adhatjuk meg\n",
    "\n",
    "matrix = np.array([[1, 2, 3], [4, 5, 6]])\n",
    "\n",
    "matrix"
   ]
  },
  {
   "cell_type": "code",
   "execution_count": null,
   "id": "d3d47a82",
   "metadata": {
    "slideshow": {
     "slide_type": "fragment"
    }
   },
   "outputs": [],
   "source": [
    "matrix.ndim"
   ]
  },
  {
   "cell_type": "code",
   "execution_count": null,
   "id": "96669453",
   "metadata": {
    "slideshow": {
     "slide_type": "fragment"
    }
   },
   "outputs": [],
   "source": [
    "matrix.shape"
   ]
  },
  {
   "cell_type": "code",
   "execution_count": null,
   "id": "2915f096",
   "metadata": {
    "slideshow": {
     "slide_type": "subslide"
    }
   },
   "outputs": [],
   "source": [
    "# Speciális mátrix konstrukciók\n",
    "\n",
    "A = np.zeros(shape=(3, 3), dtype=np.int_)\n",
    "\n",
    "A"
   ]
  },
  {
   "cell_type": "code",
   "execution_count": null,
   "id": "62349174",
   "metadata": {
    "slideshow": {
     "slide_type": "subslide"
    }
   },
   "outputs": [],
   "source": [
    "B = np.ones(shape=(3, 5), dtype=np.float_)\n",
    "\n",
    "B"
   ]
  },
  {
   "cell_type": "code",
   "execution_count": null,
   "id": "39d14b65",
   "metadata": {
    "slideshow": {
     "slide_type": "subslide"
    }
   },
   "outputs": [],
   "source": [
    "I = np.identity(3)\n",
    "\n",
    "I"
   ]
  },
  {
   "cell_type": "code",
   "execution_count": null,
   "id": "7a74efbc",
   "metadata": {
    "slideshow": {
     "slide_type": "subslide"
    }
   },
   "outputs": [],
   "source": [
    "I = np.eye(4, 3)\n",
    "\n",
    "I"
   ]
  },
  {
   "cell_type": "code",
   "execution_count": null,
   "id": "b7ae14c0",
   "metadata": {
    "slideshow": {
     "slide_type": "subslide"
    }
   },
   "outputs": [],
   "source": [
    "np.arange(10)"
   ]
  },
  {
   "cell_type": "code",
   "execution_count": null,
   "id": "99155089",
   "metadata": {
    "slideshow": {
     "slide_type": "fragment"
    }
   },
   "outputs": [],
   "source": [
    "np.linspace(0, 1, 11)"
   ]
  },
  {
   "cell_type": "code",
   "execution_count": null,
   "id": "18acdaf8",
   "metadata": {
    "slideshow": {
     "slide_type": "fragment"
    }
   },
   "outputs": [],
   "source": [
    "v = np.array([1, 2, 4, 9, -1], dtype=np.float32)\n",
    "\n",
    "z = np.zeros_like(v)\n",
    "z"
   ]
  },
  {
   "cell_type": "code",
   "execution_count": null,
   "id": "f7057df3",
   "metadata": {
    "slideshow": {
     "slide_type": "slide"
    }
   },
   "outputs": [],
   "source": [
    "A = np.array([[1, 2, 3], [4, 5, 6]])"
   ]
  },
  {
   "cell_type": "code",
   "execution_count": null,
   "id": "896f78b1",
   "metadata": {
    "slideshow": {
     "slide_type": "fragment"
    }
   },
   "outputs": [],
   "source": [
    "2 * A"
   ]
  },
  {
   "cell_type": "code",
   "execution_count": null,
   "id": "fbf093bb",
   "metadata": {
    "slideshow": {
     "slide_type": "fragment"
    }
   },
   "outputs": [],
   "source": [
    "2.0 * A"
   ]
  },
  {
   "cell_type": "code",
   "execution_count": null,
   "id": "4e89c129",
   "metadata": {
    "slideshow": {
     "slide_type": "fragment"
    }
   },
   "outputs": [],
   "source": [
    "-A"
   ]
  },
  {
   "cell_type": "code",
   "execution_count": null,
   "id": "f2ead981",
   "metadata": {
    "slideshow": {
     "slide_type": "subslide"
    }
   },
   "outputs": [],
   "source": [
    "# elemenkénti összeadás\n",
    "\n",
    "np.add(A, A)"
   ]
  },
  {
   "cell_type": "code",
   "execution_count": null,
   "id": "4f27ec6e",
   "metadata": {
    "slideshow": {
     "slide_type": "fragment"
    }
   },
   "outputs": [],
   "source": [
    "A + A"
   ]
  },
  {
   "cell_type": "code",
   "execution_count": null,
   "id": "1782cc07",
   "metadata": {
    "slideshow": {
     "slide_type": "subslide"
    }
   },
   "outputs": [],
   "source": [
    "# elemenkénti szorzás\n",
    "\n",
    "np.multiply(A, A)"
   ]
  },
  {
   "cell_type": "code",
   "execution_count": null,
   "id": "e7fad798",
   "metadata": {
    "slideshow": {
     "slide_type": "fragment"
    }
   },
   "outputs": [],
   "source": [
    "A * A"
   ]
  },
  {
   "cell_type": "code",
   "execution_count": null,
   "id": "5def8989",
   "metadata": {
    "slideshow": {
     "slide_type": "slide"
    }
   },
   "outputs": [],
   "source": [
    "B = 2 * np.ones_like(A)\n",
    "\n",
    "B"
   ]
  },
  {
   "cell_type": "code",
   "execution_count": null,
   "id": "3fe29549",
   "metadata": {
    "slideshow": {
     "slide_type": "fragment"
    }
   },
   "outputs": [],
   "source": [
    "# elemenkénti osztás\n",
    "\n",
    "np.divide(A, B)"
   ]
  },
  {
   "cell_type": "code",
   "execution_count": null,
   "id": "52a4d94b",
   "metadata": {
    "slideshow": {
     "slide_type": "fragment"
    }
   },
   "outputs": [],
   "source": [
    "A / B"
   ]
  },
  {
   "cell_type": "code",
   "execution_count": null,
   "id": "ec4c068e",
   "metadata": {
    "slideshow": {
     "slide_type": "subslide"
    }
   },
   "outputs": [],
   "source": [
    "b = np.array([1, 2, 3])\n",
    "\n",
    "\n",
    "print(A.shape)\n",
    "print(b.shape)"
   ]
  },
  {
   "cell_type": "code",
   "execution_count": null,
   "id": "4924df63",
   "metadata": {
    "slideshow": {
     "slide_type": "subslide"
    }
   },
   "outputs": [],
   "source": [
    "# Mátrix-vektor szorzás\n",
    "\n",
    "np.matmul(A, b)"
   ]
  },
  {
   "cell_type": "code",
   "execution_count": null,
   "id": "9e5eb9e2",
   "metadata": {
    "slideshow": {
     "slide_type": "subslide"
    }
   },
   "outputs": [],
   "source": [
    "A @ b"
   ]
  },
  {
   "cell_type": "markdown",
   "id": "acb0168e",
   "metadata": {
    "slideshow": {
     "slide_type": "subslide"
    }
   },
   "source": [
    "Különböző dimenziójú mátrixokkal való műveletek esetén legyünk óvatosak, győződjünk meg arról, hogy az történik, amit szeretnénk."
   ]
  },
  {
   "cell_type": "code",
   "execution_count": null,
   "id": "10ce4b41",
   "metadata": {
    "slideshow": {
     "slide_type": "fragment"
    }
   },
   "outputs": [],
   "source": [
    "# Igazából ez lenne a helyes mátrixszorzás, megfelelő dimenziószámmal\n",
    "A\n",
    "\n",
    "b = np.expand_dims(np.array([1, 2, 3]), 1)\n",
    "\n",
    "b"
   ]
  },
  {
   "cell_type": "code",
   "execution_count": null,
   "id": "2a60afaf",
   "metadata": {
    "slideshow": {
     "slide_type": "fragment"
    }
   },
   "outputs": [],
   "source": [
    "C = np.matmul(A, b)\n",
    "\n",
    "print(C.shape)\n",
    "C"
   ]
  },
  {
   "cell_type": "code",
   "execution_count": null,
   "id": "f85805f9",
   "metadata": {
    "slideshow": {
     "slide_type": "subslide"
    }
   },
   "outputs": [],
   "source": [
    "A"
   ]
  },
  {
   "cell_type": "code",
   "execution_count": null,
   "id": "c352b770",
   "metadata": {
    "slideshow": {
     "slide_type": "fragment"
    }
   },
   "outputs": [],
   "source": [
    "b = np.array([1, 2, 3])\n",
    "\n",
    "b"
   ]
  },
  {
   "cell_type": "code",
   "execution_count": null,
   "id": "c5871660",
   "metadata": {
    "slideshow": {
     "slide_type": "fragment"
    }
   },
   "outputs": [],
   "source": [
    "A / b"
   ]
  },
  {
   "cell_type": "code",
   "execution_count": null,
   "id": "2a312153",
   "metadata": {
    "slideshow": {
     "slide_type": "fragment"
    }
   },
   "outputs": [],
   "source": [
    "A * b"
   ]
  },
  {
   "cell_type": "markdown",
   "id": "5daf151a",
   "metadata": {
    "slideshow": {
     "slide_type": "subslide"
    }
   },
   "source": [
    "A fenti két művelet elementkénti osztás és szorzás, és azért tud végrehajtódni, mert a $b$-ből két példányt véve le tudjuk fedni az $A$ dimenzióját, azaz a $b$ vektor automatikusan kiegészítődőtt saját maga másolatával úgy, hogy a mérete megegyezzen az $A$ méretével (**broadcasting**). A $b = [1, 2, 3]$, egydimenziós $(3,)$ méretű vektorból implicit módon egy $(1, 3)$-mas, ebből pedig egy kétdimenziós, $(2, 3)$-as tömb lett."
   ]
  },
  {
   "cell_type": "code",
   "execution_count": null,
   "id": "b0be92b9",
   "metadata": {
    "slideshow": {
     "slide_type": "fragment"
    }
   },
   "outputs": [],
   "source": [
    "v = np.array([[1], [11]])\n",
    "\n",
    "w = np.array([1, 2, 3, 4, 5, 6])\n",
    "\n",
    "print(v.shape)\n",
    "print(w.shape)\n",
    "\n",
    "w + v"
   ]
  },
  {
   "cell_type": "markdown",
   "id": "84aec641",
   "metadata": {
    "slideshow": {
     "slide_type": "slide"
    }
   },
   "source": [
    "### Indexelés (indexing)"
   ]
  },
  {
   "cell_type": "code",
   "execution_count": null,
   "id": "78cf9d05",
   "metadata": {
    "slideshow": {
     "slide_type": "slide"
    }
   },
   "outputs": [],
   "source": [
    "A = np.array([[1, 2, 3, 4, 5], [10, 20, 30, 40, 50], [9, 8, 7, 6, 5], [1, 0, 1, 0, 1]])\n",
    "\n",
    "A"
   ]
  },
  {
   "cell_type": "code",
   "execution_count": null,
   "id": "07271808",
   "metadata": {
    "slideshow": {
     "slide_type": "fragment"
    }
   },
   "outputs": [],
   "source": [
    "A[1]"
   ]
  },
  {
   "cell_type": "code",
   "execution_count": null,
   "id": "eab894c7",
   "metadata": {
    "slideshow": {
     "slide_type": "fragment"
    }
   },
   "outputs": [],
   "source": [
    "A[1][2]"
   ]
  },
  {
   "cell_type": "code",
   "execution_count": null,
   "id": "c702264a",
   "metadata": {
    "slideshow": {
     "slide_type": "subslide"
    }
   },
   "outputs": [],
   "source": [
    "A[1, 2]"
   ]
  },
  {
   "cell_type": "code",
   "execution_count": null,
   "id": "296cbb79",
   "metadata": {
    "slideshow": {
     "slide_type": "fragment"
    }
   },
   "outputs": [],
   "source": [
    "A[:2, 1:4]"
   ]
  },
  {
   "cell_type": "code",
   "execution_count": null,
   "id": "871145ab",
   "metadata": {
    "slideshow": {
     "slide_type": "fragment"
    }
   },
   "outputs": [],
   "source": [
    "A[:2, :]"
   ]
  },
  {
   "cell_type": "code",
   "execution_count": null,
   "id": "c3af1183",
   "metadata": {
    "slideshow": {
     "slide_type": "subslide"
    }
   },
   "outputs": [],
   "source": [
    "A[0, 0:3] = -1\n",
    "\n",
    "A"
   ]
  },
  {
   "cell_type": "code",
   "execution_count": null,
   "id": "f5f0c42e",
   "metadata": {
    "slideshow": {
     "slide_type": "subslide"
    }
   },
   "outputs": [],
   "source": [
    "A <= 0"
   ]
  },
  {
   "cell_type": "code",
   "execution_count": null,
   "id": "e1ce9ff8",
   "metadata": {
    "slideshow": {
     "slide_type": "fragment"
    }
   },
   "outputs": [],
   "source": [
    "A[A<=0] = 100\n",
    "\n",
    "A"
   ]
  },
  {
   "cell_type": "code",
   "execution_count": null,
   "id": "8f9e3a5b",
   "metadata": {
    "slideshow": {
     "slide_type": "subslide"
    }
   },
   "outputs": [],
   "source": [
    "np.where(A == 100, 0, 1)"
   ]
  },
  {
   "cell_type": "code",
   "execution_count": null,
   "id": "11dd9aaf",
   "metadata": {
    "slideshow": {
     "slide_type": "fragment"
    }
   },
   "outputs": [],
   "source": [
    "np.where(A == 100, 0, A)"
   ]
  },
  {
   "cell_type": "code",
   "execution_count": null,
   "id": "efb82f41",
   "metadata": {
    "slideshow": {
     "slide_type": "subslide"
    }
   },
   "outputs": [],
   "source": [
    "A[[1, 3]]"
   ]
  },
  {
   "cell_type": "code",
   "execution_count": null,
   "id": "55b739d5",
   "metadata": {
    "slideshow": {
     "slide_type": "fragment"
    }
   },
   "outputs": [],
   "source": [
    "A[:, [1, 3]]"
   ]
  },
  {
   "cell_type": "code",
   "execution_count": null,
   "id": "ccd74d26",
   "metadata": {
    "slideshow": {
     "slide_type": "fragment"
    }
   },
   "outputs": [],
   "source": [
    "A[:, [4, 2, 0]]"
   ]
  },
  {
   "cell_type": "markdown",
   "id": "fcce7793",
   "metadata": {
    "slideshow": {
     "slide_type": "slide"
    }
   },
   "source": [
    "### Vektorizált elemenkénti függvények (Vectorized element-wise functions)"
   ]
  },
  {
   "cell_type": "code",
   "execution_count": null,
   "id": "b0e62f6c",
   "metadata": {
    "slideshow": {
     "slide_type": "subslide"
    }
   },
   "outputs": [],
   "source": [
    "v = np.arange(5)\n",
    "\n",
    "v"
   ]
  },
  {
   "cell_type": "code",
   "execution_count": null,
   "id": "a82d6f10",
   "metadata": {
    "slideshow": {
     "slide_type": "fragment"
    }
   },
   "outputs": [],
   "source": [
    "np.square(v)"
   ]
  },
  {
   "cell_type": "code",
   "execution_count": null,
   "id": "2732f263",
   "metadata": {
    "slideshow": {
     "slide_type": "fragment"
    }
   },
   "outputs": [],
   "source": [
    "np.sum(v)"
   ]
  },
  {
   "cell_type": "code",
   "execution_count": null,
   "id": "85eef47b",
   "metadata": {
    "slideshow": {
     "slide_type": "subslide"
    }
   },
   "outputs": [],
   "source": [
    "import random\n",
    "import time\n",
    "\n",
    "random.seed(123)\n",
    "\n",
    "lst = [random.randint(-1000, 1000) for _ in range(1_000_000)]"
   ]
  },
  {
   "cell_type": "code",
   "execution_count": null,
   "id": "01ed8d31",
   "metadata": {
    "slideshow": {
     "slide_type": "subslide"
    }
   },
   "outputs": [],
   "source": [
    "t = time.time()\n",
    "for _ in range(100):\n",
    "    s = sum(lst)\n",
    "    \n",
    "print(time.time() - t)\n",
    "print(s)"
   ]
  },
  {
   "cell_type": "code",
   "execution_count": null,
   "id": "743256db",
   "metadata": {
    "slideshow": {
     "slide_type": "subslide"
    }
   },
   "outputs": [],
   "source": [
    "v = np.array(lst, dtype=np.int32)\n",
    "\n",
    "t = time.time()\n",
    "for _ in range(100):\n",
    "    s = np.sum(v)\n",
    "    \n",
    "print(time.time() - t)\n",
    "print(s)"
   ]
  },
  {
   "cell_type": "code",
   "execution_count": null,
   "id": "04576ead",
   "metadata": {
    "slideshow": {
     "slide_type": "subslide"
    }
   },
   "outputs": [],
   "source": [
    "v = np.arange(30)\n",
    "\n",
    "A = np.reshape(v, (5, 6))    # vagy v.reshape(5, 6)\n",
    "\n",
    "A"
   ]
  },
  {
   "cell_type": "code",
   "execution_count": null,
   "id": "422d76ec",
   "metadata": {
    "slideshow": {
     "slide_type": "subslide"
    }
   },
   "outputs": [],
   "source": [
    "# A.sum()\n",
    "\n",
    "np.sum(A)"
   ]
  },
  {
   "cell_type": "code",
   "execution_count": null,
   "id": "5cf1ad74",
   "metadata": {
    "slideshow": {
     "slide_type": "fragment"
    }
   },
   "outputs": [],
   "source": [
    "# A.sum(axis=0)\n",
    "\n",
    "np.sum(A, axis=0)"
   ]
  },
  {
   "cell_type": "code",
   "execution_count": null,
   "id": "43cc3d2e",
   "metadata": {
    "slideshow": {
     "slide_type": "fragment"
    }
   },
   "outputs": [],
   "source": [
    "np.sum(A, axis=1)"
   ]
  },
  {
   "cell_type": "code",
   "execution_count": null,
   "id": "c7a2c82a",
   "metadata": {
    "slideshow": {
     "slide_type": "subslide"
    }
   },
   "outputs": [],
   "source": [
    "np.sin(A)"
   ]
  },
  {
   "cell_type": "code",
   "execution_count": null,
   "id": "e9ac1458",
   "metadata": {
    "slideshow": {
     "slide_type": "fragment"
    }
   },
   "outputs": [],
   "source": [
    "np.exp(A)"
   ]
  },
  {
   "cell_type": "code",
   "execution_count": null,
   "id": "1e4816ac",
   "metadata": {
    "slideshow": {
     "slide_type": "subslide"
    }
   },
   "outputs": [],
   "source": [
    "np.log(A)"
   ]
  },
  {
   "cell_type": "code",
   "execution_count": null,
   "id": "391a8cb2",
   "metadata": {
    "slideshow": {
     "slide_type": "subslide"
    }
   },
   "outputs": [],
   "source": [
    "A = np.arange(15).reshape(3, 5)\n",
    "\n",
    "B = np.zeros(shape=(3, 5), dtype=np.int_)"
   ]
  },
  {
   "cell_type": "code",
   "execution_count": null,
   "id": "fbaeb778",
   "metadata": {
    "slideshow": {
     "slide_type": "subslide"
    }
   },
   "outputs": [],
   "source": [
    "# np.vstack((A, B))\n",
    "\n",
    "np.concatenate((A, B), axis=0)"
   ]
  },
  {
   "cell_type": "code",
   "execution_count": null,
   "id": "c61d1c74",
   "metadata": {
    "slideshow": {
     "slide_type": "subslide"
    }
   },
   "outputs": [],
   "source": [
    "# np.hstack((A, B))\n",
    "\n",
    "np.concatenate((A, B), axis=1)"
   ]
  },
  {
   "cell_type": "markdown",
   "id": "14efd48d",
   "metadata": {
    "slideshow": {
     "slide_type": "slide"
    }
   },
   "source": [
    "**HF**: Írjuk egy függvényt, mely adott $I=[a, b]\\ (a \\leq b)$ intervallum esetén visszaadja azon Fibonacci számokat, melyek az $I$ intervallumba esnek.\n",
    "\n",
    "```python\n",
    "def calc_fibonacci_numbers_in_interval(a, b):\n",
    "    pass\n",
    "```\n",
    "\n",
    "**HF** Egy adott sztringből távolítsuk el az egymás mellett álló ismétlődő karatereket. Példa: \"kukkkuuuurrrriiiikuuuuuuuu\" -> \"kukuriku\". (Ez már volt korábban. Most keressünk elegánsabb megoldást, pl. az itertools könyvtár függvényeinek segítségével.)\n",
    "\n",
    "```python\n",
    "def remove_consecutive_duplicates(string):\n",
    "    pass\n",
    "```"
   ]
  },
  {
   "cell_type": "markdown",
   "id": "e6c97c44",
   "metadata": {
    "slideshow": {
     "slide_type": "slide"
    }
   },
   "source": [
    "**HF**: Írjunk egy `Polynomial` osztályt, ahol a polinomot tároljuk el, mint az együtthatóinak listáját.\n",
    "```Python\n",
    "class Polynomial:\n",
    "    def __init__(self, *coefficients):\n",
    "        self.coefficients = coefficients\n",
    "\n",
    "p = Polynomial(1, 0, -3)    # -> x^2 - 3\n",
    "q = Polynomial(2, 0, 3, 1)  # -> 2x^3 + 3x + 1\n",
    "```\n",
    "\n",
    "Implementáljuk két ilyen polinom összeadását (azaz írjuk meg az `__add__` metódust, valamint az `__str__`-t is, hogy lássuk, mi egy ilyen osztálypéldány tartalma)."
   ]
  }
 ],
 "metadata": {
  "celltoolbar": "Slideshow",
  "kernelspec": {
   "display_name": "Python 3 (ipykernel)",
   "language": "python",
   "name": "python3"
  },
  "language_info": {
   "codemirror_mode": {
    "name": "ipython",
    "version": 3
   },
   "file_extension": ".py",
   "mimetype": "text/x-python",
   "name": "python",
   "nbconvert_exporter": "python",
   "pygments_lexer": "ipython3",
   "version": "3.9.12"
  }
 },
 "nbformat": 4,
 "nbformat_minor": 5
}
