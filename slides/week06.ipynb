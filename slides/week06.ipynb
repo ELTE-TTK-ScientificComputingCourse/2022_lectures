{
 "cells": [
  {
   "cell_type": "markdown",
   "id": "f7517666",
   "metadata": {
    "slideshow": {
     "slide_type": "slide"
    }
   },
   "source": [
    "# Objektum-orientált programozás II. (OOP, part 2) "
   ]
  },
  {
   "cell_type": "markdown",
   "id": "8b00058b",
   "metadata": {
    "slideshow": {
     "slide_type": "slide"
    }
   },
   "source": [
    "## Operátor-túlterhelés, mágikus osztálymetódusok (operator overloading, magic methods)"
   ]
  },
  {
   "cell_type": "markdown",
   "id": "b7379d52",
   "metadata": {
    "slideshow": {
     "slide_type": "subslide"
    }
   },
   "source": [
    "Ha definálok egy adatszerkezetet, amelyek adattárolásra használt, akkor hogyan tudjuk a műveleteket kiterjeszteni rájuk?\n",
    "\n",
    "Például ha van egy komplex számokat, vagy racionális számokat tartalmazó osztályom, akkor jó lenne, ha ugyanazokat a műveleti jelekkel tudnám definiálni az összegüket, szorzatukat, mint amiket a hagyományos számok közötti műveletek során használunk."
   ]
  },
  {
   "cell_type": "code",
   "execution_count": 1,
   "id": "0c9a16a8",
   "metadata": {
    "slideshow": {
     "slide_type": "slide"
    }
   },
   "outputs": [],
   "source": [
    "class Rational:\n",
    "    pass"
   ]
  },
  {
   "cell_type": "markdown",
   "id": "e8c4313a",
   "metadata": {
    "slideshow": {
     "slide_type": "subslide"
    }
   },
   "source": [
    "Mire van szükség:\n",
    "\n",
    "* számláló, nevező\n",
    "* egyszerűsíteni is kell\n",
    "* ellentett\n",
    "* 4 alapművelet\n",
    "* logikai értéket is rendelhetünk hozzá\n",
    "* olvasható sztring-reprezentáció"
   ]
  },
  {
   "cell_type": "code",
   "execution_count": 2,
   "id": "6d738c7e",
   "metadata": {
    "slideshow": {
     "slide_type": "subslide"
    }
   },
   "outputs": [],
   "source": [
    "class Rational:\n",
    "    def __init__(self, n, m):\n",
    "        self.n = n\n",
    "        self.m = m "
   ]
  },
  {
   "cell_type": "code",
   "execution_count": 3,
   "id": "3ab8a17d",
   "metadata": {
    "slideshow": {
     "slide_type": "subslide"
    }
   },
   "outputs": [
    {
     "name": "stdout",
     "output_type": "stream",
     "text": [
      "<__main__.Rational object at 0x7f9735fec340>\n"
     ]
    }
   ],
   "source": [
    "r = Rational(1, 2)\n",
    "\n",
    "print(r)"
   ]
  },
  {
   "cell_type": "code",
   "execution_count": 4,
   "id": "747578c8",
   "metadata": {
    "slideshow": {
     "slide_type": "subslide"
    }
   },
   "outputs": [],
   "source": [
    "class Rational:\n",
    "    def __init__(self, n, m):\n",
    "        self.n = n\n",
    "        self.m = m\n",
    "        \n",
    "    def __repr__(self):\n",
    "        return f\"{self.n} / {self.m}\"        "
   ]
  },
  {
   "cell_type": "code",
   "execution_count": 5,
   "id": "86f23cd7",
   "metadata": {
    "slideshow": {
     "slide_type": "subslide"
    }
   },
   "outputs": [
    {
     "data": {
      "text/plain": [
       "1 / 2"
      ]
     },
     "execution_count": 5,
     "metadata": {},
     "output_type": "execute_result"
    }
   ],
   "source": [
    "r = Rational(1, 2)\n",
    "\n",
    "r"
   ]
  },
  {
   "cell_type": "code",
   "execution_count": 6,
   "id": "d8749811",
   "metadata": {
    "slideshow": {
     "slide_type": "subslide"
    }
   },
   "outputs": [],
   "source": [
    "class Rational:\n",
    "    def __init__(self, n, m):\n",
    "        self.n = n\n",
    "        self.m = m\n",
    "        \n",
    "    def __str__(self):\n",
    "        return f\"{self.n} / {self.m}\" "
   ]
  },
  {
   "cell_type": "code",
   "execution_count": 7,
   "id": "d97d0ab9",
   "metadata": {
    "slideshow": {
     "slide_type": "fragment"
    }
   },
   "outputs": [
    {
     "name": "stdout",
     "output_type": "stream",
     "text": [
      "1 / 2\n"
     ]
    },
    {
     "data": {
      "text/plain": [
       "<__main__.Rational at 0x7f9735fec910>"
      ]
     },
     "execution_count": 7,
     "metadata": {},
     "output_type": "execute_result"
    }
   ],
   "source": [
    "r = Rational(1, 2)\n",
    "\n",
    "\n",
    "print(r)\n",
    "r"
   ]
  },
  {
   "cell_type": "code",
   "execution_count": 8,
   "id": "0ea4e3fb",
   "metadata": {
    "slideshow": {
     "slide_type": "subslide"
    }
   },
   "outputs": [
    {
     "name": "stdout",
     "output_type": "stream",
     "text": [
      "5 / 10\n"
     ]
    }
   ],
   "source": [
    "r = Rational(5, 10)\n",
    "\n",
    "print(r)"
   ]
  },
  {
   "cell_type": "code",
   "execution_count": 9,
   "id": "7fd5266e",
   "metadata": {
    "slideshow": {
     "slide_type": "subslide"
    }
   },
   "outputs": [],
   "source": [
    "import math\n",
    "\n",
    "\n",
    "class Rational:\n",
    "    def __init__(self, n, m):\n",
    "        gcd = math.gcd(n, m)\n",
    "        \n",
    "        self.n = n // gcd\n",
    "        self.m = m // gcd\n",
    "        \n",
    "    def __repr__(self):\n",
    "        return f\"{self.n} / {self.m}\""
   ]
  },
  {
   "cell_type": "code",
   "execution_count": 10,
   "id": "558e2ee7",
   "metadata": {
    "slideshow": {
     "slide_type": "fragment"
    }
   },
   "outputs": [
    {
     "data": {
      "text/plain": [
       "1 / 2"
      ]
     },
     "execution_count": 10,
     "metadata": {},
     "output_type": "execute_result"
    }
   ],
   "source": [
    "r = Rational(5, 10)\n",
    "\n",
    "r"
   ]
  },
  {
   "cell_type": "code",
   "execution_count": 11,
   "id": "8b88f4f6",
   "metadata": {
    "slideshow": {
     "slide_type": "subslide"
    }
   },
   "outputs": [
    {
     "ename": "TypeError",
     "evalue": "bad operand type for unary -: 'Rational'",
     "output_type": "error",
     "traceback": [
      "\u001b[0;31m---------------------------------------------------------------------------\u001b[0m",
      "\u001b[0;31mTypeError\u001b[0m                                 Traceback (most recent call last)",
      "Input \u001b[0;32mIn [11]\u001b[0m, in \u001b[0;36m<cell line: 3>\u001b[0;34m()\u001b[0m\n\u001b[1;32m      1\u001b[0m \u001b[38;5;66;03m# Ez működik?\u001b[39;00m\n\u001b[0;32m----> 3\u001b[0m \u001b[38;5;241;43m-\u001b[39;49m\u001b[43mr\u001b[49m\n",
      "\u001b[0;31mTypeError\u001b[0m: bad operand type for unary -: 'Rational'"
     ]
    }
   ],
   "source": [
    "# Ez működik?\n",
    "\n",
    "-r"
   ]
  },
  {
   "cell_type": "code",
   "execution_count": 12,
   "id": "eb7cc89c",
   "metadata": {
    "slideshow": {
     "slide_type": "subslide"
    }
   },
   "outputs": [],
   "source": [
    "class Rational:\n",
    "    def __init__(self, n, m):\n",
    "        d = math.gcd(n, m)\n",
    "        \n",
    "        self.n = n // d\n",
    "        self.m = m // d\n",
    "        \n",
    "    def __repr__(self):\n",
    "        return f\"{self.n} / {self.m}\"\n",
    "    \n",
    "    def __neg__(self):\n",
    "        return Rational(-self.n, self.m)"
   ]
  },
  {
   "cell_type": "code",
   "execution_count": 13,
   "id": "2a29fc67",
   "metadata": {
    "slideshow": {
     "slide_type": "fragment"
    }
   },
   "outputs": [
    {
     "data": {
      "text/plain": [
       "-1 / 2"
      ]
     },
     "execution_count": 13,
     "metadata": {},
     "output_type": "execute_result"
    }
   ],
   "source": [
    "r = Rational(1, 2)\n",
    "q = -r\n",
    "\n",
    "q"
   ]
  },
  {
   "cell_type": "code",
   "execution_count": 14,
   "id": "6021aa52",
   "metadata": {
    "slideshow": {
     "slide_type": "subslide"
    }
   },
   "outputs": [
    {
     "ename": "TypeError",
     "evalue": "unsupported operand type(s) for +: 'Rational' and 'Rational'",
     "output_type": "error",
     "traceback": [
      "\u001b[0;31m---------------------------------------------------------------------------\u001b[0m",
      "\u001b[0;31mTypeError\u001b[0m                                 Traceback (most recent call last)",
      "Input \u001b[0;32mIn [14]\u001b[0m, in \u001b[0;36m<cell line: 4>\u001b[0;34m()\u001b[0m\n\u001b[1;32m      1\u001b[0m p \u001b[38;5;241m=\u001b[39m Rational(\u001b[38;5;241m1\u001b[39m, \u001b[38;5;241m2\u001b[39m)\n\u001b[1;32m      2\u001b[0m q \u001b[38;5;241m=\u001b[39m Rational(\u001b[38;5;241m1\u001b[39m, \u001b[38;5;241m3\u001b[39m)\n\u001b[0;32m----> 4\u001b[0m \u001b[43mp\u001b[49m\u001b[43m \u001b[49m\u001b[38;5;241;43m+\u001b[39;49m\u001b[43m \u001b[49m\u001b[43mq\u001b[49m\n",
      "\u001b[0;31mTypeError\u001b[0m: unsupported operand type(s) for +: 'Rational' and 'Rational'"
     ]
    }
   ],
   "source": [
    "p = Rational(1, 2)\n",
    "q = Rational(1, 3)\n",
    "\n",
    "p + q"
   ]
  },
  {
   "cell_type": "code",
   "execution_count": 15,
   "id": "f73b73ad",
   "metadata": {
    "slideshow": {
     "slide_type": "subslide"
    }
   },
   "outputs": [],
   "source": [
    "class Rational:\n",
    "    def __init__(self, n, m):\n",
    "        d = math.gcd(n, m)\n",
    "        \n",
    "        self.n = n // d\n",
    "        self.m = m // d\n",
    "        \n",
    "    def __repr__(self):\n",
    "        return f\"{self.n} / {self.m}\"\n",
    "    \n",
    "    def __neg__(self):\n",
    "        return Rational(-self.n, self.m)\n",
    "    \n",
    "    def __add__(self, other):\n",
    "        return Rational(self.n * other.m + self.m * other.n, self.m * other.m)"
   ]
  },
  {
   "cell_type": "code",
   "execution_count": 16,
   "id": "a73945eb",
   "metadata": {
    "slideshow": {
     "slide_type": "subslide"
    }
   },
   "outputs": [
    {
     "data": {
      "text/plain": [
       "5 / 6"
      ]
     },
     "execution_count": 16,
     "metadata": {},
     "output_type": "execute_result"
    }
   ],
   "source": [
    "p = Rational(1, 2)\n",
    "q = Rational(1, 3)\n",
    "\n",
    "p + q"
   ]
  },
  {
   "cell_type": "code",
   "execution_count": 17,
   "id": "76905005",
   "metadata": {
    "slideshow": {
     "slide_type": "subslide"
    }
   },
   "outputs": [],
   "source": [
    "class Rational:\n",
    "    def __init__(self, n, m):\n",
    "        d = math.gcd(n, m)\n",
    "        \n",
    "        self.n = n // d\n",
    "        self.m = m // d\n",
    "        \n",
    "    def __repr__(self):\n",
    "        return f\"{self.n} / {self.m}\"\n",
    "    \n",
    "    def __neg__(self):\n",
    "        return Rational(-self.n, self.m)\n",
    "    \n",
    "    def __add__(self, other):\n",
    "        return Rational(self.n * other.m + self.m * other.n, self.m * other.m)\n",
    "    \n",
    "    def __sub__(self, other):\n",
    "        return self + (-other)"
   ]
  },
  {
   "cell_type": "code",
   "execution_count": 18,
   "id": "45f4c39e",
   "metadata": {
    "slideshow": {
     "slide_type": "subslide"
    }
   },
   "outputs": [
    {
     "data": {
      "text/plain": [
       "1 / 6"
      ]
     },
     "execution_count": 18,
     "metadata": {},
     "output_type": "execute_result"
    }
   ],
   "source": [
    "p = Rational(1, 2)\n",
    "q = Rational(1, 3)\n",
    "\n",
    "p - q"
   ]
  },
  {
   "cell_type": "code",
   "execution_count": 19,
   "id": "81bfcaaa",
   "metadata": {
    "slideshow": {
     "slide_type": "subslide"
    }
   },
   "outputs": [
    {
     "ename": "TypeError",
     "evalue": "bad operand type for abs(): 'Rational'",
     "output_type": "error",
     "traceback": [
      "\u001b[0;31m---------------------------------------------------------------------------\u001b[0m",
      "\u001b[0;31mTypeError\u001b[0m                                 Traceback (most recent call last)",
      "Input \u001b[0;32mIn [19]\u001b[0m, in \u001b[0;36m<cell line: 1>\u001b[0;34m()\u001b[0m\n\u001b[0;32m----> 1\u001b[0m \u001b[38;5;28;43mabs\u001b[39;49m\u001b[43m(\u001b[49m\u001b[43mp\u001b[49m\u001b[43m)\u001b[49m\n",
      "\u001b[0;31mTypeError\u001b[0m: bad operand type for abs(): 'Rational'"
     ]
    }
   ],
   "source": [
    "abs(p)"
   ]
  },
  {
   "cell_type": "markdown",
   "id": "aa42164a",
   "metadata": {
    "slideshow": {
     "slide_type": "fragment"
    }
   },
   "source": [
    "**HF**: Nézzünk utána, hogy a szorzást és osztás milyen duplaaláhúzásos mágikus metódussal lehet implementálni. Esetleg az abszolútérték-függvényt ki tudjuk-e terjeszteni a racionális számokra?"
   ]
  },
  {
   "cell_type": "markdown",
   "id": "8ce2b8aa",
   "metadata": {
    "slideshow": {
     "slide_type": "subslide"
    }
   },
   "source": [
    "Racionális számok esetén ugyan nincs értelme a `len` függvénynek, de általában a `len` függvény is úgy működik, hogy megnézi, hogy az inputnak van-e definiálva a `__len__` metódusa.\n",
    "\n",
    "Ezeken a mágikus osztálymetódusokon keresztül lehet kiterjeszteni bizonyos beépített függvényeket általunk definiált adatszerkezetekre."
   ]
  },
  {
   "cell_type": "code",
   "execution_count": 20,
   "id": "efe9d073",
   "metadata": {
    "slideshow": {
     "slide_type": "fragment"
    }
   },
   "outputs": [
    {
     "data": {
      "text/plain": [
       "3"
      ]
     },
     "execution_count": 20,
     "metadata": {},
     "output_type": "execute_result"
    }
   ],
   "source": [
    "# Emlékeztető:\n",
    "\n",
    "lst = [1, 2, 3]\n",
    "\n",
    "lst.__len__()  #  <=> len(lst)"
   ]
  },
  {
   "cell_type": "markdown",
   "id": "e8e37a41",
   "metadata": {
    "slideshow": {
     "slide_type": "subslide"
    }
   },
   "source": [
    "A Rational osztály implementálása során láttunk néhány mágikus osztálymetódust. Ezek között szerepeltek azok, melyekkel az operátorokat (összeadás, kivonás, osztás, szorzás) túl lehet terhelni, azaz két Rational példány között is értelmessé tehető a `+` operátor (és a többi is). \n",
    "\n",
    "A következőkben néhány újabb mágikus metódust tekintünk át, amelyekről érdemes lehet tudni."
   ]
  },
  {
   "cell_type": "code",
   "execution_count": 21,
   "id": "1453e07b",
   "metadata": {
    "slideshow": {
     "slide_type": "subslide"
    }
   },
   "outputs": [],
   "source": [
    "class Circle:\n",
    "    def __init__(self, radius):\n",
    "        self.radius = radius"
   ]
  },
  {
   "cell_type": "code",
   "execution_count": 22,
   "id": "5ae4e688",
   "metadata": {
    "slideshow": {
     "slide_type": "subslide"
    }
   },
   "outputs": [
    {
     "data": {
      "text/plain": [
       "3"
      ]
     },
     "execution_count": 22,
     "metadata": {},
     "output_type": "execute_result"
    }
   ],
   "source": [
    "c1 = Circle(1)\n",
    "c2 = Circle(2)\n",
    "c3 = Circle(1)\n",
    "\n",
    "circles = {c1, c2, c3}\n",
    "\n",
    "len(circles)"
   ]
  },
  {
   "cell_type": "code",
   "execution_count": 23,
   "id": "579f7ba4",
   "metadata": {
    "slideshow": {
     "slide_type": "subslide"
    }
   },
   "outputs": [
    {
     "name": "stdout",
     "output_type": "stream",
     "text": [
      "<__main__.Circle object at 0x7f973545c490>\n",
      "<__main__.Circle object at 0x7f973548c2b0>\n",
      "<__main__.Circle object at 0x7f973548c760>\n"
     ]
    }
   ],
   "source": [
    "for circle in circles:\n",
    "    print(circle)"
   ]
  },
  {
   "cell_type": "code",
   "execution_count": 24,
   "id": "60eed90b",
   "metadata": {
    "slideshow": {
     "slide_type": "subslide"
    }
   },
   "outputs": [],
   "source": [
    "class Circle:\n",
    "    def __init__(self, radius):\n",
    "        self.radius = radius\n",
    "        \n",
    "    def __repr__(self):\n",
    "        return f\"Circle({self.radius})\""
   ]
  },
  {
   "cell_type": "code",
   "execution_count": 25,
   "id": "5146f31f",
   "metadata": {
    "slideshow": {
     "slide_type": "subslide"
    }
   },
   "outputs": [
    {
     "name": "stdout",
     "output_type": "stream",
     "text": [
      "Circle(1)\n",
      "Circle(2)\n",
      "Circle(1)\n"
     ]
    },
    {
     "data": {
      "text/plain": [
       "3"
      ]
     },
     "execution_count": 25,
     "metadata": {},
     "output_type": "execute_result"
    }
   ],
   "source": [
    "c1 = Circle(1)\n",
    "c2 = Circle(2)\n",
    "c3 = Circle(1)\n",
    "\n",
    "circles = {c1, c2, c3}\n",
    "\n",
    "for circle in circles:\n",
    "    print(circle)\n",
    "\n",
    "    \n",
    "len(circles)"
   ]
  },
  {
   "cell_type": "markdown",
   "id": "43000b5d",
   "metadata": {
    "slideshow": {
     "slide_type": "slide"
    }
   },
   "source": [
    "Valahogy meg kell mondanunk, hogy mikor tekintünk két osztálypéldányt egyenlőnek, illetve különbözőnek, mert különben csak az objektumok azonosságakor lesz egyenlő két kör, holott én két azonos sugarú kört is egyenlőnek szeretnék tekinteni."
   ]
  },
  {
   "cell_type": "code",
   "execution_count": 26,
   "id": "bae661f1",
   "metadata": {
    "slideshow": {
     "slide_type": "subslide"
    }
   },
   "outputs": [],
   "source": [
    "class Circle:\n",
    "    def __init__(self, radius):\n",
    "        self.radius = radius\n",
    "        \n",
    "    def __repr__(self):\n",
    "        return f\"Circle({self.radius})\"\n",
    "    \n",
    "    def __eq__(self, other):\n",
    "        return self.radius == other.radius"
   ]
  },
  {
   "cell_type": "code",
   "execution_count": 27,
   "id": "a944f6c1",
   "metadata": {
    "slideshow": {
     "slide_type": "subslide"
    }
   },
   "outputs": [
    {
     "ename": "TypeError",
     "evalue": "unhashable type: 'Circle'",
     "output_type": "error",
     "traceback": [
      "\u001b[0;31m---------------------------------------------------------------------------\u001b[0m",
      "\u001b[0;31mTypeError\u001b[0m                                 Traceback (most recent call last)",
      "Input \u001b[0;32mIn [27]\u001b[0m, in \u001b[0;36m<cell line: 6>\u001b[0;34m()\u001b[0m\n\u001b[1;32m      2\u001b[0m c2 \u001b[38;5;241m=\u001b[39m Circle(\u001b[38;5;241m2\u001b[39m)\n\u001b[1;32m      3\u001b[0m c3 \u001b[38;5;241m=\u001b[39m Circle(\u001b[38;5;241m1\u001b[39m)\n\u001b[0;32m----> 6\u001b[0m circles \u001b[38;5;241m=\u001b[39m {c1, c2, c3}\n\u001b[1;32m      7\u001b[0m \u001b[38;5;28mlen\u001b[39m(circles)\n",
      "\u001b[0;31mTypeError\u001b[0m: unhashable type: 'Circle'"
     ]
    }
   ],
   "source": [
    "c1 = Circle(1)\n",
    "c2 = Circle(2)\n",
    "c3 = Circle(1)\n",
    "\n",
    "\n",
    "circles = {c1, c2, c3}\n",
    "len(circles)"
   ]
  },
  {
   "cell_type": "markdown",
   "id": "b6fe5cbb",
   "metadata": {
    "slideshow": {
     "slide_type": "slide"
    }
   },
   "source": [
    "Amint azt említettük korábban, Pythonban a halmaz adatszerkezet hashtáblával van implementálva, azaz minden elemet egy hash-függvénnyel leképezünk (\"el-hash-elünk\") egy egész számra. Itt most a Python nem tudja, hogy egy `Circle` objektumot hogyan kell hash-elni. A `Circle` objektum milyen attribútumai, leírói legyenek a hashfüggvény inputjai?"
   ]
  },
  {
   "cell_type": "code",
   "execution_count": 28,
   "id": "5ccf8a74",
   "metadata": {
    "slideshow": {
     "slide_type": "subslide"
    }
   },
   "outputs": [],
   "source": [
    "class Circle:\n",
    "    def __init__(self, radius):\n",
    "        self.radius = radius\n",
    "        \n",
    "    def __repr__(self):\n",
    "        return f\"Circle({self.radius})\"\n",
    "    \n",
    "    def __eq__(self, other):\n",
    "        return self.radius == other.radius\n",
    "    \n",
    "    def __hash__(self):\n",
    "        # Használjuk egyszerűen a beépített `hash` nevű függvényt\n",
    "        return hash(self.radius)"
   ]
  },
  {
   "cell_type": "code",
   "execution_count": 29,
   "id": "2abe4495",
   "metadata": {
    "slideshow": {
     "slide_type": "subslide"
    }
   },
   "outputs": [
    {
     "data": {
      "text/plain": [
       "2"
      ]
     },
     "execution_count": 29,
     "metadata": {},
     "output_type": "execute_result"
    }
   ],
   "source": [
    "c1 = Circle(1)\n",
    "c2 = Circle(2)\n",
    "c3 = Circle(1)\n",
    "\n",
    "circles = {c1, c2, c3}\n",
    "len(circles)"
   ]
  },
  {
   "cell_type": "code",
   "execution_count": 30,
   "id": "b471166d",
   "metadata": {
    "slideshow": {
     "slide_type": "fragment"
    }
   },
   "outputs": [
    {
     "data": {
      "text/plain": [
       "{Circle(1), Circle(2)}"
      ]
     },
     "execution_count": 30,
     "metadata": {},
     "output_type": "execute_result"
    }
   ],
   "source": [
    "circles"
   ]
  },
  {
   "cell_type": "markdown",
   "id": "d7213492",
   "metadata": {
    "slideshow": {
     "slide_type": "slide"
    }
   },
   "source": [
    "Mi az, ami még hiányzik a racionális számokból? Tudjuk, hogy a racionális számok testet alkotnak, azaz a négy alapművelet értelmezett a körükben. Emelett még rendezés is definiált, azaz van értelme a `<`, `<=`, stb. relációknak. Definiáljuk ezeket is a beépített mágikus metódusok segítségével!"
   ]
  },
  {
   "cell_type": "code",
   "execution_count": 31,
   "id": "e1608ae4",
   "metadata": {
    "slideshow": {
     "slide_type": "subslide"
    }
   },
   "outputs": [],
   "source": [
    "import math\n",
    "\n",
    "\n",
    "class Rational:\n",
    "    def __init__(self, n, m):\n",
    "        d = math.gcd(n, m)\n",
    "        \n",
    "        self.n = n // d\n",
    "        self.m = m // d\n",
    "        \n",
    "    def __repr__(self):\n",
    "        return f\"{self.n} / {self.m}\""
   ]
  },
  {
   "cell_type": "code",
   "execution_count": 32,
   "id": "487aa63b",
   "metadata": {
    "slideshow": {
     "slide_type": "subslide"
    }
   },
   "outputs": [
    {
     "data": {
      "text/plain": [
       "False"
      ]
     },
     "execution_count": 32,
     "metadata": {},
     "output_type": "execute_result"
    }
   ],
   "source": [
    "p = Rational(1, 2)\n",
    "q = Rational(1, 3)\n",
    "\n",
    "p == q"
   ]
  },
  {
   "cell_type": "code",
   "execution_count": 33,
   "id": "1b8477e3",
   "metadata": {
    "slideshow": {
     "slide_type": "subslide"
    }
   },
   "outputs": [
    {
     "data": {
      "text/plain": [
       "False"
      ]
     },
     "execution_count": 33,
     "metadata": {},
     "output_type": "execute_result"
    }
   ],
   "source": [
    "p = Rational(1, 2)\n",
    "q = Rational(1, 2)\n",
    "\n",
    "p == q"
   ]
  },
  {
   "cell_type": "code",
   "execution_count": 34,
   "id": "8e0630ef",
   "metadata": {
    "slideshow": {
     "slide_type": "subslide"
    }
   },
   "outputs": [],
   "source": [
    "class Rational:\n",
    "    def __init__(self, n, m):\n",
    "        d = math.gcd(n, m)\n",
    "        \n",
    "        self.n = n // d\n",
    "        self.m = m // d\n",
    "        \n",
    "    def __repr__(self):\n",
    "        return f\"{self.n} / {self.m}\"\n",
    "    \n",
    "    def __eq__(self, other):\n",
    "        return self.n * other.m == self.m * other.n"
   ]
  },
  {
   "cell_type": "code",
   "execution_count": 35,
   "id": "e7419815",
   "metadata": {
    "slideshow": {
     "slide_type": "subslide"
    }
   },
   "outputs": [
    {
     "data": {
      "text/plain": [
       "True"
      ]
     },
     "execution_count": 35,
     "metadata": {},
     "output_type": "execute_result"
    }
   ],
   "source": [
    "p = Rational(1, 2)\n",
    "q = Rational(2, 4)\n",
    "\n",
    "p == q"
   ]
  },
  {
   "cell_type": "code",
   "execution_count": 36,
   "id": "94c28d9e",
   "metadata": {
    "slideshow": {
     "slide_type": "subslide"
    }
   },
   "outputs": [
    {
     "ename": "TypeError",
     "evalue": "'<' not supported between instances of 'Rational' and 'Rational'",
     "output_type": "error",
     "traceback": [
      "\u001b[0;31m---------------------------------------------------------------------------\u001b[0m",
      "\u001b[0;31mTypeError\u001b[0m                                 Traceback (most recent call last)",
      "Input \u001b[0;32mIn [36]\u001b[0m, in \u001b[0;36m<cell line: 4>\u001b[0;34m()\u001b[0m\n\u001b[1;32m      1\u001b[0m p \u001b[38;5;241m=\u001b[39m Rational(\u001b[38;5;241m1\u001b[39m, \u001b[38;5;241m3\u001b[39m)\n\u001b[1;32m      2\u001b[0m q \u001b[38;5;241m=\u001b[39m Rational(\u001b[38;5;241m2\u001b[39m, \u001b[38;5;241m5\u001b[39m)\n\u001b[0;32m----> 4\u001b[0m \u001b[43mp\u001b[49m\u001b[43m \u001b[49m\u001b[38;5;241;43m<\u001b[39;49m\u001b[43m \u001b[49m\u001b[43mq\u001b[49m\n",
      "\u001b[0;31mTypeError\u001b[0m: '<' not supported between instances of 'Rational' and 'Rational'"
     ]
    }
   ],
   "source": [
    "p = Rational(1, 3)\n",
    "q = Rational(2, 5)\n",
    "\n",
    "p < q"
   ]
  },
  {
   "cell_type": "code",
   "execution_count": 37,
   "id": "7bcb0b03",
   "metadata": {
    "slideshow": {
     "slide_type": "fragment"
    }
   },
   "outputs": [
    {
     "ename": "TypeError",
     "evalue": "'<' not supported between instances of 'Rational' and 'Rational'",
     "output_type": "error",
     "traceback": [
      "\u001b[0;31m---------------------------------------------------------------------------\u001b[0m",
      "\u001b[0;31mTypeError\u001b[0m                                 Traceback (most recent call last)",
      "Input \u001b[0;32mIn [37]\u001b[0m, in \u001b[0;36m<cell line: 1>\u001b[0;34m()\u001b[0m\n\u001b[0;32m----> 1\u001b[0m \u001b[38;5;28;43msorted\u001b[39;49m\u001b[43m(\u001b[49m\u001b[43m[\u001b[49m\u001b[43mRational\u001b[49m\u001b[43m(\u001b[49m\u001b[38;5;241;43m1\u001b[39;49m\u001b[43m,\u001b[49m\u001b[43m \u001b[49m\u001b[38;5;241;43m2\u001b[39;49m\u001b[43m)\u001b[49m\u001b[43m,\u001b[49m\u001b[43m \u001b[49m\u001b[43mRational\u001b[49m\u001b[43m(\u001b[49m\u001b[38;5;241;43m1\u001b[39;49m\u001b[43m,\u001b[49m\u001b[43m \u001b[49m\u001b[38;5;241;43m3\u001b[39;49m\u001b[43m)\u001b[49m\u001b[43m,\u001b[49m\u001b[43m \u001b[49m\u001b[43mRational\u001b[49m\u001b[43m(\u001b[49m\u001b[38;5;241;43m2\u001b[39;49m\u001b[43m,\u001b[49m\u001b[43m \u001b[49m\u001b[38;5;241;43m5\u001b[39;49m\u001b[43m)\u001b[49m\u001b[43m]\u001b[49m\u001b[43m)\u001b[49m\n",
      "\u001b[0;31mTypeError\u001b[0m: '<' not supported between instances of 'Rational' and 'Rational'"
     ]
    }
   ],
   "source": [
    "sorted([Rational(1, 2), Rational(1, 3), Rational(2, 5)])"
   ]
  },
  {
   "cell_type": "code",
   "execution_count": 38,
   "id": "6062c7b7",
   "metadata": {
    "slideshow": {
     "slide_type": "subslide"
    }
   },
   "outputs": [],
   "source": [
    "class Rational:\n",
    "    def __init__(self, n, m):\n",
    "        d = math.gcd(n, m)\n",
    "        \n",
    "        self.n = n // d\n",
    "        self.m = m // d\n",
    "        \n",
    "    def __repr__(self):\n",
    "        return f\"{self.n} / {self.m}\"\n",
    "    \n",
    "    def __eq__(self, other):\n",
    "        return self.n * other.m == self.m * other.n\n",
    "    \n",
    "    def __lt__(self, other):\n",
    "        if self.m * other.m > 0:\n",
    "            return self.n * other.m < self.m * other.n\n",
    "        \n",
    "        return self.n * other.m > self.m * other.n"
   ]
  },
  {
   "cell_type": "code",
   "execution_count": 39,
   "id": "e06d4d90",
   "metadata": {
    "slideshow": {
     "slide_type": "subslide"
    }
   },
   "outputs": [
    {
     "data": {
      "text/plain": [
       "True"
      ]
     },
     "execution_count": 39,
     "metadata": {},
     "output_type": "execute_result"
    }
   ],
   "source": [
    "Rational(1, 2) < Rational(2, 3)"
   ]
  },
  {
   "cell_type": "code",
   "execution_count": 40,
   "id": "c4ee8b41",
   "metadata": {
    "slideshow": {
     "slide_type": "fragment"
    }
   },
   "outputs": [
    {
     "data": {
      "text/plain": [
       "False"
      ]
     },
     "execution_count": 40,
     "metadata": {},
     "output_type": "execute_result"
    }
   ],
   "source": [
    "Rational(1, 2) < Rational(-2, 3)"
   ]
  },
  {
   "cell_type": "code",
   "execution_count": 41,
   "id": "64a75eec",
   "metadata": {
    "slideshow": {
     "slide_type": "fragment"
    }
   },
   "outputs": [
    {
     "data": {
      "text/plain": [
       "False"
      ]
     },
     "execution_count": 41,
     "metadata": {},
     "output_type": "execute_result"
    }
   ],
   "source": [
    "Rational(-1, 2) < Rational(-2, 3)"
   ]
  },
  {
   "cell_type": "code",
   "execution_count": 42,
   "id": "729bd51c",
   "metadata": {
    "slideshow": {
     "slide_type": "fragment"
    }
   },
   "outputs": [
    {
     "data": {
      "text/plain": [
       "[1 / 3, 2 / 5, 1 / 2]"
      ]
     },
     "execution_count": 42,
     "metadata": {},
     "output_type": "execute_result"
    }
   ],
   "source": [
    "sorted([Rational(1, 2), Rational(1, 3), Rational(2, 5)])"
   ]
  },
  {
   "cell_type": "markdown",
   "id": "5cea625c",
   "metadata": {
    "slideshow": {
     "slide_type": "slide"
    }
   },
   "source": [
    "## Öröklődés (inheritance)"
   ]
  },
  {
   "cell_type": "markdown",
   "id": "e024c5ee",
   "metadata": {
    "slideshow": {
     "slide_type": "slide"
    }
   },
   "source": [
    "Ezt a témát csak röviden érintjük. A nagy OOP nyelvekben az öröklődés egy központi jelentőségű téma, de itt most ezen az órán csak érintőlegesen beszélünk róla.\n",
    "\n",
    "Gyakran fordul elő olyan helyzet, amikor valamilyen hierarchiába rendezhető osztályaink vannak. Pl. lehet egy `Person` osztályunk, amely emberekről tárol valamilyen attribútumokat, és lehet egy `Student` osztály is, amely hallgatók adatait tárolja. Mivel minden `Student` egyben egy `Person` is, ezért a `Person`-ban definiált attribútumok, metódusok egyben minden `Student` számára értelmesek, és ezeket nem kell újra definiálnunk, hanem megmondhatjuk, hogy a `Student` osztály örökölje meg a `Person` osztály metódusait.\n",
    "\n",
    "Arra is van lehetőség, hogy a megörökölt metódusokat az adott al-osztályban (subclass) felülírjuk (override)."
   ]
  },
  {
   "cell_type": "markdown",
   "id": "de589f6e",
   "metadata": {
    "slideshow": {
     "slide_type": "slide"
    }
   },
   "source": [
    "Az első rövid példánkban a téglalapokat tároló `Rectangle` osztályt definiáljuk, melynek van egy `area` property-je. Minden négyzet egyben egy téglalap, ezért a négyzeteket tároló `Square` osztály leszármazik a `Rectangle` osztályból."
   ]
  },
  {
   "cell_type": "code",
   "execution_count": 43,
   "id": "f98ca11e",
   "metadata": {
    "slideshow": {
     "slide_type": "subslide"
    }
   },
   "outputs": [],
   "source": [
    "class Rectangle:\n",
    "    def __init__(self, width, height):\n",
    "        self.width = width\n",
    "        self.height = height\n",
    "        \n",
    "    @property\n",
    "    def area(self):\n",
    "        return self.width * self.height\n",
    "    \n",
    "    \n",
    "    \n",
    "class Square(Rectangle):\n",
    "    def __init__(self, side_length):\n",
    "        pass"
   ]
  },
  {
   "cell_type": "code",
   "execution_count": 44,
   "id": "e1019e66",
   "metadata": {
    "slideshow": {
     "slide_type": "subslide"
    }
   },
   "outputs": [
    {
     "ename": "AttributeError",
     "evalue": "'Square' object has no attribute 'width'",
     "output_type": "error",
     "traceback": [
      "\u001b[0;31m---------------------------------------------------------------------------\u001b[0m",
      "\u001b[0;31mAttributeError\u001b[0m                            Traceback (most recent call last)",
      "Input \u001b[0;32mIn [44]\u001b[0m, in \u001b[0;36m<cell line: 3>\u001b[0;34m()\u001b[0m\n\u001b[1;32m      1\u001b[0m s \u001b[38;5;241m=\u001b[39m Square(\u001b[38;5;241m10\u001b[39m)\n\u001b[0;32m----> 3\u001b[0m \u001b[43ms\u001b[49m\u001b[38;5;241;43m.\u001b[39;49m\u001b[43marea\u001b[49m\n",
      "Input \u001b[0;32mIn [43]\u001b[0m, in \u001b[0;36mRectangle.area\u001b[0;34m(self)\u001b[0m\n\u001b[1;32m      6\u001b[0m \u001b[38;5;129m@property\u001b[39m\n\u001b[1;32m      7\u001b[0m \u001b[38;5;28;01mdef\u001b[39;00m \u001b[38;5;21marea\u001b[39m(\u001b[38;5;28mself\u001b[39m):\n\u001b[0;32m----> 8\u001b[0m     \u001b[38;5;28;01mreturn\u001b[39;00m \u001b[38;5;28;43mself\u001b[39;49m\u001b[38;5;241;43m.\u001b[39;49m\u001b[43mwidth\u001b[49m \u001b[38;5;241m*\u001b[39m \u001b[38;5;28mself\u001b[39m\u001b[38;5;241m.\u001b[39mheight\n",
      "\u001b[0;31mAttributeError\u001b[0m: 'Square' object has no attribute 'width'"
     ]
    }
   ],
   "source": [
    "s = Square(10)\n",
    "\n",
    "s.area"
   ]
  },
  {
   "cell_type": "code",
   "execution_count": 45,
   "id": "9ee49e11",
   "metadata": {
    "slideshow": {
     "slide_type": "subslide"
    }
   },
   "outputs": [],
   "source": [
    "# Meg kell hívni az ős-osztály __init__ metódusát\n",
    "\n",
    "class Square(Rectangle):\n",
    "    def __init__(self, side_length):\n",
    "        super().__init__(side_length, side_length)"
   ]
  },
  {
   "cell_type": "code",
   "execution_count": 46,
   "id": "7eb5d6a3",
   "metadata": {
    "slideshow": {
     "slide_type": "fragment"
    }
   },
   "outputs": [
    {
     "data": {
      "text/plain": [
       "100"
      ]
     },
     "execution_count": 46,
     "metadata": {},
     "output_type": "execute_result"
    }
   ],
   "source": [
    "s = Square(10)\n",
    "\n",
    "s.area"
   ]
  },
  {
   "cell_type": "code",
   "execution_count": 47,
   "id": "7858e10a",
   "metadata": {
    "slideshow": {
     "slide_type": "subslide"
    }
   },
   "outputs": [],
   "source": [
    "class Rectangle:\n",
    "    def __init__(self, width, height):\n",
    "        self.width = width\n",
    "        self.height = height\n",
    "        \n",
    "    def __repr__(self):\n",
    "        return f\"I am a Rectangle({self.width}, {self.height})!\"\n",
    "        \n",
    "    @property\n",
    "    def area(self):\n",
    "        return self.width * self.height\n",
    "    \n",
    "    \n",
    "    \n",
    "class Square(Rectangle):\n",
    "    def __init__(self, side_length):\n",
    "        super().__init__(side_length, side_length)"
   ]
  },
  {
   "cell_type": "code",
   "execution_count": 48,
   "id": "632d63e1",
   "metadata": {
    "slideshow": {
     "slide_type": "subslide"
    }
   },
   "outputs": [
    {
     "data": {
      "text/plain": [
       "I am a Rectangle(10, 10)!"
      ]
     },
     "execution_count": 48,
     "metadata": {},
     "output_type": "execute_result"
    }
   ],
   "source": [
    "s = Square(10)\n",
    "\n",
    "s"
   ]
  },
  {
   "cell_type": "code",
   "execution_count": 49,
   "id": "5d7e03d2",
   "metadata": {
    "slideshow": {
     "slide_type": "slide"
    }
   },
   "outputs": [],
   "source": [
    "class Rectangle:\n",
    "    def __init__(self, width, height):\n",
    "        self.width = width\n",
    "        self.height = height\n",
    "        \n",
    "    def __repr__(self):\n",
    "        return f\"I am a Rectangle({self.width}, {self.height})!\"\n",
    "        \n",
    "    @property\n",
    "    def area(self):\n",
    "        return self.width * self.height\n",
    "    \n",
    "    \n",
    "    \n",
    "class Square(Rectangle):\n",
    "    def __init__(self, side_length):\n",
    "        super().__init__(side_length, side_length)\n",
    "        \n",
    "    def __repr__(self):\n",
    "        return f\"I am a Square({self.width})!\""
   ]
  },
  {
   "cell_type": "code",
   "execution_count": 50,
   "id": "ca009cad",
   "metadata": {
    "slideshow": {
     "slide_type": "subslide"
    }
   },
   "outputs": [
    {
     "name": "stdout",
     "output_type": "stream",
     "text": [
      "I am a Rectangle(10, 20)!\n",
      "I am a Square(10)!\n"
     ]
    }
   ],
   "source": [
    "r = Rectangle(10, 20)\n",
    "print(r)\n",
    "\n",
    "\n",
    "s = Square(10)\n",
    "print(s)"
   ]
  },
  {
   "cell_type": "code",
   "execution_count": 51,
   "id": "a4e81bb2",
   "metadata": {},
   "outputs": [
    {
     "name": "stdout",
     "output_type": "stream",
     "text": [
      "<class '__main__.Square'>\n",
      "True\n",
      "True\n",
      "False\n",
      "True\n"
     ]
    }
   ],
   "source": [
    "print(type(s))\n",
    "\n",
    "print(isinstance(s, Square))\n",
    "print(isinstance(s, Rectangle))\n",
    "print(isinstance(s, Circle))\n",
    "\n",
    "print(issubclass(Square, Rectangle))"
   ]
  },
  {
   "cell_type": "markdown",
   "id": "b2a9a031",
   "metadata": {
    "slideshow": {
     "slide_type": "slide"
    }
   },
   "source": [
    "A beépített adatszerkezeteknél is láthatunk öröklődést. Például a korábban látott `Counter` osztály definíciója így kezdődik:\n",
    "```python\n",
    "class Counter(dict):\n",
    "    pass\n",
    "```\n",
    "azaz a `Counter` osztály leszármazik a `dict` osztályból, vagyis egy Counter egyben egy `dict` is. Pythonban lehetséges a többszörös öröklődés is, azonban ebbe az irányba már nem megyünk tovább."
   ]
  },
  {
   "cell_type": "code",
   "execution_count": 52,
   "id": "9ce4245f",
   "metadata": {
    "slideshow": {
     "slide_type": "slide"
    }
   },
   "outputs": [
    {
     "data": {
      "text/plain": [
       "3*x + 1"
      ]
     },
     "execution_count": 52,
     "metadata": {},
     "output_type": "execute_result"
    }
   ],
   "source": [
    "# az y = mx + b egyenes megadható így:\n",
    "\n",
    "class LinearPolynomial:\n",
    "    def __init__(self, m, b):\n",
    "        self.m = m\n",
    "        self.b = b\n",
    "        \n",
    "    def __repr__(self):        \n",
    "        return f\"{self.m}*x + {self.b}\"\n",
    "\n",
    "\n",
    "p = LinearPolynomial(3, 1)\n",
    "p"
   ]
  },
  {
   "cell_type": "code",
   "execution_count": 53,
   "id": "22934ef1",
   "metadata": {
    "slideshow": {
     "slide_type": "subslide"
    }
   },
   "outputs": [
    {
     "ename": "TypeError",
     "evalue": "'LinearPolynomial' object is not callable",
     "output_type": "error",
     "traceback": [
      "\u001b[0;31m---------------------------------------------------------------------------\u001b[0m",
      "\u001b[0;31mTypeError\u001b[0m                                 Traceback (most recent call last)",
      "Input \u001b[0;32mIn [53]\u001b[0m, in \u001b[0;36m<cell line: 3>\u001b[0;34m()\u001b[0m\n\u001b[1;32m      1\u001b[0m \u001b[38;5;66;03m# Egy polinom egyben függvény is, nem?\u001b[39;00m\n\u001b[0;32m----> 3\u001b[0m \u001b[43mp\u001b[49m\u001b[43m(\u001b[49m\u001b[38;5;241;43m10\u001b[39;49m\u001b[43m)\u001b[49m\n",
      "\u001b[0;31mTypeError\u001b[0m: 'LinearPolynomial' object is not callable"
     ]
    }
   ],
   "source": [
    "# Egy polinom egyben függvény is, nem?\n",
    "\n",
    "p(10)"
   ]
  },
  {
   "cell_type": "code",
   "execution_count": 54,
   "id": "77b12e5f",
   "metadata": {
    "slideshow": {
     "slide_type": "subslide"
    }
   },
   "outputs": [
    {
     "data": {
      "text/plain": [
       "31"
      ]
     },
     "execution_count": 54,
     "metadata": {},
     "output_type": "execute_result"
    }
   ],
   "source": [
    "class LinearPolynomial:\n",
    "    def __init__(self, m, b):\n",
    "        self.m = m\n",
    "        self.b = b\n",
    "        \n",
    "    def __repr__(self):\n",
    "        return f\"{self.m}*x + {self.b}\"\n",
    "    \n",
    "    def __call__(self, x_0):\n",
    "        return self.m * x_0 + self.b\n",
    "\n",
    "    \n",
    "    \n",
    "p = LinearPolynomial(3, 1)\n",
    "p(10)"
   ]
  },
  {
   "cell_type": "markdown",
   "id": "5c746ef4",
   "metadata": {
    "slideshow": {
     "slide_type": "slide"
    }
   },
   "source": [
    "A Python egy *batteries included* nyelv, ami azt jelenti, hogy a standard library rendkívül széleskörűen kidolgozott, sok feladatot meg lehet oldani pusztán a beépített könyvtárak segítségével. Például a `Rational` osztály valójában már meg van írva benne, csak máshogy hívják."
   ]
  },
  {
   "cell_type": "code",
   "execution_count": 55,
   "id": "cb176d95",
   "metadata": {
    "slideshow": {
     "slide_type": "subslide"
    }
   },
   "outputs": [],
   "source": [
    "# Modulok importját is láttuk már korábbról\n",
    "\n",
    "import fractions"
   ]
  },
  {
   "cell_type": "code",
   "execution_count": 56,
   "id": "7a4e73c2",
   "metadata": {
    "slideshow": {
     "slide_type": "fragment"
    }
   },
   "outputs": [
    {
     "name": "stdout",
     "output_type": "stream",
     "text": [
      "1/3\n"
     ]
    }
   ],
   "source": [
    "p = fractions.Fraction(1, 3)\n",
    "\n",
    "print(p)"
   ]
  },
  {
   "cell_type": "code",
   "execution_count": 57,
   "id": "9cc50b7c",
   "metadata": {
    "slideshow": {
     "slide_type": "subslide"
    }
   },
   "outputs": [
    {
     "name": "stdout",
     "output_type": "stream",
     "text": [
      "1/2\n"
     ]
    }
   ],
   "source": [
    "from fractions import Fraction\n",
    "\n",
    "p = Fraction(2, 4)\n",
    "print(p)"
   ]
  },
  {
   "cell_type": "code",
   "execution_count": 58,
   "id": "68a2e0b8",
   "metadata": {
    "slideshow": {
     "slide_type": "subslide"
    }
   },
   "outputs": [
    {
     "name": "stdout",
     "output_type": "stream",
     "text": [
      "3.5\n",
      "7.0\n"
     ]
    }
   ],
   "source": [
    "import statistics as st\n",
    "\n",
    "lst = [1, 2, 4, 7]\n",
    "\n",
    "print(st.mean(lst))\n",
    "print(st.variance(lst))"
   ]
  },
  {
   "cell_type": "code",
   "execution_count": 59,
   "id": "c7975046",
   "metadata": {
    "slideshow": {
     "slide_type": "subslide"
    }
   },
   "outputs": [
    {
     "data": {
      "text/plain": [
       "120"
      ]
     },
     "execution_count": 59,
     "metadata": {},
     "output_type": "execute_result"
    }
   ],
   "source": [
    "import math\n",
    "\n",
    "\n",
    "def factorial(n):\n",
    "    return math.prod(range(1, n+1))\n",
    "\n",
    "\n",
    "factorial(5)"
   ]
  },
  {
   "cell_type": "markdown",
   "id": "306c8252",
   "metadata": {
    "slideshow": {
     "slide_type": "slide"
    }
   },
   "source": [
    "Milyen beépített modulok vannak Pythonban?\n",
    "\n",
    "[The Python Standard Library](https://docs.python.org/3.9/library/index.html)"
   ]
  },
  {
   "cell_type": "markdown",
   "id": "ab40d37c",
   "metadata": {
    "slideshow": {
     "slide_type": "slide"
    }
   },
   "source": [
    "A leggyakrabban használtak:\n",
    "\n",
    "* datetime (dátumok, idő reprezentálása)"
   ]
  },
  {
   "cell_type": "markdown",
   "id": "aaa25f46",
   "metadata": {
    "slideshow": {
     "slide_type": "slide"
    }
   },
   "source": [
    "Pl. 1000 nap múlva hányadika lesz?"
   ]
  },
  {
   "cell_type": "code",
   "execution_count": 60,
   "id": "9d377fee",
   "metadata": {
    "slideshow": {
     "slide_type": "fragment"
    }
   },
   "outputs": [
    {
     "data": {
      "text/plain": [
       "datetime.datetime(2025, 6, 29, 18, 20, 40, 787095)"
      ]
     },
     "execution_count": 60,
     "metadata": {},
     "output_type": "execute_result"
    }
   ],
   "source": [
    "from datetime import datetime, timedelta\n",
    "\n",
    "\n",
    "later = datetime.now() + timedelta(days=1000)\n",
    "later"
   ]
  },
  {
   "cell_type": "markdown",
   "id": "5cd7a29e",
   "metadata": {
    "slideshow": {
     "slide_type": "slide"
    }
   },
   "source": [
    "* **datetime** (dátumok, idő reprezentálása)\n",
    "* **collections** (néhány adatszerkezet)\n",
    "* **math** (matematikai függvények)\n",
    "* **random** (véletlenszámok valamilyen eloszlásból)\n",
    "* **itertools** (iterátorok, \"lusta kiértékelésű\" adatszerkezetek, erre hamarosan visszatérünk)\n",
    "* **pathlib** (fájl és folder elérési utak kezelése)\n",
    "* **os** (operációs rendszerhez kapcsolódó függvények)\n",
    "* **json** (json formátumú fájlok olvasása/írása)\n",
    "* **csv** (csv-formátumú fájlok írása/olvasása)\n",
    "\n",
    "és még egy csomó más (sys, multiprocessing, time, dataclasses, io, gzip, tarfile, tempfile, copy, heapq, bisect, functools, etc.)"
   ]
  },
  {
   "cell_type": "markdown",
   "id": "3eebc079",
   "metadata": {
    "slideshow": {
     "slide_type": "slide"
    }
   },
   "source": [
    "Ezenkívül vannak azok a könyvtárak, amelyek nem részei a standard library-nek, de valamilyen csomagkezelővel installálhatók (pl. pip-pel).\n",
    "\n",
    "* **numpy** (lineáris algebra, mátrixok, vektorok)\n",
    "* **scipy** (mérnöki számítások, jelfeldolgozás, differenciálegyenletek, integrálás, interpoláció, stb)\n",
    "* **pandas** (táblázatos adatok manipulációja, kezelése, ezeken való számítások)\n",
    "* **matplotlib** (vizualizáció)\n",
    "* **scikit-learn** (gépi tanulás könyvtár)\n",
    "\n",
    "\n",
    "* **tensorflow** (a Google által fejlesztett deep learning könyvtár)\n",
    "* **pytorch** (a Facebook által fejlesztett deep learning könyvtár)\n",
    "\n",
    "\n",
    "* **pyspark** (elosztott számításokra alkalmas gépi tanulás könyvtár)\n",
    "\n",
    "\n",
    "* **nltk** (természetesnyelv-feldolgozás könyvtár, NLP)\n",
    "* **spacy** (természetesnyelv-feldolgozás könyvtár, NLP)"
   ]
  }
 ],
 "metadata": {
  "celltoolbar": "Slideshow",
  "kernelspec": {
   "display_name": "Python 3 (ipykernel)",
   "language": "python",
   "name": "python3"
  },
  "language_info": {
   "codemirror_mode": {
    "name": "ipython",
    "version": 3
   },
   "file_extension": ".py",
   "mimetype": "text/x-python",
   "name": "python",
   "nbconvert_exporter": "python",
   "pygments_lexer": "ipython3",
   "version": "3.9.12"
  }
 },
 "nbformat": 4,
 "nbformat_minor": 5
}
