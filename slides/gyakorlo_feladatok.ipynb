{
 "cells": [
  {
   "cell_type": "markdown",
   "id": "79e8b368",
   "metadata": {},
   "source": [
    "Az alábbi feladatok megoldásához írjunk egy függvényt, amely a megadott inputra kiszámolja a helyes eredményt."
   ]
  },
  {
   "cell_type": "markdown",
   "id": "fb1e3925",
   "metadata": {},
   "source": [
    "#### Adott egy számokat tartalmazó lista, számoljuk ki a pozitív elemek összegét."
   ]
  },
  {
   "cell_type": "code",
   "execution_count": null,
   "id": "61064666",
   "metadata": {},
   "outputs": [],
   "source": [
    "def sum_of_positive_elements(lst):\n",
    "    pass"
   ]
  },
  {
   "cell_type": "markdown",
   "id": "6065e139",
   "metadata": {},
   "source": [
    "#### Adott ascii-karakterekből álló stringben számoljuk meg a magánhangzók számát (magánhangzó alatt az `a, e, i, o, u` betűket értjük)"
   ]
  },
  {
   "cell_type": "code",
   "execution_count": null,
   "id": "80629187",
   "metadata": {},
   "outputs": [],
   "source": [
    "def count_vowels(s):\n",
    "    pass"
   ]
  },
  {
   "cell_type": "markdown",
   "id": "113c0529",
   "metadata": {},
   "source": [
    "#### Adott egy számokat tartalmazó $a$ lista és egy $n\\in\\mathbb{N}$ szám. Számoljuk ki a lista $n$-edik elemének $n$-edik hatványát. Ha a listának nincs $n$ eleme, akkor adjunk vissza `None`-t."
   ]
  },
  {
   "cell_type": "code",
   "execution_count": null,
   "id": "0b51d394",
   "metadata": {},
   "outputs": [],
   "source": [
    "def nth_power_of_nth_element(lst):\n",
    "    pass"
   ]
  },
  {
   "cell_type": "markdown",
   "id": "8d4f08e9",
   "metadata": {},
   "source": [
    "#### Adott $n$-re mennyi az $1 \\leq k \\leq n$, 3-mal vagy 5-tel osztható $k$ számok összege?"
   ]
  },
  {
   "cell_type": "code",
   "execution_count": null,
   "id": "f044bd1c",
   "metadata": {},
   "outputs": [],
   "source": [
    "def sum_of_numbers(n):\n",
    "    pass"
   ]
  },
  {
   "cell_type": "markdown",
   "id": "59e5fd85",
   "metadata": {},
   "source": [
    "#### Adott $n$ természetes szám esetén állítsuk elő azt a stringet, amit ha kiprintelünk, akkor egy $n\\times n$-es, \"+\"-karakterekből álló négyzetet kapunk. \n",
    "\n",
    "Például $n=3$-ra egy olyan `s` string az eredmény, hogy `print(s)` az alábbi alakzatot eredményezi:\n",
    "\n",
    "+++\\\n",
    "+++\\\n",
    "+++"
   ]
  },
  {
   "cell_type": "code",
   "execution_count": null,
   "id": "fc73a9d6",
   "metadata": {},
   "outputs": [],
   "source": [
    "def create_square_string(n):\n",
    "    pass"
   ]
  },
  {
   "cell_type": "markdown",
   "id": "716eedbb",
   "metadata": {},
   "source": [
    "#### Gyűjtsük ki egy adott lista különböző elemeit egy másik listába, az előfordulásuk sorrendjében."
   ]
  },
  {
   "cell_type": "code",
   "execution_count": null,
   "id": "7794206a",
   "metadata": {},
   "outputs": [],
   "source": [
    "def unique_elements(lst):\n",
    "    pass"
   ]
  }
 ],
 "metadata": {
  "kernelspec": {
   "display_name": "Python 3 (ipykernel)",
   "language": "python",
   "name": "python3"
  },
  "language_info": {
   "codemirror_mode": {
    "name": "ipython",
    "version": 3
   },
   "file_extension": ".py",
   "mimetype": "text/x-python",
   "name": "python",
   "nbconvert_exporter": "python",
   "pygments_lexer": "ipython3",
   "version": "3.9.12"
  }
 },
 "nbformat": 4,
 "nbformat_minor": 5
}
